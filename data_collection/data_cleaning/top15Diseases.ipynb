{
 "cells": [
  {
   "cell_type": "code",
   "execution_count": 1,
   "metadata": {},
   "outputs": [],
   "source": [
    "import pandas as pd \n",
    "import numpy as np \n",
    "import matplotlib.pyplot as plt"
   ]
  },
  {
   "cell_type": "code",
   "execution_count": 2,
   "metadata": {},
   "outputs": [],
   "source": [
    "data = pd.read_csv('D:/Schools/Capstone Project/Dataset/DiseaseAndSymptoms.csv')"
   ]
  },
  {
   "cell_type": "markdown",
   "metadata": {},
   "source": [
    "**Find the 15 Diseases with the Most Symptoms**"
   ]
  },
  {
   "cell_type": "code",
   "execution_count": 3,
   "metadata": {},
   "outputs": [],
   "source": [
    "# Count the non-null symptoms in each row\n",
    "data['Symptom_Count'] = data.iloc[:, 1:].notna().sum(axis=1)\n",
    "\n",
    "# Aggregate these counts by disease to find the average number of symptoms per disease\n",
    "avg_symptoms_per_disease = data.groupby('Disease')['Symptom_Count'].mean()"
   ]
  },
  {
   "cell_type": "code",
   "execution_count": 4,
   "metadata": {},
   "outputs": [
    {
     "name": "stdout",
     "output_type": "stream",
     "text": [
      "Top 15 diseases by average number of symptoms:\n",
      "Disease\n",
      "Common Cold        16.60\n",
      "Tuberculosis       15.60\n",
      "Dengue             13.55\n",
      "Hypothyroidism     12.60\n",
      "Hepatitis E        12.60\n",
      "Hepatitis B        11.60\n",
      "Hypoglycemia       11.60\n",
      "Hyperthyroidism    10.60\n",
      "hepatitis A        10.60\n",
      "Pneumonia          10.60\n",
      "Typhoid            10.60\n",
      "Chicken pox        10.55\n",
      "Diabetes            9.60\n",
      "Migraine            8.55\n",
      "Hepatitis D         8.55\n",
      "Name: Symptom_Count, dtype: float64\n"
     ]
    }
   ],
   "source": [
    "# Get the top 10 diseases with the highest average symptom count\n",
    "top_diseases = avg_symptoms_per_disease.sort_values(ascending=False).head(15)\n",
    "print(\"Top 15 diseases by average number of symptoms:\")\n",
    "print(top_diseases)"
   ]
  },
  {
   "cell_type": "markdown",
   "metadata": {},
   "source": [
    "**Drop all other diseases and only take those top 15**"
   ]
  },
  {
   "cell_type": "code",
   "execution_count": 5,
   "metadata": {},
   "outputs": [],
   "source": [
    "top_15_diseases = ['Common Cold', 'Tubercolosis',\n",
    "                    'Dengue', 'Hypothyroidism', \n",
    "                    'Hepatitis E', 'Hepatitis B', \n",
    "                    'Hypoglycemia', 'Hyperthyroidism', \n",
    "                    'hepatitis A', 'Pneumonia', \n",
    "                    'Typhoid', 'Chicken pox', 'Diabetes', \n",
    "                    'Migraine', 'Hepatitis D ']"
   ]
  },
  {
   "cell_type": "code",
   "execution_count": 6,
   "metadata": {},
   "outputs": [
    {
     "data": {
      "text/plain": [
       "(1440, 19)"
      ]
     },
     "execution_count": 6,
     "metadata": {},
     "output_type": "execute_result"
    }
   ],
   "source": [
    "new_data = data[data['Disease'].isin(top_15_diseases)]\n",
    "\n",
    "new_data.shape"
   ]
  },
  {
   "cell_type": "code",
   "execution_count": 8,
   "metadata": {},
   "outputs": [],
   "source": [
    "# Save the filtered dataset to a new CSV file\n",
    "new_data.to_csv('D:/Schools/Capstone Project/Project/Capstone-Project-I/data_collection/data/Top15diseases.csv', index=False)"
   ]
  }
 ],
 "metadata": {
  "kernelspec": {
   "display_name": "Python 3",
   "language": "python",
   "name": "python3"
  },
  "language_info": {
   "codemirror_mode": {
    "name": "ipython",
    "version": 3
   },
   "file_extension": ".py",
   "mimetype": "text/x-python",
   "name": "python",
   "nbconvert_exporter": "python",
   "pygments_lexer": "ipython3",
   "version": "3.11.7"
  }
 },
 "nbformat": 4,
 "nbformat_minor": 2
}
