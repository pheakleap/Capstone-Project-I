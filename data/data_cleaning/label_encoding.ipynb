{
 "cells": [
  {
   "cell_type": "code",
   "execution_count": 3,
   "metadata": {},
   "outputs": [],
   "source": [
    "import pandas as pd \n",
    "from sklearn.preprocessing import LabelEncoder\n",
    "\n",
    "\n",
    "df = pd.read_csv(\"D:/Schools/Capstone Project/Project/Capstone-Project-I/data/raw/DiseaseAndSymptoms.csv\")\n"
   ]
  },
  {
   "cell_type": "code",
   "execution_count": 4,
   "metadata": {},
   "outputs": [
    {
     "name": "stdout",
     "output_type": "stream",
     "text": [
      "Label encoding completed and saved as 'DiseaseAndSymptoms_LabelEncoded.csv'\n"
     ]
    }
   ],
   "source": [
    "# Create a LabelEncoder instance\n",
    "label_encoder = LabelEncoder()\n",
    "\n",
    "# Apply label encoding to the 'Disease' column\n",
    "df[\"Disease_LabelEncoded\"] = label_encoder.fit_transform(df[\"Disease\"])\n",
    "\n",
    "# Save the label-encoded dataset\n",
    "df.to_csv(\"DiseaseAndSymptoms_LabelEncoded.csv\", index=False)\n",
    "\n",
    "print(\"Label encoding completed and saved as 'DiseaseAndSymptoms_LabelEncoded.csv'\")"
   ]
  }
 ],
 "metadata": {
  "kernelspec": {
   "display_name": "Python 3",
   "language": "python",
   "name": "python3"
  },
  "language_info": {
   "codemirror_mode": {
    "name": "ipython",
    "version": 3
   },
   "file_extension": ".py",
   "mimetype": "text/x-python",
   "name": "python",
   "nbconvert_exporter": "python",
   "pygments_lexer": "ipython3",
   "version": "3.11.7"
  }
 },
 "nbformat": 4,
 "nbformat_minor": 2
}
