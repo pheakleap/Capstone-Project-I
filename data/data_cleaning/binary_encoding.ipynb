{
 "cells": [
  {
   "cell_type": "code",
   "execution_count": 2,
   "metadata": {},
   "outputs": [
    {
     "name": "stdout",
     "output_type": "stream",
     "text": [
      "Number of unique diseases: 41\n"
     ]
    }
   ],
   "source": [
    "import pandas as pd\n",
    "\n",
    "# Load the dataset\n",
    "df = pd.read_csv(\"D:/Schools/Capstone Project/Project/Capstone-Project-I/data/raw/DiseaseAndSymptoms.csv\")\n",
    "\n",
    "# Count unique diseases\n",
    "num_unique_diseases = df[\"Disease\"].nunique()\n",
    "\n",
    "print(\"Number of unique diseases:\", num_unique_diseases)"
   ]
  },
  {
   "cell_type": "code",
   "execution_count": 4,
   "metadata": {},
   "outputs": [
    {
     "name": "stdout",
     "output_type": "stream",
     "text": [
      "Binary encoding for symptoms completed and saved as 'DiseaseAndSymptoms_BinarySymptoms.csv'\n"
     ]
    }
   ],
   "source": [
    "# Get unique symptoms\n",
    "unique_symptoms = pd.unique(df.iloc[:, 1:].values.ravel())  # Flatten symptom columns\n",
    "unique_symptoms = list(filter(lambda x: pd.notna(x), unique_symptoms))  # Convert to list & remove NaN values\n",
    "\n",
    "# Create a new binary matrix for symptoms\n",
    "binary_encoded_symptoms = pd.DataFrame(0, index=df.index, columns=unique_symptoms)\n",
    "\n",
    "# Fill in 1s where symptoms are present for each disease\n",
    "for i, row in df.iterrows():\n",
    "    symptoms = row[1:].dropna().values  # Extract non-null symptoms\n",
    "    binary_encoded_symptoms.loc[i, symptoms] = 1\n",
    "\n",
    "# Add the 'Disease' column back\n",
    "binary_encoded_symptoms.insert(0, \"Disease\", df[\"Disease\"])\n",
    "\n",
    "# Save the binary-encoded symptoms dataset\n",
    "binary_encoded_symptoms.to_csv(\"DiseaseAndSymptoms_BinarySymptoms.csv\", index=False)\n",
    "\n",
    "print(\"Binary encoding for symptoms completed and saved as 'DiseaseAndSymptoms_BinarySymptoms.csv'\")"
   ]
  }
 ],
 "metadata": {
  "kernelspec": {
   "display_name": "Python 3",
   "language": "python",
   "name": "python3"
  },
  "language_info": {
   "codemirror_mode": {
    "name": "ipython",
    "version": 3
   },
   "file_extension": ".py",
   "mimetype": "text/x-python",
   "name": "python",
   "nbconvert_exporter": "python",
   "pygments_lexer": "ipython3",
   "version": "3.11.7"
  }
 },
 "nbformat": 4,
 "nbformat_minor": 2
}
