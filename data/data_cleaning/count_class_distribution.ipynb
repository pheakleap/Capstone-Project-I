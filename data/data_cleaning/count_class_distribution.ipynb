{
 "cells": [
  {
   "cell_type": "code",
   "execution_count": 2,
   "metadata": {},
   "outputs": [],
   "source": [
    "import pandas as pd\n",
    "import numpy as np"
   ]
  },
  {
   "cell_type": "code",
   "execution_count": 5,
   "metadata": {},
   "outputs": [],
   "source": [
    "file_path = 'C:/Users/LENOVO/OneDrive - Cambodia Academy of Digital Technology/Documents/Year 03/Year3 Term2/Cap Stone/Capstone-Project-I/data/processed/Cleaned_Top15diseases.csv'\n",
    "diseases_df = pd.read_csv(file_path)"
   ]
  },
  {
   "cell_type": "code",
   "execution_count": 12,
   "metadata": {},
   "outputs": [
    {
     "name": "stdout",
     "output_type": "stream",
     "text": [
      "Top 15 diseases by total symptom count:\n",
      "Disease\n",
      "Common Cold        2232\n",
      "Dengue             1866\n",
      "Hepatitis E        1752\n",
      "Hypothyroidism     1752\n",
      "Hepatitis B        1632\n",
      "Hypoglycemia       1632\n",
      "Hyperthyroidism    1512\n",
      "Pneumonia          1512\n",
      "Typhoid            1512\n",
      "hepatitis A        1512\n",
      "Chicken pox        1506\n",
      "Migraine           1266\n",
      "Name: Symptom_Count, dtype: int64\n"
     ]
    }
   ],
   "source": [
    "# Create a new column 'Symptom_Count' by counting non-null symptom columns for each row\n",
    "diseases_df['Symptom_Count'] = diseases_df.iloc[:, 1:].notnull().sum(axis=1)\n",
    "\n",
    "# Aggregate these counts by disease to find the total number of symptoms per disease\n",
    "symptom_count_per_disease = diseases_df.groupby('Disease')['Symptom_Count'].sum()\n",
    "\n",
    "# Get the top 20 diseases with the highest symptom count\n",
    "top_diseases_by_symptoms = symptom_count_per_disease.sort_values(ascending=False).head(15)\n",
    "\n",
    "print(\"Top 15 diseases by total symptom count:\")\n",
    "print(top_diseases_by_symptoms)\n"
   ]
  },
  {
   "cell_type": "code",
   "execution_count": 14,
   "metadata": {},
   "outputs": [
    {
     "name": "stdout",
     "output_type": "stream",
     "text": [
      "Row count for each of the top 15 diseases:\n",
      "Disease\n",
      "Migraine           120\n",
      "Chicken pox        120\n",
      "Dengue             120\n",
      "Typhoid            120\n",
      "hepatitis A        120\n",
      "Hepatitis B        120\n",
      "Hepatitis E        120\n",
      "Common Cold        120\n",
      "Pneumonia          120\n",
      "Hypothyroidism     120\n",
      "Hyperthyroidism    120\n",
      "Hypoglycemia       120\n",
      "Name: count, dtype: int64\n"
     ]
    }
   ],
   "source": [
    "# Step 1: Filter the original DataFrame to include only the top 20 diseases\n",
    "top_15_diseases = top_diseases_by_symptoms.index  # Get disease names\n",
    "filtered_df = diseases_df[diseases_df['Disease'].isin(top_15_diseases)]  # Keep only rows with top 20 diseases\n",
    "\n",
    "# Step 2: Count the number of rows for each disease in the new dataset\n",
    "new_disease_counts = filtered_df['Disease'].value_counts()\n",
    "\n",
    "print(\"Row count for each of the top 15 diseases:\")\n",
    "print(new_disease_counts)\n"
   ]
  }
 ],
 "metadata": {
  "kernelspec": {
   "display_name": "reg",
   "language": "python",
   "name": "python3"
  },
  "language_info": {
   "codemirror_mode": {
    "name": "ipython",
    "version": 3
   },
   "file_extension": ".py",
   "mimetype": "text/x-python",
   "name": "python",
   "nbconvert_exporter": "python",
   "pygments_lexer": "ipython3",
   "version": "3.12.4"
  }
 },
 "nbformat": 4,
 "nbformat_minor": 2
}
