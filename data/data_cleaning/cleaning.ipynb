{
 "cells": [
  {
   "cell_type": "code",
   "execution_count": 3,
   "metadata": {
    "vscode": {
     "languageId": "shellscript"
    }
   },
   "outputs": [
    {
     "name": "stdout",
     "output_type": "stream",
     "text": [
      "Collecting scikit-learn\n",
      "  Using cached scikit_learn-1.6.1-cp313-cp313-win_amd64.whl.metadata (15 kB)\n",
      "Requirement already satisfied: numpy>=1.19.5 in d:\\cadt\\term7\\data engineering\\venv\\lib\\site-packages (from scikit-learn) (2.2.1)\n",
      "Collecting scipy>=1.6.0 (from scikit-learn)\n",
      "  Using cached scipy-1.15.1-cp313-cp313-win_amd64.whl.metadata (60 kB)\n",
      "Collecting joblib>=1.2.0 (from scikit-learn)\n",
      "  Using cached joblib-1.4.2-py3-none-any.whl.metadata (5.4 kB)\n",
      "Collecting threadpoolctl>=3.1.0 (from scikit-learn)\n",
      "  Using cached threadpoolctl-3.5.0-py3-none-any.whl.metadata (13 kB)\n",
      "Using cached scikit_learn-1.6.1-cp313-cp313-win_amd64.whl (11.1 MB)\n",
      "Using cached joblib-1.4.2-py3-none-any.whl (301 kB)\n",
      "Using cached scipy-1.15.1-cp313-cp313-win_amd64.whl (43.6 MB)\n",
      "Using cached threadpoolctl-3.5.0-py3-none-any.whl (18 kB)\n",
      "Installing collected packages: threadpoolctl, scipy, joblib, scikit-learn\n",
      "Successfully installed joblib-1.4.2 scikit-learn-1.6.1 scipy-1.15.1 threadpoolctl-3.5.0\n",
      "Note: you may need to restart the kernel to use updated packages.\n"
     ]
    },
    {
     "name": "stderr",
     "output_type": "stream",
     "text": [
      "\n",
      "[notice] A new release of pip is available: 24.3.1 -> 25.0.1\n",
      "[notice] To update, run: python.exe -m pip install --upgrade pip\n"
     ]
    }
   ],
   "source": [
    "pip install scikit-learn"
   ]
  },
  {
   "cell_type": "code",
   "execution_count": 1,
   "metadata": {},
   "outputs": [],
   "source": [
    "import numpy as np\n",
    "import pandas as pd"
   ]
  },
  {
   "cell_type": "code",
   "execution_count": 2,
   "metadata": {},
   "outputs": [],
   "source": [
    "file_path = '../data/Top15diseases.csv'\n",
    "diseases_df = pd.read_csv(file_path)"
   ]
  },
  {
   "cell_type": "code",
   "execution_count": 3,
   "metadata": {},
   "outputs": [],
   "source": [
    "diseases_df.fillna(\"None\", inplace=True)"
   ]
  },
  {
   "cell_type": "code",
   "execution_count": 4,
   "metadata": {},
   "outputs": [
    {
     "data": {
      "text/html": [
       "<div>\n",
       "<style scoped>\n",
       "    .dataframe tbody tr th:only-of-type {\n",
       "        vertical-align: middle;\n",
       "    }\n",
       "\n",
       "    .dataframe tbody tr th {\n",
       "        vertical-align: top;\n",
       "    }\n",
       "\n",
       "    .dataframe thead th {\n",
       "        text-align: right;\n",
       "    }\n",
       "</style>\n",
       "<table border=\"1\" class=\"dataframe\">\n",
       "  <thead>\n",
       "    <tr style=\"text-align: right;\">\n",
       "      <th></th>\n",
       "      <th>Disease</th>\n",
       "      <th>Symptom_1</th>\n",
       "      <th>Symptom_2</th>\n",
       "      <th>Symptom_3</th>\n",
       "      <th>Symptom_4</th>\n",
       "      <th>Symptom_5</th>\n",
       "      <th>Symptom_6</th>\n",
       "      <th>Symptom_7</th>\n",
       "      <th>Symptom_8</th>\n",
       "      <th>Symptom_9</th>\n",
       "      <th>Symptom_10</th>\n",
       "      <th>Symptom_11</th>\n",
       "      <th>Symptom_12</th>\n",
       "      <th>Symptom_13</th>\n",
       "      <th>Symptom_14</th>\n",
       "      <th>Symptom_15</th>\n",
       "      <th>Symptom_16</th>\n",
       "      <th>Symptom_17</th>\n",
       "      <th>Symptom_Count</th>\n",
       "    </tr>\n",
       "  </thead>\n",
       "  <tbody>\n",
       "    <tr>\n",
       "      <th>0</th>\n",
       "      <td>Migraine</td>\n",
       "      <td>acidity</td>\n",
       "      <td>indigestion</td>\n",
       "      <td>headache</td>\n",
       "      <td>blurred_and_distorted_vision</td>\n",
       "      <td>excessive_hunger</td>\n",
       "      <td>stiff_neck</td>\n",
       "      <td>depression</td>\n",
       "      <td>irritability</td>\n",
       "      <td>visual_disturbances</td>\n",
       "      <td>None</td>\n",
       "      <td>None</td>\n",
       "      <td>None</td>\n",
       "      <td>None</td>\n",
       "      <td>None</td>\n",
       "      <td>None</td>\n",
       "      <td>None</td>\n",
       "      <td>None</td>\n",
       "      <td>9</td>\n",
       "    </tr>\n",
       "    <tr>\n",
       "      <th>1</th>\n",
       "      <td>Migraine</td>\n",
       "      <td>indigestion</td>\n",
       "      <td>headache</td>\n",
       "      <td>blurred_and_distorted_vision</td>\n",
       "      <td>excessive_hunger</td>\n",
       "      <td>stiff_neck</td>\n",
       "      <td>depression</td>\n",
       "      <td>irritability</td>\n",
       "      <td>visual_disturbances</td>\n",
       "      <td>None</td>\n",
       "      <td>None</td>\n",
       "      <td>None</td>\n",
       "      <td>None</td>\n",
       "      <td>None</td>\n",
       "      <td>None</td>\n",
       "      <td>None</td>\n",
       "      <td>None</td>\n",
       "      <td>None</td>\n",
       "      <td>8</td>\n",
       "    </tr>\n",
       "    <tr>\n",
       "      <th>2</th>\n",
       "      <td>Migraine</td>\n",
       "      <td>acidity</td>\n",
       "      <td>headache</td>\n",
       "      <td>blurred_and_distorted_vision</td>\n",
       "      <td>excessive_hunger</td>\n",
       "      <td>stiff_neck</td>\n",
       "      <td>depression</td>\n",
       "      <td>irritability</td>\n",
       "      <td>visual_disturbances</td>\n",
       "      <td>None</td>\n",
       "      <td>None</td>\n",
       "      <td>None</td>\n",
       "      <td>None</td>\n",
       "      <td>None</td>\n",
       "      <td>None</td>\n",
       "      <td>None</td>\n",
       "      <td>None</td>\n",
       "      <td>None</td>\n",
       "      <td>8</td>\n",
       "    </tr>\n",
       "    <tr>\n",
       "      <th>3</th>\n",
       "      <td>Migraine</td>\n",
       "      <td>acidity</td>\n",
       "      <td>indigestion</td>\n",
       "      <td>blurred_and_distorted_vision</td>\n",
       "      <td>excessive_hunger</td>\n",
       "      <td>stiff_neck</td>\n",
       "      <td>depression</td>\n",
       "      <td>irritability</td>\n",
       "      <td>visual_disturbances</td>\n",
       "      <td>None</td>\n",
       "      <td>None</td>\n",
       "      <td>None</td>\n",
       "      <td>None</td>\n",
       "      <td>None</td>\n",
       "      <td>None</td>\n",
       "      <td>None</td>\n",
       "      <td>None</td>\n",
       "      <td>None</td>\n",
       "      <td>8</td>\n",
       "    </tr>\n",
       "    <tr>\n",
       "      <th>4</th>\n",
       "      <td>Migraine</td>\n",
       "      <td>acidity</td>\n",
       "      <td>indigestion</td>\n",
       "      <td>headache</td>\n",
       "      <td>excessive_hunger</td>\n",
       "      <td>stiff_neck</td>\n",
       "      <td>depression</td>\n",
       "      <td>irritability</td>\n",
       "      <td>visual_disturbances</td>\n",
       "      <td>None</td>\n",
       "      <td>None</td>\n",
       "      <td>None</td>\n",
       "      <td>None</td>\n",
       "      <td>None</td>\n",
       "      <td>None</td>\n",
       "      <td>None</td>\n",
       "      <td>None</td>\n",
       "      <td>None</td>\n",
       "      <td>8</td>\n",
       "    </tr>\n",
       "  </tbody>\n",
       "</table>\n",
       "</div>"
      ],
      "text/plain": [
       "    Disease     Symptom_1     Symptom_2                      Symptom_3  \\\n",
       "0  Migraine       acidity   indigestion                       headache   \n",
       "1  Migraine   indigestion      headache   blurred_and_distorted_vision   \n",
       "2  Migraine       acidity      headache   blurred_and_distorted_vision   \n",
       "3  Migraine       acidity   indigestion   blurred_and_distorted_vision   \n",
       "4  Migraine       acidity   indigestion                       headache   \n",
       "\n",
       "                       Symptom_4          Symptom_5    Symptom_6  \\\n",
       "0   blurred_and_distorted_vision   excessive_hunger   stiff_neck   \n",
       "1               excessive_hunger         stiff_neck   depression   \n",
       "2               excessive_hunger         stiff_neck   depression   \n",
       "3               excessive_hunger         stiff_neck   depression   \n",
       "4               excessive_hunger         stiff_neck   depression   \n",
       "\n",
       "       Symptom_7             Symptom_8             Symptom_9 Symptom_10  \\\n",
       "0     depression          irritability   visual_disturbances       None   \n",
       "1   irritability   visual_disturbances                  None       None   \n",
       "2   irritability   visual_disturbances                  None       None   \n",
       "3   irritability   visual_disturbances                  None       None   \n",
       "4   irritability   visual_disturbances                  None       None   \n",
       "\n",
       "  Symptom_11 Symptom_12 Symptom_13 Symptom_14 Symptom_15 Symptom_16  \\\n",
       "0       None       None       None       None       None       None   \n",
       "1       None       None       None       None       None       None   \n",
       "2       None       None       None       None       None       None   \n",
       "3       None       None       None       None       None       None   \n",
       "4       None       None       None       None       None       None   \n",
       "\n",
       "  Symptom_17  Symptom_Count  \n",
       "0       None              9  \n",
       "1       None              8  \n",
       "2       None              8  \n",
       "3       None              8  \n",
       "4       None              8  "
      ]
     },
     "execution_count": 4,
     "metadata": {},
     "output_type": "execute_result"
    }
   ],
   "source": [
    "diseases_df.head()"
   ]
  },
  {
   "cell_type": "code",
   "execution_count": 5,
   "metadata": {},
   "outputs": [],
   "source": [
    "symptom_columns = [col for col in diseases_df.columns if \"Symptom\" in col and col != \"Symptom_Count\"]"
   ]
  },
  {
   "cell_type": "code",
   "execution_count": 6,
   "metadata": {},
   "outputs": [],
   "source": [
    "diseases_df[\"Symptoms\"] = diseases_df[symptom_columns].values.tolist()"
   ]
  },
  {
   "cell_type": "code",
   "execution_count": 7,
   "metadata": {},
   "outputs": [],
   "source": [
    "diseases_df[\"Symptoms\"] = diseases_df[\"Symptoms\"].apply(lambda x: [s for s in x if s != \"None\"])"
   ]
  },
  {
   "cell_type": "code",
   "execution_count": 8,
   "metadata": {},
   "outputs": [],
   "source": [
    "cleaned_file_path = '../data/Cleaned_Top15diseases.csv'\n",
    "diseases_df.to_csv(cleaned_file_path, index=False)"
   ]
  }
 ],
 "metadata": {
  "kernelspec": {
   "display_name": "venv",
   "language": "python",
   "name": "python3"
  },
  "language_info": {
   "codemirror_mode": {
    "name": "ipython",
    "version": 3
   },
   "file_extension": ".py",
   "mimetype": "text/x-python",
   "name": "python",
   "nbconvert_exporter": "python",
   "pygments_lexer": "ipython3",
   "version": "3.13.1"
  }
 },
 "nbformat": 4,
 "nbformat_minor": 2
}
