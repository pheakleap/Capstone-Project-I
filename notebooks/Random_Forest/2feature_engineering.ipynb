{
 "cells": [
  {
   "cell_type": "code",
   "execution_count": 3,
   "metadata": {},
   "outputs": [],
   "source": [
    "import pandas as pd\n",
    "import numpy as np"
   ]
  },
  {
   "cell_type": "code",
   "execution_count": 4,
   "metadata": {},
   "outputs": [],
   "source": [
    "# Load cleaned data\n",
    "main_data = pd.read_csv('../../data/processed/cleaned_main_data.csv')\n",
    "severity_data = pd.read_csv('../../data/raw/Symptom-severity.csv')"
   ]
  },
  {
   "cell_type": "code",
   "execution_count": 5,
   "metadata": {},
   "outputs": [],
   "source": [
    "# create severity mapping\n",
    "severity_map = dict(zip(severity_data['Symptom'], severity_data['weight']))"
   ]
  },
  {
   "cell_type": "code",
   "execution_count": 6,
   "metadata": {},
   "outputs": [],
   "source": [
    "# create enhanced features\n",
    "def create_feature_matrix(df, severity_map):\n",
    "\n",
    "    symptom_cols = [col for col in df.columns if 'Symptom' in col]\n",
    "    all_symptoms = df[symptom_cols].values.ravel()\n",
    "    unique_symptoms = pd.unique(all_symptoms[pd.notna(all_symptoms)])\n",
    "\n",
    "    \n",
    "    # Initialize feature matrix\n",
    "    feature_matrix = []\n",
    "    \n",
    "    for _, row in df.iterrows():\n",
    "        features = {}\n",
    "        \n",
    "        # Get symptoms for this row\n",
    "        symptoms = row[symptom_cols].dropna().values\n",
    "        \n",
    "        # Binary features\n",
    "        for symptom in unique_symptoms:\n",
    "            features[f'has_{symptom}'] = 1 if symptom in symptoms else 0\n",
    "            \n",
    "        # Add severity features\n",
    "        total_severity = 0\n",
    "        for symptom in symptoms:\n",
    "            severity = severity_map.get(symptom, 0)\n",
    "            total_severity += severity\n",
    "            \n",
    "        features['total_severity'] = total_severity\n",
    "        features['symptom_count'] = len(symptoms)\n",
    "        features['avg_severity'] = total_severity / len(symptoms) if len(symptoms) > 0 else 0\n",
    "        \n",
    "        feature_matrix.append(features)\n",
    "    \n",
    "    return pd.DataFrame(feature_matrix)\n"
   ]
  },
  {
   "cell_type": "code",
   "execution_count": 7,
   "metadata": {},
   "outputs": [],
   "source": [
    "# Create enhanced features\n",
    "X = create_feature_matrix(main_data, severity_map)\n",
    "y = main_data['Disease']"
   ]
  },
  {
   "cell_type": "code",
   "execution_count": 8,
   "metadata": {},
   "outputs": [],
   "source": [
    "# Save features\n",
    "X.to_csv('../../data/processed/enhanced_features.csv', index=False)\n",
    "pd.Series(y).to_csv('../../data/processed/target.csv', index=False)"
   ]
  }
 ],
 "metadata": {
  "kernelspec": {
   "display_name": "venv",
   "language": "python",
   "name": "python3"
  },
  "language_info": {
   "codemirror_mode": {
    "name": "ipython",
    "version": 3
   },
   "file_extension": ".py",
   "mimetype": "text/x-python",
   "name": "python",
   "nbconvert_exporter": "python",
   "pygments_lexer": "ipython3",
   "version": "3.11.6"
  }
 },
 "nbformat": 4,
 "nbformat_minor": 2
}
