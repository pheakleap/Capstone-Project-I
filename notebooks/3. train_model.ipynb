{
 "cells": [
  {
   "cell_type": "code",
   "execution_count": 38,
   "metadata": {},
   "outputs": [],
   "source": [
    "import pandas as pd\n",
    "from sklearn.model_selection import train_test_split\n",
    "from sklearn.preprocessing import StandardScaler\n",
    "import shap\n",
    "from sklearn.ensemble import RandomForestClassifier\n",
    "import numpy as np"
   ]
  },
  {
   "cell_type": "code",
   "execution_count": 39,
   "metadata": {},
   "outputs": [],
   "source": [
    "encoded_df = pd.read_csv('../data/processed/encoded_data.csv')"
   ]
  },
  {
   "cell_type": "code",
   "execution_count": 40,
   "metadata": {},
   "outputs": [],
   "source": [
    "disease_col = 'Disease' #make sure this is the disease column name.\n",
    "X = encoded_df.drop(disease_col, axis=1)\n",
    "y = encoded_df[disease_col]"
   ]
  },
  {
   "cell_type": "code",
   "execution_count": 41,
   "metadata": {},
   "outputs": [],
   "source": [
    "X_train, X_test, y_train, y_test = train_test_split(X, y, test_size=0.2, random_state=42)"
   ]
  },
  {
   "cell_type": "code",
   "execution_count": 42,
   "metadata": {},
   "outputs": [],
   "source": [
    "# Scaling (if needed for specific models)\n",
    "scaler = StandardScaler()\n",
    "X_train_scaled = scaler.fit_transform(X_train)\n",
    "X_test_scaled = scaler.transform(X_test)"
   ]
  },
  {
   "cell_type": "code",
   "execution_count": 43,
   "metadata": {},
   "outputs": [
    {
     "name": "stderr",
     "output_type": "stream",
     "text": [
      "PermutationExplainer explainer: 361it [01:49,  2.98it/s]                         "
     ]
    },
    {
     "name": "stdout",
     "output_type": "stream",
     "text": [
      "Selected Features: Index(['Symptom_1', 'Symptom_2', 'Symptom_3', 'Symptom_4', 'Symptom_7',\n",
      "       'Symptom_8', 'Symptom_9', 'Symptom_10', 'Symptom_11', 'Symptom_12',\n",
      "       'Symptom_13', 'Symptom_14', 'Symptom_15'],\n",
      "      dtype='object')\n"
     ]
    },
    {
     "name": "stderr",
     "output_type": "stream",
     "text": [
      "\n"
     ]
    }
   ],
   "source": [
    "# Feature Selection (SHAP)\n",
    "model = RandomForestClassifier(random_state=42)\n",
    "model.fit(X_train_scaled, y_train)\n",
    "\n",
    "explainer = shap.Explainer(model.predict, X_train_scaled)\n",
    "shap_values = explainer(X_test_scaled)\n",
    "# shap.summary_plot(shap_values, X_test_scaled, feature_names=X.columns)\n",
    "\n",
    "# Calculate average absolute SHAP values\n",
    "shap_values_abs = np.abs(shap_values.values).mean(axis=0)\n",
    "\n",
    "# Adjust the threshold as needed\n",
    "threshold = 0.1  # Experiment with different thresholds\n",
    "\n",
    "# Select important features\n",
    "important_features = X.columns[shap_values_abs > threshold]\n",
    "\n",
    "# Filter train and test data\n",
    "important_feature_indices = [i for i, col in enumerate(X.columns) if col in important_features]\n",
    "X_train_selected = X_train_scaled[:, important_feature_indices]\n",
    "X_test_selected = X_test_scaled[:, important_feature_indices]\n",
    "\n",
    "print(\"Selected Features:\", important_features)"
   ]
  },
  {
   "cell_type": "code",
   "execution_count": 44,
   "metadata": {},
   "outputs": [],
   "source": [
    "# # Feature Selection (SHAP example - using Random Forest as an example model)\n",
    "# model = RandomForestClassifier(random_state=42)\n",
    "# model.fit(X_train_scaled, y_train)"
   ]
  },
  {
   "cell_type": "code",
   "execution_count": 45,
   "metadata": {},
   "outputs": [],
   "source": [
    "# import matplotlib\n",
    "# print(matplotlib.__version__)"
   ]
  },
  {
   "cell_type": "code",
   "execution_count": 46,
   "metadata": {},
   "outputs": [],
   "source": [
    "# explainer = shap.Explainer(model.predict, X_train_scaled)\n",
    "# shap_values = explainer(X_test_scaled)\n",
    "# # shap.summary_plot(shap_values, X_test_scaled, feature_names=X.columns) #show feature names."
   ]
  },
  {
   "cell_type": "code",
   "execution_count": 47,
   "metadata": {},
   "outputs": [],
   "source": [
    "# shap_values_abs = np.abs(shap_values.values).mean(axis=0)\n",
    "# important_features = X.columns[shap_values_abs > 0.1] #change 0.1 to your threshold."
   ]
  },
  {
   "cell_type": "code",
   "execution_count": 48,
   "metadata": {},
   "outputs": [],
   "source": [
    "# X_train_selected = X_train_scaled[:, [i for i, col in enumerate(X.columns) if col in important_features]]\n",
    "# X_test_selected = X_test_scaled[:, [i for i, col in enumerate(X.columns) if col in important_features]]\n",
    "\n",
    "# print(\"Selected Features:\", important_features)"
   ]
  }
 ],
 "metadata": {
  "kernelspec": {
   "display_name": "shap_env",
   "language": "python",
   "name": "python3"
  },
  "language_info": {
   "codemirror_mode": {
    "name": "ipython",
    "version": 3
   },
   "file_extension": ".py",
   "mimetype": "text/x-python",
   "name": "python",
   "nbconvert_exporter": "python",
   "pygments_lexer": "ipython3",
   "version": "3.12.9"
  }
 },
 "nbformat": 4,
 "nbformat_minor": 2
}
