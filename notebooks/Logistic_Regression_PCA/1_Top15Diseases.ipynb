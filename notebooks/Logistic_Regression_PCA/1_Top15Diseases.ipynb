{
 "cells": [
  {
   "cell_type": "code",
   "execution_count": 1,
   "metadata": {},
   "outputs": [],
   "source": [
    "import pandas as pd"
   ]
  },
  {
   "cell_type": "code",
   "execution_count": 3,
   "metadata": {},
   "outputs": [
    {
     "name": "stderr",
     "output_type": "stream",
     "text": [
      "<>:1: SyntaxWarning: invalid escape sequence '\\T'\n",
      "<>:1: SyntaxWarning: invalid escape sequence '\\T'\n",
      "C:\\Users\\Lenovo\\AppData\\Local\\Temp\\ipykernel_23412\\1501441043.py:1: SyntaxWarning: invalid escape sequence '\\T'\n",
      "  df = pd.read_csv('D:\\Term7\\Capstone\\Project2\\data\\DiseaseAndSymptoms.csv')\n"
     ]
    }
   ],
   "source": [
    "df = pd.read_csv('D:\\Term7\\Capstone\\Project2\\data\\DiseaseAndSymptoms.csv')"
   ]
  },
  {
   "cell_type": "code",
   "execution_count": 4,
   "metadata": {},
   "outputs": [
    {
     "data": {
      "text/html": [
       "<div>\n",
       "<style scoped>\n",
       "    .dataframe tbody tr th:only-of-type {\n",
       "        vertical-align: middle;\n",
       "    }\n",
       "\n",
       "    .dataframe tbody tr th {\n",
       "        vertical-align: top;\n",
       "    }\n",
       "\n",
       "    .dataframe thead th {\n",
       "        text-align: right;\n",
       "    }\n",
       "</style>\n",
       "<table border=\"1\" class=\"dataframe\">\n",
       "  <thead>\n",
       "    <tr style=\"text-align: right;\">\n",
       "      <th></th>\n",
       "      <th>Disease</th>\n",
       "      <th>Symptom_1</th>\n",
       "      <th>Symptom_2</th>\n",
       "      <th>Symptom_3</th>\n",
       "      <th>Symptom_4</th>\n",
       "      <th>Symptom_5</th>\n",
       "      <th>Symptom_6</th>\n",
       "      <th>Symptom_7</th>\n",
       "      <th>Symptom_8</th>\n",
       "      <th>Symptom_9</th>\n",
       "      <th>Symptom_10</th>\n",
       "      <th>Symptom_11</th>\n",
       "      <th>Symptom_12</th>\n",
       "      <th>Symptom_13</th>\n",
       "      <th>Symptom_14</th>\n",
       "      <th>Symptom_15</th>\n",
       "      <th>Symptom_16</th>\n",
       "      <th>Symptom_17</th>\n",
       "    </tr>\n",
       "  </thead>\n",
       "  <tbody>\n",
       "    <tr>\n",
       "      <th>0</th>\n",
       "      <td>Fungal infection</td>\n",
       "      <td>itching</td>\n",
       "      <td>skin_rash</td>\n",
       "      <td>nodal_skin_eruptions</td>\n",
       "      <td>dischromic _patches</td>\n",
       "      <td>NaN</td>\n",
       "      <td>NaN</td>\n",
       "      <td>NaN</td>\n",
       "      <td>NaN</td>\n",
       "      <td>NaN</td>\n",
       "      <td>NaN</td>\n",
       "      <td>NaN</td>\n",
       "      <td>NaN</td>\n",
       "      <td>NaN</td>\n",
       "      <td>NaN</td>\n",
       "      <td>NaN</td>\n",
       "      <td>NaN</td>\n",
       "      <td>NaN</td>\n",
       "    </tr>\n",
       "    <tr>\n",
       "      <th>1</th>\n",
       "      <td>Fungal infection</td>\n",
       "      <td>skin_rash</td>\n",
       "      <td>nodal_skin_eruptions</td>\n",
       "      <td>dischromic _patches</td>\n",
       "      <td>NaN</td>\n",
       "      <td>NaN</td>\n",
       "      <td>NaN</td>\n",
       "      <td>NaN</td>\n",
       "      <td>NaN</td>\n",
       "      <td>NaN</td>\n",
       "      <td>NaN</td>\n",
       "      <td>NaN</td>\n",
       "      <td>NaN</td>\n",
       "      <td>NaN</td>\n",
       "      <td>NaN</td>\n",
       "      <td>NaN</td>\n",
       "      <td>NaN</td>\n",
       "      <td>NaN</td>\n",
       "    </tr>\n",
       "    <tr>\n",
       "      <th>2</th>\n",
       "      <td>Fungal infection</td>\n",
       "      <td>itching</td>\n",
       "      <td>nodal_skin_eruptions</td>\n",
       "      <td>dischromic _patches</td>\n",
       "      <td>NaN</td>\n",
       "      <td>NaN</td>\n",
       "      <td>NaN</td>\n",
       "      <td>NaN</td>\n",
       "      <td>NaN</td>\n",
       "      <td>NaN</td>\n",
       "      <td>NaN</td>\n",
       "      <td>NaN</td>\n",
       "      <td>NaN</td>\n",
       "      <td>NaN</td>\n",
       "      <td>NaN</td>\n",
       "      <td>NaN</td>\n",
       "      <td>NaN</td>\n",
       "      <td>NaN</td>\n",
       "    </tr>\n",
       "    <tr>\n",
       "      <th>3</th>\n",
       "      <td>Fungal infection</td>\n",
       "      <td>itching</td>\n",
       "      <td>skin_rash</td>\n",
       "      <td>dischromic _patches</td>\n",
       "      <td>NaN</td>\n",
       "      <td>NaN</td>\n",
       "      <td>NaN</td>\n",
       "      <td>NaN</td>\n",
       "      <td>NaN</td>\n",
       "      <td>NaN</td>\n",
       "      <td>NaN</td>\n",
       "      <td>NaN</td>\n",
       "      <td>NaN</td>\n",
       "      <td>NaN</td>\n",
       "      <td>NaN</td>\n",
       "      <td>NaN</td>\n",
       "      <td>NaN</td>\n",
       "      <td>NaN</td>\n",
       "    </tr>\n",
       "    <tr>\n",
       "      <th>4</th>\n",
       "      <td>Fungal infection</td>\n",
       "      <td>itching</td>\n",
       "      <td>skin_rash</td>\n",
       "      <td>nodal_skin_eruptions</td>\n",
       "      <td>NaN</td>\n",
       "      <td>NaN</td>\n",
       "      <td>NaN</td>\n",
       "      <td>NaN</td>\n",
       "      <td>NaN</td>\n",
       "      <td>NaN</td>\n",
       "      <td>NaN</td>\n",
       "      <td>NaN</td>\n",
       "      <td>NaN</td>\n",
       "      <td>NaN</td>\n",
       "      <td>NaN</td>\n",
       "      <td>NaN</td>\n",
       "      <td>NaN</td>\n",
       "      <td>NaN</td>\n",
       "    </tr>\n",
       "  </tbody>\n",
       "</table>\n",
       "</div>"
      ],
      "text/plain": [
       "            Disease   Symptom_1              Symptom_2              Symptom_3  \\\n",
       "0  Fungal infection     itching              skin_rash   nodal_skin_eruptions   \n",
       "1  Fungal infection   skin_rash   nodal_skin_eruptions    dischromic _patches   \n",
       "2  Fungal infection     itching   nodal_skin_eruptions    dischromic _patches   \n",
       "3  Fungal infection     itching              skin_rash    dischromic _patches   \n",
       "4  Fungal infection     itching              skin_rash   nodal_skin_eruptions   \n",
       "\n",
       "              Symptom_4 Symptom_5 Symptom_6 Symptom_7 Symptom_8 Symptom_9  \\\n",
       "0   dischromic _patches       NaN       NaN       NaN       NaN       NaN   \n",
       "1                   NaN       NaN       NaN       NaN       NaN       NaN   \n",
       "2                   NaN       NaN       NaN       NaN       NaN       NaN   \n",
       "3                   NaN       NaN       NaN       NaN       NaN       NaN   \n",
       "4                   NaN       NaN       NaN       NaN       NaN       NaN   \n",
       "\n",
       "  Symptom_10 Symptom_11 Symptom_12 Symptom_13 Symptom_14 Symptom_15  \\\n",
       "0        NaN        NaN        NaN        NaN        NaN        NaN   \n",
       "1        NaN        NaN        NaN        NaN        NaN        NaN   \n",
       "2        NaN        NaN        NaN        NaN        NaN        NaN   \n",
       "3        NaN        NaN        NaN        NaN        NaN        NaN   \n",
       "4        NaN        NaN        NaN        NaN        NaN        NaN   \n",
       "\n",
       "  Symptom_16 Symptom_17  \n",
       "0        NaN        NaN  \n",
       "1        NaN        NaN  \n",
       "2        NaN        NaN  \n",
       "3        NaN        NaN  \n",
       "4        NaN        NaN  "
      ]
     },
     "execution_count": 4,
     "metadata": {},
     "output_type": "execute_result"
    }
   ],
   "source": [
    "df.head()"
   ]
  },
  {
   "cell_type": "code",
   "execution_count": 5,
   "metadata": {},
   "outputs": [
    {
     "data": {
      "text/plain": [
       "Disease\n",
       "(vertigo) Paroymsal  Positional Vertigo     5.65\n",
       "AIDS                                        3.65\n",
       "Acne                                        3.65\n",
       "Alcoholic hepatitis                         6.65\n",
       "Allergy                                     3.60\n",
       "Arthritis                                   4.75\n",
       "Bronchial Asthma                            5.60\n",
       "Cervical spondylosis                        4.65\n",
       "Chicken pox                                10.55\n",
       "Chronic cholestasis                         6.65\n",
       "Common Cold                                16.60\n",
       "Dengue                                     13.55\n",
       "Diabetes                                    9.60\n",
       "Dimorphic hemmorhoids(piles)                4.75\n",
       "Drug Reaction                               4.55\n",
       "Fungal infection                            3.60\n",
       "GERD                                        5.55\n",
       "Gastroenteritis                             3.65\n",
       "Heart attack                                3.65\n",
       "Hepatitis B                                11.60\n",
       "Hepatitis C                                 5.65\n",
       "Hepatitis D                                 8.55\n",
       "Hepatitis E                                12.60\n",
       "Hypertension                                4.60\n",
       "Hyperthyroidism                            10.60\n",
       "Hypoglycemia                               11.60\n",
       "Hypothyroidism                             12.60\n",
       "Impetigo                                    4.65\n",
       "Jaundice                                    7.60\n",
       "Malaria                                     7.60\n",
       "Migraine                                    8.55\n",
       "Osteoarthristis                             5.70\n",
       "Paralysis (brain hemorrhage)                3.65\n",
       "Peptic ulcer diseae                         5.60\n",
       "Pneumonia                                  10.60\n",
       "Psoriasis                                   5.70\n",
       "Tuberculosis                               15.60\n",
       "Typhoid                                    10.60\n",
       "Urinary tract infection                     3.65\n",
       "Varicose veins                              6.60\n",
       "hepatitis A                                10.60\n",
       "Name: Symptom_Count, dtype: float64"
      ]
     },
     "execution_count": 5,
     "metadata": {},
     "output_type": "execute_result"
    }
   ],
   "source": [
    "# Calculate the average symptom count for each disease\n",
    "df['Symptom_Count'] = df.iloc[:, 1:].notna().sum(axis=1)\n",
    "avg_symptoms_per_disease = df.groupby('Disease')['Symptom_Count'].mean()\n",
    "avg_symptoms_per_disease"
   ]
  },
  {
   "cell_type": "code",
   "execution_count": 7,
   "metadata": {},
   "outputs": [
    {
     "name": "stdout",
     "output_type": "stream",
     "text": [
      "Top 15 diseases by average number of symptoms:\n",
      "Disease\n",
      "Common Cold        16.60\n",
      "Tuberculosis       15.60\n",
      "Dengue             13.55\n",
      "Hypothyroidism     12.60\n",
      "Hepatitis E        12.60\n",
      "Hepatitis B        11.60\n",
      "Hypoglycemia       11.60\n",
      "Hyperthyroidism    10.60\n",
      "hepatitis A        10.60\n",
      "Pneumonia          10.60\n",
      "Typhoid            10.60\n",
      "Chicken pox        10.55\n",
      "Diabetes            9.60\n",
      "Migraine            8.55\n",
      "Hepatitis D         8.55\n",
      "Name: Symptom_Count, dtype: float64\n"
     ]
    }
   ],
   "source": [
    "# Get the top 15 diseases with the highest average symptom count\n",
    "top_diseases = avg_symptoms_per_disease.sort_values(ascending=False).head(15)\n",
    "print(\"Top 15 diseases by average number of symptoms:\")\n",
    "print(top_diseases)"
   ]
  },
  {
   "cell_type": "code",
   "execution_count": 8,
   "metadata": {},
   "outputs": [
    {
     "data": {
      "text/plain": [
       "(1800, 19)"
      ]
     },
     "execution_count": 8,
     "metadata": {},
     "output_type": "execute_result"
    }
   ],
   "source": [
    "# Filter the dataset to include only the top 15 diseases\n",
    "top_15_diseases = top_diseases.index.tolist()\n",
    "new_data = df[df['Disease'].isin(top_15_diseases)]\n",
    "new_data.shape"
   ]
  },
  {
   "cell_type": "code",
   "execution_count": 9,
   "metadata": {},
   "outputs": [
    {
     "name": "stdout",
     "output_type": "stream",
     "text": [
      "Disease counts in the filtered dataset:\n",
      "Disease\n",
      "Diabetes           120\n",
      "Migraine           120\n",
      "Chicken pox        120\n",
      "Dengue             120\n",
      "Typhoid            120\n",
      "hepatitis A        120\n",
      "Hepatitis B        120\n",
      "Hepatitis D        120\n",
      "Hepatitis E        120\n",
      "Tuberculosis       120\n",
      "Common Cold        120\n",
      "Pneumonia          120\n",
      "Hypothyroidism     120\n",
      "Hyperthyroidism    120\n",
      "Hypoglycemia       120\n",
      "Name: count, dtype: int64\n"
     ]
    }
   ],
   "source": [
    "# Count the occurrences of each disease in the filtered dataset\n",
    "disease_counts = new_data['Disease'].value_counts()\n",
    "print(f'Disease counts in the filtered dataset:\\n{disease_counts}')"
   ]
  },
  {
   "cell_type": "code",
   "execution_count": 10,
   "metadata": {},
   "outputs": [],
   "source": [
    "# Save the filtered dataset to a new CSV file\n",
    "new_data.to_csv('../data/Top15Diseases.csv', index=False)"
   ]
  },
  {
   "cell_type": "code",
   "execution_count": null,
   "metadata": {},
   "outputs": [],
   "source": []
  }
 ],
 "metadata": {
  "kernelspec": {
   "display_name": "base",
   "language": "python",
   "name": "python3"
  },
  "language_info": {
   "codemirror_mode": {
    "name": "ipython",
    "version": 3
   },
   "file_extension": ".py",
   "mimetype": "text/x-python",
   "name": "python",
   "nbconvert_exporter": "python",
   "pygments_lexer": "ipython3",
   "version": "3.12.4"
  }
 },
 "nbformat": 4,
 "nbformat_minor": 2
}
