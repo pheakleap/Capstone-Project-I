{
 "cells": [
  {
   "cell_type": "markdown",
   "metadata": {},
   "source": [
    "### Splitting data"
   ]
  },
  {
   "cell_type": "code",
   "execution_count": 8,
   "metadata": {},
   "outputs": [],
   "source": [
    "import joblib\n",
    "import pandas as pd\n",
    "from sklearn.preprocessing import StandardScaler, LabelEncoder\n",
    "from sklearn.model_selection import train_test_split"
   ]
  },
  {
   "cell_type": "code",
   "execution_count": 9,
   "metadata": {},
   "outputs": [],
   "source": [
    "df = pd.read_csv('../data/Encoded_Cleaned_Top15Diseases.csv')"
   ]
  },
  {
   "cell_type": "code",
   "execution_count": 11,
   "metadata": {},
   "outputs": [],
   "source": [
    "# Encode Disease column into numerical labels\n",
    "le = LabelEncoder()\n",
    "df[\"DiseaseEncoded\"] = le.fit_transform(df[\"Disease\"])"
   ]
  },
  {
   "cell_type": "code",
   "execution_count": 12,
   "metadata": {},
   "outputs": [],
   "source": [
    "# Define features (X) and target (y)\n",
    "X = df.drop(columns=[\"Disease\", \"DiseaseEncoded\"])\n",
    "y = df[\"DiseaseEncoded\"]"
   ]
  },
  {
   "cell_type": "code",
   "execution_count": 13,
   "metadata": {},
   "outputs": [],
   "source": [
    "# Preprocessing\n",
    "scaler = StandardScaler()\n",
    "X_scaled = scaler.fit_transform(X)\n"
   ]
  },
  {
   "cell_type": "code",
   "execution_count": 14,
   "metadata": {},
   "outputs": [],
   "source": [
    "# Split into train and test sets\n",
    "X_train, X_test, y_train, y_test = train_test_split(\n",
    "    X_scaled, y, test_size=0.3, stratify=y, random_state=42\n",
    ")"
   ]
  },
  {
   "cell_type": "markdown",
   "metadata": {},
   "source": [
    "1. train_test_split()\n",
    "- Function from sklearn.model_selection that randomly splits data into training and testing sets.\n",
    "2. Parameters Used:\n",
    "- X, y → The feature matrix (X) and target labels (y).\n",
    "- test_size=0.3 → 30% of the dataset is used for testing, and 80% is used for training.\n",
    "- stratify=y → Ensures that the class distribution in y is preserved in both training and testing sets.\n",
    "    - This is important if y has imbalanced classes (e.g., some diseases appear more often than others).\n",
    "- random_state=42 → Fixes the random seed for reproducibility, ensuring the same split occurs each time."
   ]
  },
  {
   "cell_type": "code",
   "execution_count": 15,
   "metadata": {},
   "outputs": [
    {
     "name": "stdout",
     "output_type": "stream",
     "text": [
      "Data successfully split and saved.\n"
     ]
    }
   ],
   "source": [
    "# Save the preprocessed data and label encoder\n",
    "joblib.dump(le, \"label_encoder.pkl\")\n",
    "joblib.dump(scaler, \"scaler.pkl\")\n",
    "joblib.dump(X_train, \"X_train.pkl\")\n",
    "joblib.dump(X_test, \"X_test.pkl\")\n",
    "joblib.dump(y_train, \"y_train.pkl\")\n",
    "joblib.dump(y_test, \"y_test.pkl\")\n",
    "\n",
    "print(\"Data successfully split and saved.\")"
   ]
  }
 ],
 "metadata": {
  "kernelspec": {
   "display_name": "base",
   "language": "python",
   "name": "python3"
  },
  "language_info": {
   "codemirror_mode": {
    "name": "ipython",
    "version": 3
   },
   "file_extension": ".py",
   "mimetype": "text/x-python",
   "name": "python",
   "nbconvert_exporter": "python",
   "pygments_lexer": "ipython3",
   "version": "3.12.4"
  }
 },
 "nbformat": 4,
 "nbformat_minor": 2
}
