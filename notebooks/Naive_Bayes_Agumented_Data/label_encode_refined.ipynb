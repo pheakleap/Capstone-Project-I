{
 "cells": [
  {
   "cell_type": "code",
   "execution_count": 1,
   "metadata": {},
   "outputs": [],
   "source": [
    "import pandas as pd\n",
    "from sklearn.preprocessing import LabelEncoder"
   ]
  },
  {
   "cell_type": "code",
   "execution_count": 11,
   "metadata": {},
   "outputs": [
    {
     "data": {
      "text/plain": [
       "'D:/Schools/Capstone Project/Project/Capstone-Project-I/data/encode/labelEncoded_DiseaseAndSymptoms.csv'"
      ]
     },
     "execution_count": 11,
     "metadata": {},
     "output_type": "execute_result"
    }
   ],
   "source": [
    "# Load the dataset\n",
    "file_path = \"D:/Schools/Capstone Project/Project/Capstone-Project-I/data/processed/DiseaseAndSymptoms_refined_cleaned.csv\"\n",
    "df = pd.read_csv(file_path)\n",
    "\n",
    "# Initialize the LabelEncoder\n",
    "le = LabelEncoder()\n",
    "\n",
    "# Label encode the target variable 'Disease'\n",
    "df['Disease'] = le.fit_transform(df['Disease'])\n",
    "\n",
    "# Label encode the symptom columns (from 'Symptom_1' to 'Symptom_17')\n",
    "symptom_columns = [f'Symptom_{i}' for i in range(1, 18)]\n",
    "for col in symptom_columns:\n",
    "    # Fill NaN values with 'None' and then apply LabelEncoder\n",
    "    df[col] = le.fit_transform(df[col].fillna('None'))\n",
    "\n",
    "# Export the encoded dataframe to CSV\n",
    "export_path = 'D:/Schools/Capstone Project/Project/Capstone-Project-I/data/encode/labelEncoded_DiseaseAndSymptoms.csv'\n",
    "df.to_csv(export_path, index=False)\n",
    "\n",
    "# Display the file path for downloading\n",
    "export_path"
   ]
  },
  {
   "cell_type": "code",
   "execution_count": 8,
   "metadata": {},
   "outputs": [
    {
     "name": "stdout",
     "output_type": "stream",
     "text": [
      "File deleted successfully.\n"
     ]
    }
   ],
   "source": [
    "import os\n",
    "\n",
    "# Specify the file path of the uploaded CSV\n",
    "file_path = 'D:/Schools/Capstone Project/Project/Capstone-Project-I/data/processed/DiseaseAndSymptoms_refined_cleaned.csv'\n",
    "\n",
    "# Delete the file\n",
    "os.remove(file_path)\n",
    "\n",
    "# Verify if the file is deleted\n",
    "if not os.path.exists(file_path):\n",
    "    print(\"File deleted successfully.\")\n",
    "else:\n",
    "    print(\"File not found.\")"
   ]
  }
 ],
 "metadata": {
  "kernelspec": {
   "display_name": "Python 3",
   "language": "python",
   "name": "python3"
  },
  "language_info": {
   "codemirror_mode": {
    "name": "ipython",
    "version": 3
   },
   "file_extension": ".py",
   "mimetype": "text/x-python",
   "name": "python",
   "nbconvert_exporter": "python",
   "pygments_lexer": "ipython3",
   "version": "3.11.7"
  }
 },
 "nbformat": 4,
 "nbformat_minor": 2
}
