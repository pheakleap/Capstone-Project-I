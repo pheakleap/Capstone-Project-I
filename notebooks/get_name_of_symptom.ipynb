{
 "cells": [
  {
   "cell_type": "code",
   "execution_count": 15,
   "metadata": {},
   "outputs": [],
   "source": [
    "import pandas as pd"
   ]
  },
  {
   "cell_type": "code",
   "execution_count": 16,
   "metadata": {},
   "outputs": [],
   "source": [
    "symptom_df = pd.read_csv(\"D:/Term7/Capstone-Project-I/data/processed/before_encode.csv\")"
   ]
  },
  {
   "cell_type": "code",
   "execution_count": 17,
   "metadata": {},
   "outputs": [
    {
     "data": {
      "text/html": [
       "<div>\n",
       "<style scoped>\n",
       "    .dataframe tbody tr th:only-of-type {\n",
       "        vertical-align: middle;\n",
       "    }\n",
       "\n",
       "    .dataframe tbody tr th {\n",
       "        vertical-align: top;\n",
       "    }\n",
       "\n",
       "    .dataframe thead th {\n",
       "        text-align: right;\n",
       "    }\n",
       "</style>\n",
       "<table border=\"1\" class=\"dataframe\">\n",
       "  <thead>\n",
       "    <tr style=\"text-align: right;\">\n",
       "      <th></th>\n",
       "      <th>Symptom_1</th>\n",
       "      <th>Symptom_2</th>\n",
       "      <th>Symptom_3</th>\n",
       "      <th>Symptom_4</th>\n",
       "      <th>Symptom_5</th>\n",
       "      <th>Symptom_6</th>\n",
       "      <th>Symptom_7</th>\n",
       "      <th>Symptom_8</th>\n",
       "      <th>Symptom_9</th>\n",
       "      <th>Symptom_10</th>\n",
       "      <th>Symptom_11</th>\n",
       "      <th>Symptom_12</th>\n",
       "      <th>Symptom_13</th>\n",
       "      <th>Symptom_14</th>\n",
       "      <th>Symptom_15</th>\n",
       "      <th>Symptom_16</th>\n",
       "      <th>Symptom_17</th>\n",
       "    </tr>\n",
       "  </thead>\n",
       "  <tbody>\n",
       "    <tr>\n",
       "      <th>0</th>\n",
       "      <td>itching</td>\n",
       "      <td>skin_rash</td>\n",
       "      <td>nodal_skin_eruptions</td>\n",
       "      <td>dischromic _patches</td>\n",
       "      <td>none</td>\n",
       "      <td>none</td>\n",
       "      <td>none</td>\n",
       "      <td>none</td>\n",
       "      <td>none</td>\n",
       "      <td>none</td>\n",
       "      <td>none</td>\n",
       "      <td>none</td>\n",
       "      <td>none</td>\n",
       "      <td>none</td>\n",
       "      <td>none</td>\n",
       "      <td>none</td>\n",
       "      <td>none</td>\n",
       "    </tr>\n",
       "    <tr>\n",
       "      <th>1</th>\n",
       "      <td>skin_rash</td>\n",
       "      <td>nodal_skin_eruptions</td>\n",
       "      <td>dischromic _patches</td>\n",
       "      <td>none</td>\n",
       "      <td>none</td>\n",
       "      <td>none</td>\n",
       "      <td>none</td>\n",
       "      <td>none</td>\n",
       "      <td>none</td>\n",
       "      <td>none</td>\n",
       "      <td>none</td>\n",
       "      <td>none</td>\n",
       "      <td>none</td>\n",
       "      <td>none</td>\n",
       "      <td>none</td>\n",
       "      <td>none</td>\n",
       "      <td>none</td>\n",
       "    </tr>\n",
       "    <tr>\n",
       "      <th>2</th>\n",
       "      <td>itching</td>\n",
       "      <td>nodal_skin_eruptions</td>\n",
       "      <td>dischromic _patches</td>\n",
       "      <td>none</td>\n",
       "      <td>none</td>\n",
       "      <td>none</td>\n",
       "      <td>none</td>\n",
       "      <td>none</td>\n",
       "      <td>none</td>\n",
       "      <td>none</td>\n",
       "      <td>none</td>\n",
       "      <td>none</td>\n",
       "      <td>none</td>\n",
       "      <td>none</td>\n",
       "      <td>none</td>\n",
       "      <td>none</td>\n",
       "      <td>none</td>\n",
       "    </tr>\n",
       "    <tr>\n",
       "      <th>3</th>\n",
       "      <td>itching</td>\n",
       "      <td>skin_rash</td>\n",
       "      <td>dischromic _patches</td>\n",
       "      <td>none</td>\n",
       "      <td>none</td>\n",
       "      <td>none</td>\n",
       "      <td>none</td>\n",
       "      <td>none</td>\n",
       "      <td>none</td>\n",
       "      <td>none</td>\n",
       "      <td>none</td>\n",
       "      <td>none</td>\n",
       "      <td>none</td>\n",
       "      <td>none</td>\n",
       "      <td>none</td>\n",
       "      <td>none</td>\n",
       "      <td>none</td>\n",
       "    </tr>\n",
       "    <tr>\n",
       "      <th>4</th>\n",
       "      <td>itching</td>\n",
       "      <td>skin_rash</td>\n",
       "      <td>nodal_skin_eruptions</td>\n",
       "      <td>none</td>\n",
       "      <td>none</td>\n",
       "      <td>none</td>\n",
       "      <td>none</td>\n",
       "      <td>none</td>\n",
       "      <td>none</td>\n",
       "      <td>none</td>\n",
       "      <td>none</td>\n",
       "      <td>none</td>\n",
       "      <td>none</td>\n",
       "      <td>none</td>\n",
       "      <td>none</td>\n",
       "      <td>none</td>\n",
       "      <td>none</td>\n",
       "    </tr>\n",
       "  </tbody>\n",
       "</table>\n",
       "</div>"
      ],
      "text/plain": [
       "    Symptom_1              Symptom_2              Symptom_3  \\\n",
       "0     itching              skin_rash   nodal_skin_eruptions   \n",
       "1   skin_rash   nodal_skin_eruptions    dischromic _patches   \n",
       "2     itching   nodal_skin_eruptions    dischromic _patches   \n",
       "3     itching              skin_rash    dischromic _patches   \n",
       "4     itching              skin_rash   nodal_skin_eruptions   \n",
       "\n",
       "              Symptom_4 Symptom_5 Symptom_6 Symptom_7 Symptom_8 Symptom_9  \\\n",
       "0   dischromic _patches      none      none      none      none      none   \n",
       "1                  none      none      none      none      none      none   \n",
       "2                  none      none      none      none      none      none   \n",
       "3                  none      none      none      none      none      none   \n",
       "4                  none      none      none      none      none      none   \n",
       "\n",
       "  Symptom_10 Symptom_11 Symptom_12 Symptom_13 Symptom_14 Symptom_15  \\\n",
       "0       none       none       none       none       none       none   \n",
       "1       none       none       none       none       none       none   \n",
       "2       none       none       none       none       none       none   \n",
       "3       none       none       none       none       none       none   \n",
       "4       none       none       none       none       none       none   \n",
       "\n",
       "  Symptom_16 Symptom_17  \n",
       "0       none       none  \n",
       "1       none       none  \n",
       "2       none       none  \n",
       "3       none       none  \n",
       "4       none       none  "
      ]
     },
     "execution_count": 17,
     "metadata": {},
     "output_type": "execute_result"
    }
   ],
   "source": [
    "symptom_df = symptom_df.drop(columns='Disease')\n",
    "symptom_df.head()"
   ]
  },
  {
   "cell_type": "code",
   "execution_count": 18,
   "metadata": {},
   "outputs": [
    {
     "name": "stdout",
     "output_type": "stream",
     "text": [
      "[' abdominal_pain', ' abnormal_menstruation', ' acidity', ' acute_liver_failure', ' altered_sensorium', ' anxiety', ' back_pain', ' belly_pain', ' blackheads', ' bladder_discomfort', ' blister', ' blood_in_sputum', ' bloody_stool', ' blurred_and_distorted_vision', ' breathlessness', ' brittle_nails', ' bruising', ' burning_micturition', ' chest_pain', ' chills', ' cold_hands_and_feets', ' coma', ' congestion', ' constipation', ' continuous_feel_of_urine', ' continuous_sneezing', ' cough', ' cramps', ' dark_urine', ' dehydration', ' depression', ' diarrhoea', ' dischromic _patches', ' distention_of_abdomen', ' dizziness', ' drying_and_tingling_lips', ' enlarged_thyroid', ' excessive_hunger', ' extra_marital_contacts', ' family_history', ' fast_heart_rate', ' fatigue', ' fluid_overload', ' foul_smell_of urine', ' headache', ' high_fever', ' hip_joint_pain', ' history_of_alcohol_consumption', ' increased_appetite', ' indigestion', ' inflammatory_nails', ' internal_itching', ' irregular_sugar_level', ' irritability', ' irritation_in_anus', ' joint_pain', ' knee_pain', ' lack_of_concentration', ' lethargy', ' loss_of_appetite', ' loss_of_balance', ' loss_of_smell', ' malaise', ' mild_fever', ' mood_swings', ' movement_stiffness', ' mucoid_sputum', ' muscle_pain', ' muscle_wasting', ' muscle_weakness', ' nausea', ' neck_pain', ' nodal_skin_eruptions', ' obesity', ' pain_behind_the_eyes', ' pain_during_bowel_movements', ' pain_in_anal_region', ' painful_walking', ' palpitations', ' passage_of_gases', ' patches_in_throat', ' phlegm', ' polyuria', ' prominent_veins_on_calf', ' puffy_face_and_eyes', ' pus_filled_pimples', ' receiving_blood_transfusion', ' receiving_unsterile_injections', ' red_sore_around_nose', ' red_spots_over_body', ' redness_of_eyes', ' restlessness', ' runny_nose', ' rusty_sputum', ' scurring', ' shivering', ' silver_like_dusting', ' sinus_pressure', ' skin_peeling', ' skin_rash', ' slurred_speech', ' small_dents_in_nails', ' spinning_movements', ' spotting_ urination', ' stiff_neck', ' stomach_bleeding', ' stomach_pain', ' sunken_eyes', ' sweating', ' swelled_lymph_nodes', ' swelling_joints', ' swelling_of_stomach', ' swollen_blood_vessels', ' swollen_extremeties', ' swollen_legs', ' throat_irritation', ' toxic_look_(typhos)', ' ulcers_on_tongue', ' unsteadiness', ' visual_disturbances', ' vomiting', ' watering_from_eyes', ' weakness_in_limbs', ' weakness_of_one_body_side', ' weight_gain', ' weight_loss', ' yellow_crust_ooze', ' yellow_urine', ' yellowing_of_eyes', ' yellowish_skin', 'itching', 'none']\n"
     ]
    }
   ],
   "source": [
    "all_symptoms = set().union(*[set(symptom_df[col].unique()) for col in symptom_df.columns if col.startswith('Symptom_')])\n",
    "all_symptoms = sorted(all_symptoms)\n",
    "print(all_symptoms)\n"
   ]
  },
  {
   "cell_type": "code",
   "execution_count": 19,
   "metadata": {},
   "outputs": [
    {
     "name": "stdout",
     "output_type": "stream",
     "text": [
      "{' abdominal_pain': 0, ' abnormal_menstruation': 1, ' acidity': 2, ' acute_liver_failure': 3, ' altered_sensorium': 4, ' anxiety': 5, ' back_pain': 6, ' belly_pain': 7, ' blackheads': 8, ' bladder_discomfort': 9, ' blister': 10, ' blood_in_sputum': 11, ' bloody_stool': 12, ' blurred_and_distorted_vision': 13, ' breathlessness': 14, ' brittle_nails': 15, ' bruising': 16, ' burning_micturition': 17, ' chest_pain': 18, ' chills': 19, ' cold_hands_and_feets': 20, ' coma': 21, ' congestion': 22, ' constipation': 23, ' continuous_feel_of_urine': 24, ' continuous_sneezing': 25, ' cough': 26, ' cramps': 27, ' dark_urine': 28, ' dehydration': 29, ' depression': 30, ' diarrhoea': 31, ' dischromic _patches': 32, ' distention_of_abdomen': 33, ' dizziness': 34, ' drying_and_tingling_lips': 35, ' enlarged_thyroid': 36, ' excessive_hunger': 37, ' extra_marital_contacts': 38, ' family_history': 39, ' fast_heart_rate': 40, ' fatigue': 41, ' fluid_overload': 42, ' foul_smell_of urine': 43, ' headache': 44, ' high_fever': 45, ' hip_joint_pain': 46, ' history_of_alcohol_consumption': 47, ' increased_appetite': 48, ' indigestion': 49, ' inflammatory_nails': 50, ' internal_itching': 51, ' irregular_sugar_level': 52, ' irritability': 53, ' irritation_in_anus': 54, ' joint_pain': 55, ' knee_pain': 56, ' lack_of_concentration': 57, ' lethargy': 58, ' loss_of_appetite': 59, ' loss_of_balance': 60, ' loss_of_smell': 61, ' malaise': 62, ' mild_fever': 63, ' mood_swings': 64, ' movement_stiffness': 65, ' mucoid_sputum': 66, ' muscle_pain': 67, ' muscle_wasting': 68, ' muscle_weakness': 69, ' nausea': 70, ' neck_pain': 71, ' nodal_skin_eruptions': 72, ' obesity': 73, ' pain_behind_the_eyes': 74, ' pain_during_bowel_movements': 75, ' pain_in_anal_region': 76, ' painful_walking': 77, ' palpitations': 78, ' passage_of_gases': 79, ' patches_in_throat': 80, ' phlegm': 81, ' polyuria': 82, ' prominent_veins_on_calf': 83, ' puffy_face_and_eyes': 84, ' pus_filled_pimples': 85, ' receiving_blood_transfusion': 86, ' receiving_unsterile_injections': 87, ' red_sore_around_nose': 88, ' red_spots_over_body': 89, ' redness_of_eyes': 90, ' restlessness': 91, ' runny_nose': 92, ' rusty_sputum': 93, ' scurring': 94, ' shivering': 95, ' silver_like_dusting': 96, ' sinus_pressure': 97, ' skin_peeling': 98, ' skin_rash': 99, ' slurred_speech': 100, ' small_dents_in_nails': 101, ' spinning_movements': 102, ' spotting_ urination': 103, ' stiff_neck': 104, ' stomach_bleeding': 105, ' stomach_pain': 106, ' sunken_eyes': 107, ' sweating': 108, ' swelled_lymph_nodes': 109, ' swelling_joints': 110, ' swelling_of_stomach': 111, ' swollen_blood_vessels': 112, ' swollen_extremeties': 113, ' swollen_legs': 114, ' throat_irritation': 115, ' toxic_look_(typhos)': 116, ' ulcers_on_tongue': 117, ' unsteadiness': 118, ' visual_disturbances': 119, ' vomiting': 120, ' watering_from_eyes': 121, ' weakness_in_limbs': 122, ' weakness_of_one_body_side': 123, ' weight_gain': 124, ' weight_loss': 125, ' yellow_crust_ooze': 126, ' yellow_urine': 127, ' yellowing_of_eyes': 128, ' yellowish_skin': 129, 'itching': 130, 'none': 131}\n"
     ]
    }
   ],
   "source": [
    "symptom_dict = {symptom: i for i, symptom in enumerate(all_symptoms)}\n",
    "\n",
    "print(symptom_dict)"
   ]
  },
  {
   "cell_type": "code",
   "execution_count": 20,
   "metadata": {},
   "outputs": [],
   "source": [
    "import json\n",
    "with open(\"D:/Term7/Capstone-Project-I/data/processed/name_symptom.json\", \"w\") as f:\n",
    "    json.dump(symptom_dict, f, indent=4)"
   ]
  }
 ],
 "metadata": {
  "kernelspec": {
   "display_name": "env",
   "language": "python",
   "name": "python3"
  },
  "language_info": {
   "codemirror_mode": {
    "name": "ipython",
    "version": 3
   },
   "file_extension": ".py",
   "mimetype": "text/x-python",
   "name": "python",
   "nbconvert_exporter": "python",
   "pygments_lexer": "ipython3",
   "version": "3.13.2"
  }
 },
 "nbformat": 4,
 "nbformat_minor": 2
}
