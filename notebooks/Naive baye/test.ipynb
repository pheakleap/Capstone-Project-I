{
 "cells": [
  {
   "cell_type": "code",
   "execution_count": null,
   "metadata": {},
   "outputs": [],
   "source": [
    "from sklearn.feature_selection import SelectKBest, chi2\n",
    "from imblearn.over_sampling import SMOTE\n",
    "from sklearn.naive_bayes import BernoulliNB\n",
    "from sklearn.model_selection import train_test_split\n",
    "from sklearn.metrics import classification_report, accuracy_score\n",
    "\n",
    "# Step 1: Apply SelectKBest to choose the top features based on Chi-squared test\n",
    "k_best = SelectKBest(chi2, k=20)  # Selecting the top 20 features\n",
    "X_selected = k_best.fit_transform(X, y_encoded)\n",
    "\n",
    "# Optional: Get the list of selected feature names\n",
    "selected_features = X.columns[k_best.get_support()]\n",
    "print(f\"Selected Features: {selected_features}\")\n",
    "\n",
    "# Step 2: Apply SMOTE to balance the class distribution by oversampling the minority class\n",
    "smote = SMOTE(random_state=42)\n",
    "X_resampled, y_resampled = smote.fit_resample(X_selected, y_encoded)\n",
    "\n",
    "# Step 3: Split the resampled data into training and testing sets\n",
    "X_train_resampled, X_test_resampled, y_train_resampled, y_test_resampled = train_test_split(\n",
    "    X_resampled, y_resampled, test_size=0.2, random_state=42, stratify=y_resampled\n",
    ")\n",
    "\n",
    "# Step 4: Train the Naive Bayes model on the resampled data\n",
    "nb_model = BernoulliNB(alpha=1.0)  # Using Laplace smoothing to handle zero probabilities\n",
    "nb_model.fit(X_train_resampled, y_train_resampled)\n",
    "\n",
    "# Step 5: Evaluate the model on the test set\n",
    "y_pred_nb_resampled = nb_model.predict(X_test_resampled)\n",
    "accuracy_nb_resampled = accuracy_score(y_test_resampled, y_pred_nb_resampled)\n",
    "class_report_nb_resampled = classification_report(y_test_resampled, y_pred_nb_resampled)\n",
    "\n",
    "print(f\"Accuracy of Naive Bayes after Feature Selection and SMOTE: {accuracy_nb_resampled:.4f}\")\n",
    "print(\"Classification Report:\\n\", class_report_nb_resampled)\n"
   ]
  }
 ],
 "metadata": {
  "language_info": {
   "name": "python"
  }
 },
 "nbformat": 4,
 "nbformat_minor": 2
}
