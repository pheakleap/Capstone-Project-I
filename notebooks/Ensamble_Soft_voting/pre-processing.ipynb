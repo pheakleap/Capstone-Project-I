{
 "cells": [
  {
   "cell_type": "code",
   "execution_count": 12,
   "metadata": {},
   "outputs": [],
   "source": [
    "import pandas as pd\n",
    "import numpy as np\n",
    "from sklearn.preprocessing import LabelEncoder, StandardScaler\n",
    "from sklearn.model_selection import train_test_split\n",
    "import joblib"
   ]
  },
  {
   "cell_type": "code",
   "execution_count": 13,
   "metadata": {},
   "outputs": [
    {
     "name": "stdout",
     "output_type": "stream",
     "text": [
      "Dataset shape: (4920, 18)\n",
      "\n",
      "Dataset columns:\n",
      "['Disease', 'Symptom_1', 'Symptom_2', 'Symptom_3', 'Symptom_4', 'Symptom_5', 'Symptom_6', 'Symptom_7', 'Symptom_8', 'Symptom_9', 'Symptom_10', 'Symptom_11', 'Symptom_12', 'Symptom_13', 'Symptom_14', 'Symptom_15', 'Symptom_16', 'Symptom_17']\n",
      "\n",
      "Missing values in dataset:\n",
      "Disease          0\n",
      "Symptom_1        0\n",
      "Symptom_2        0\n",
      "Symptom_3        0\n",
      "Symptom_4      348\n",
      "Symptom_5     1206\n",
      "Symptom_6     1986\n",
      "Symptom_7     2652\n",
      "Symptom_8     2976\n",
      "Symptom_9     3228\n",
      "Symptom_10    3408\n",
      "Symptom_11    3726\n",
      "Symptom_12    4176\n",
      "Symptom_13    4416\n",
      "Symptom_14    4614\n",
      "Symptom_15    4680\n",
      "Symptom_16    4728\n",
      "Symptom_17    4848\n",
      "dtype: int64\n"
     ]
    }
   ],
   "source": [
    "# Load and examine raw data\n",
    "dataset = pd.read_csv('../../data/raw/dataset.csv')\n",
    "severity = pd.read_csv('../../data/raw/Symptom-severity.csv')\n",
    "\n",
    "print(\"Dataset shape:\", dataset.shape)\n",
    "print(\"\\nDataset columns:\")\n",
    "print(dataset.columns.tolist())\n",
    "\n",
    "\n",
    "# Check for missing values\n",
    "print(\"\\nMissing values in dataset:\")\n",
    "print(dataset.isnull().sum())"
   ]
  },
  {
   "cell_type": "code",
   "execution_count": 14,
   "metadata": {},
   "outputs": [],
   "source": [
    "# Create severity dictionary\n",
    "severity_dict = dict(zip(severity['Symptom'], severity['weight']))\n"
   ]
  },
  {
   "cell_type": "code",
   "execution_count": 15,
   "metadata": {},
   "outputs": [
    {
     "name": "stdout",
     "output_type": "stream",
     "text": [
      "Number of unique symptoms: 262\n",
      "\n",
      "Sample of unique symptoms: [' increased_appetite', ' distention_of_abdomen', ' loss_of_balance', ' irritability', ' weakness_of_one_body_side']\n"
     ]
    }
   ],
   "source": [
    "# Get all unique symptoms (this part worked before)\n",
    "all_symptoms = []\n",
    "for col in dataset.columns:\n",
    "    if 'Symptom_' in col:\n",
    "        all_symptoms.extend(dataset[col].dropna().unique())\n",
    "unique_symptoms = list(set(all_symptoms) | set(severity['Symptom'].unique()))\n",
    "\n",
    "print(\"Number of unique symptoms:\", len(unique_symptoms))\n",
    "print(\"\\nSample of unique symptoms:\", unique_symptoms[:5])"
   ]
  },
  {
   "cell_type": "code",
   "execution_count": 16,
   "metadata": {},
   "outputs": [],
   "source": [
    "def create_symptom_features(row):\n",
    "    symptoms_dict = {symptom: 0 for symptom in unique_symptoms}\n",
    "    \n",
    "    for col in dataset.columns:\n",
    "        if 'Symptom_' in col and pd.notna(row[col]):\n",
    "            symptom = row[col].strip()\n",
    "            if symptom in severity_dict:\n",
    "                symptoms_dict[symptom] = severity_dict[symptom]\n",
    "    return pd.Series(symptoms_dict)"
   ]
  },
  {
   "cell_type": "code",
   "execution_count": 17,
   "metadata": {},
   "outputs": [],
   "source": [
    "# Create feature matrix\n",
    "X = dataset.apply(create_symptom_features, axis=1)"
   ]
  },
  {
   "cell_type": "code",
   "execution_count": 18,
   "metadata": {},
   "outputs": [
    {
     "name": "stdout",
     "output_type": "stream",
     "text": [
      "\n",
      "Sample of created features:\n",
      "    increased_appetite   distention_of_abdomen   loss_of_balance  \\\n",
      "0                    0                       0                 0   \n",
      "1                    0                       0                 0   \n",
      "2                    0                       0                 0   \n",
      "3                    0                       0                 0   \n",
      "4                    0                       0                 0   \n",
      "\n",
      "    irritability   weakness_of_one_body_side  loss_of_balance  sunken_eyes  \\\n",
      "0              0                           0                0            0   \n",
      "1              0                           0                0            0   \n",
      "2              0                           0                0            0   \n",
      "3              0                           0                0            0   \n",
      "4              0                           0                0            0   \n",
      "\n",
      "   bladder_discomfort  swelling_joints  patches_in_throat  ...  \\\n",
      "0                   0                0                  0  ...   \n",
      "1                   0                0                  0  ...   \n",
      "2                   0                0                  0  ...   \n",
      "3                   0                0                  0  ...   \n",
      "4                   0                0                  0  ...   \n",
      "\n",
      "   stomach_bleeding  rusty_sputum   bloody_stool   indigestion  \\\n",
      "0                 0             0              0             0   \n",
      "1                 0             0              0             0   \n",
      "2                 0             0              0             0   \n",
      "3                 0             0              0             0   \n",
      "4                 0             0              0             0   \n",
      "\n",
      "    burning_micturition   abnormal_menstruation   family_history  \\\n",
      "0                     0                       0                0   \n",
      "1                     0                       0                0   \n",
      "2                     0                       0                0   \n",
      "3                     0                       0                0   \n",
      "4                     0                       0                0   \n",
      "\n",
      "   red_spots_over_body   movement_stiffness   enlarged_thyroid  \n",
      "0                    0                    0                  0  \n",
      "1                    0                    0                  0  \n",
      "2                    0                    0                  0  \n",
      "3                    0                    0                  0  \n",
      "4                    0                    0                  0  \n",
      "\n",
      "[5 rows x 262 columns]\n",
      "\n",
      "Number of non-zero values: 36330\n"
     ]
    }
   ],
   "source": [
    "\n",
    "# Print diagnostic information\n",
    "print(\"\\nSample of created features:\")\n",
    "print(X.head())\n",
    "print(\"\\nNumber of non-zero values:\", (X != 0).sum().sum())"
   ]
  },
  {
   "cell_type": "code",
   "execution_count": 19,
   "metadata": {},
   "outputs": [],
   "source": [
    "# Encode target\n",
    "le = LabelEncoder()\n",
    "y = le.fit_transform(dataset['Disease'])\n"
   ]
  },
  {
   "cell_type": "code",
   "execution_count": 20,
   "metadata": {},
   "outputs": [],
   "source": [
    "# Split data\n",
    "X_train, X_test, y_train, y_test = train_test_split(\n",
    "    X, y, test_size=0.2, random_state=42, stratify=y\n",
    ")\n"
   ]
  },
  {
   "cell_type": "code",
   "execution_count": 21,
   "metadata": {},
   "outputs": [],
   "source": [
    "# Scale features\n",
    "scaler = StandardScaler()\n",
    "X_train_scaled = scaler.fit_transform(X_train)\n",
    "X_test_scaled = scaler.transform(X_test)\n"
   ]
  },
  {
   "cell_type": "code",
   "execution_count": 22,
   "metadata": {},
   "outputs": [],
   "source": [
    "# Save processed data\n",
    "processed_data = {\n",
    "    'X_train': X_train_scaled,\n",
    "    'X_test': X_test_scaled,\n",
    "    'y_train': y_train,\n",
    "    'y_test': y_test,\n",
    "    'feature_names': X.columns.tolist(),\n",
    "    'target_names': le.classes_\n",
    "}"
   ]
  },
  {
   "cell_type": "code",
   "execution_count": 23,
   "metadata": {},
   "outputs": [
    {
     "name": "stdout",
     "output_type": "stream",
     "text": [
      "\n",
      "Data preprocessing completed!\n",
      "Number of features: 262\n",
      "Number of classes: 41\n"
     ]
    }
   ],
   "source": [
    "joblib.dump(processed_data, '../../data/processed/processed_data_v2.joblib')\n",
    "joblib.dump(scaler, '../../data/processed/scaler_v2.joblib')\n",
    "joblib.dump(le, '../../data/processed/label_encoder_v2.joblib')\n",
    "\n",
    "print(\"\\nData preprocessing completed!\")\n",
    "print(f\"Number of features: {X.shape[1]}\")\n",
    "print(f\"Number of classes: {len(le.classes_)}\")"
   ]
  },
  {
   "cell_type": "code",
   "execution_count": 24,
   "metadata": {},
   "outputs": [
    {
     "name": "stdout",
     "output_type": "stream",
     "text": [
      "Keys in processed data: dict_keys(['X_train', 'X_test', 'y_train', 'y_test', 'feature_names', 'target_names'])\n",
      "\n",
      "Training data shape: (3936, 262)\n",
      "Test data shape: (984, 262)\n",
      "\n",
      "Number of features: 262\n",
      "Number of classes: 41\n"
     ]
    }
   ],
   "source": [
    "# Load the processed data\n",
    "processed_data = joblib.load('../../data/processed/processed_data_v2.joblib')\n",
    "\n",
    "# Print the keys in the processed data\n",
    "print(\"Keys in processed data:\", processed_data.keys())\n",
    "\n",
    "# Print information about each component\n",
    "print(\"\\nTraining data shape:\", processed_data['X_train'].shape)\n",
    "print(\"Test data shape:\", processed_data['X_test'].shape)\n",
    "print(\"\\nNumber of features:\", len(processed_data['feature_names']))\n",
    "print(\"Number of classes:\", len(processed_data['target_names']))\n",
    "\n"
   ]
  },
  {
   "cell_type": "code",
   "execution_count": 25,
   "metadata": {},
   "outputs": [
    {
     "name": "stdout",
     "output_type": "stream",
     "text": [
      "\n",
      "Sample of feature names:\n"
     ]
    },
    {
     "data": {
      "text/plain": [
       "[' increased_appetite',\n",
       " ' distention_of_abdomen',\n",
       " ' loss_of_balance',\n",
       " ' irritability',\n",
       " ' weakness_of_one_body_side']"
      ]
     },
     "execution_count": 25,
     "metadata": {},
     "output_type": "execute_result"
    }
   ],
   "source": [
    "# Print sample of feature names\n",
    "print(\"\\nSample of feature names:\")\n",
    "processed_data['feature_names'][:5]\n"
   ]
  },
  {
   "cell_type": "code",
   "execution_count": 26,
   "metadata": {},
   "outputs": [
    {
     "name": "stdout",
     "output_type": "stream",
     "text": [
      "\n",
      "Sample of target names (diseases):\n"
     ]
    },
    {
     "data": {
      "text/plain": [
       "array(['(vertigo) Paroymsal  Positional Vertigo', 'AIDS', 'Acne',\n",
       "       'Alcoholic hepatitis', 'Allergy'], dtype=object)"
      ]
     },
     "execution_count": 26,
     "metadata": {},
     "output_type": "execute_result"
    }
   ],
   "source": [
    "\n",
    "# Print sample of target names (diseases)\n",
    "print(\"\\nSample of target names (diseases):\")\n",
    "processed_data['target_names'][:5]\n",
    "\n"
   ]
  },
  {
   "cell_type": "code",
   "execution_count": 27,
   "metadata": {},
   "outputs": [
    {
     "name": "stdout",
     "output_type": "stream",
     "text": [
      "\n",
      "Sample of training data:\n"
     ]
    },
    {
     "data": {
      "text/plain": [
       "array([[ 0.        ,  0.        ,  0.        ,  0.        ,  0.        ,\n",
       "         3.67749714, -0.14856712, -0.15297364, -0.22081891, -0.14945789,\n",
       "        -0.32163376,  0.        ,  0.        , -0.15811388, -0.15297364,\n",
       "        -0.32018902, -0.15384115,  0.        , -0.36063873,  0.        ,\n",
       "         0.        ,  0.        ,  0.        ,  0.        , -0.15470424,\n",
       "         0.        ,  0.        , -0.61847223, -0.15811388,  0.        ,\n",
       "         0.        ,  6.69084762, -0.22018542,  0.        ,  0.        ,\n",
       "         0.        , -0.21763644, -0.21763644,  0.        ,  0.        ,\n",
       "         0.        ,  0.        , -0.14945789, -0.14856712,  0.        ,\n",
       "         0.        , -0.14945789, -0.15811388,  0.        ,  0.        ,\n",
       "         0.        , -0.15384115,  0.        ,  0.        , -0.15556299,\n",
       "         0.        ,  0.        , -0.15470424, -0.15556299, -0.15811388,\n",
       "         0.        , -0.14945789,  0.        , -0.15297364,  0.        ,\n",
       "         0.        , -0.15811388, -0.15556299, -0.15641747,  0.        ,\n",
       "        -0.15811388, -0.22018542, -0.27246249, -0.15034385, -0.15297364,\n",
       "        -0.80642077, -0.14856712,  0.        ,  0.        ,  0.        ,\n",
       "        -0.40345626, -0.15122507,  0.        ,  3.7144303 ,  0.        ,\n",
       "        -0.36063873,  0.        ,  0.        , -0.15556299,  0.        ,\n",
       "         0.        ,  0.        , -0.15811388,  0.        ,  0.        ,\n",
       "         0.        ,  0.        ,  0.        ,  0.        , -0.15384115,\n",
       "        -0.15384115, -0.15811388, -0.15384115,  0.        , -0.15470424,\n",
       "         0.        , -0.15384115,  0.        , -0.15384115, -0.15556299,\n",
       "        -0.47838055,  0.        ,  0.        ,  0.        , -0.15811388,\n",
       "         0.        , -0.22145092,  0.        ,  0.        ,  0.        ,\n",
       "         0.        , -0.32737287, -0.15297364,  0.        ,  0.        ,\n",
       "         0.        , -0.15384115, -0.22208147, -0.15384115,  0.        ,\n",
       "         0.        ,  0.        , -0.15384115,  0.        , -0.15470424,\n",
       "         0.        , -0.15297364,  0.        ,  0.        , -0.15122507,\n",
       "         0.        ,  0.        , -0.15811388,  0.        ,  0.        ,\n",
       "        -0.39918916, -0.55152058, -0.15811388, -0.14856712,  0.        ,\n",
       "        -0.36243563, -0.32689699,  0.        ,  0.        , -0.39876133,\n",
       "        -0.40558235,  0.        , -0.40812727,  4.51567319,  0.        ,\n",
       "        -0.22145092,  0.        , -0.15641747, -0.15384115, -0.79871932,\n",
       "        -0.31777196, -0.22018542,  0.        ,  0.        ,  0.        ,\n",
       "         0.        ,  0.        ,  0.        , -0.15811388, -0.15811388,\n",
       "        -0.21827597,  0.        , -0.55112881, -0.15384115, -0.14856712,\n",
       "         0.        ,  0.        , -0.22396447,  0.        ,  0.        ,\n",
       "        -0.22396447, -0.15384115,  0.        , -0.51417429,  0.        ,\n",
       "        -0.15384115,  0.        , -0.15384115, -0.15811388, -0.15384115,\n",
       "         0.        , -0.31970653, -0.15811388,  0.        ,  0.        ,\n",
       "        -0.21699537,  0.        ,  0.        , -0.14945789,  0.        ,\n",
       "        -0.15384115, -0.15384115, -0.22645541, -0.43941872, -0.27833536,\n",
       "         0.        ,  0.        ,  0.        , -0.4468045 , -0.14856712,\n",
       "         0.        ,  0.        , -0.15811388,  0.        , -0.15811388,\n",
       "        -0.54838584, -0.15297364,  0.        ,  0.        , -0.22081891,\n",
       "         0.        ,  0.        , -0.15297364, -0.15811388, -0.15034385,\n",
       "         0.        ,  0.        ,  0.        ,  0.        , -0.22333824,\n",
       "        -0.15470424, -0.15470424,  0.        , -0.43612223,  0.        ,\n",
       "        -0.27567701,  0.        ,  0.        ,  0.        , -0.15556299,\n",
       "        -0.15384115,  0.        , -0.27833536,  4.54162676,  0.        ,\n",
       "        -0.21441538,  0.        , -0.15811388, -0.15811388,  0.        ,\n",
       "         0.        ,  0.        ,  0.        ,  0.        , -0.22396447,\n",
       "         0.        ,  0.        ],\n",
       "       [ 0.        ,  0.        ,  0.        ,  0.        ,  0.        ,\n",
       "        -0.27192407, -0.14856712, -0.15297364, -0.22081891, -0.14945789,\n",
       "        -0.32163376,  0.        ,  0.        , -0.15811388, -0.15297364,\n",
       "        -0.32018902, -0.15384115,  0.        , -0.36063873,  0.        ,\n",
       "         0.        ,  0.        ,  0.        ,  0.        , -0.15470424,\n",
       "         0.        ,  0.        , -0.61847223, -0.15811388,  0.        ,\n",
       "         0.        , -0.14945789, -0.22018542,  0.        ,  0.        ,\n",
       "         0.        , -0.21763644, -0.21763644,  0.        ,  0.        ,\n",
       "         0.        ,  0.        , -0.14945789, -0.14856712,  0.        ,\n",
       "         0.        , -0.14945789, -0.15811388,  0.        ,  0.        ,\n",
       "         0.        , -0.15384115,  0.        ,  0.        , -0.15556299,\n",
       "         0.        ,  0.        , -0.15470424, -0.15556299,  6.32455532,\n",
       "         0.        , -0.14945789,  0.        , -0.15297364,  0.        ,\n",
       "         0.        , -0.15811388, -0.15556299, -0.15641747,  0.        ,\n",
       "        -0.15811388, -0.22018542, -0.27246249, -0.15034385, -0.15297364,\n",
       "         1.24004742, -0.14856712,  0.        ,  0.        ,  0.        ,\n",
       "        -0.40345626, -0.15122507,  0.        , -0.26922029,  0.        ,\n",
       "        -0.36063873,  0.        ,  0.        , -0.15556299,  0.        ,\n",
       "         0.        ,  0.        , -0.15811388,  0.        ,  0.        ,\n",
       "         0.        ,  0.        ,  0.        ,  0.        , -0.15384115,\n",
       "        -0.15384115, -0.15811388, -0.15384115,  0.        , -0.15470424,\n",
       "         0.        , -0.15384115,  0.        , -0.15384115, -0.15556299,\n",
       "         2.09038597,  0.        ,  0.        ,  0.        , -0.15811388,\n",
       "         0.        , -0.22145092,  0.        ,  0.        ,  0.        ,\n",
       "         0.        , -0.32737287, -0.15297364,  0.        ,  0.        ,\n",
       "         0.        , -0.15384115, -0.22208147,  6.50021132,  0.        ,\n",
       "         0.        ,  0.        , -0.15384115,  0.        , -0.15470424,\n",
       "         0.        , -0.15297364,  0.        ,  0.        , -0.15122507,\n",
       "         0.        ,  0.        , -0.15811388,  0.        ,  0.        ,\n",
       "        -0.39918916,  1.81316897, -0.15811388, -0.14856712,  0.        ,\n",
       "         2.75911063, -0.32689699,  0.        ,  0.        , -0.39876133,\n",
       "        -0.40558235,  0.        ,  2.45021606, -0.22145092,  0.        ,\n",
       "        -0.22145092,  0.        , -0.15641747, -0.15384115, -0.79871932,\n",
       "        -0.31777196, -0.22018542,  0.        ,  0.        ,  0.        ,\n",
       "         0.        ,  0.        ,  0.        ,  6.32455532, -0.15811388,\n",
       "        -0.21827597,  0.        , -0.55112881, -0.15384115, -0.14856712,\n",
       "         0.        ,  0.        , -0.22396447,  0.        ,  0.        ,\n",
       "        -0.22396447, -0.15384115,  0.        ,  1.94486581,  0.        ,\n",
       "        -0.15384115,  0.        , -0.15384115, -0.15811388, -0.15384115,\n",
       "         0.        ,  3.12786855, -0.15811388,  0.        ,  0.        ,\n",
       "        -0.21699537,  0.        ,  0.        , -0.14945789,  0.        ,\n",
       "        -0.15384115, -0.15384115, -0.22645541, -0.43941872, -0.27833536,\n",
       "         0.        ,  0.        ,  0.        ,  2.23811535, -0.14856712,\n",
       "         0.        ,  0.        , -0.15811388,  0.        , -0.15811388,\n",
       "        -0.54838584, -0.15297364,  0.        ,  0.        , -0.22081891,\n",
       "         0.        ,  0.        , -0.15297364, -0.15811388, -0.15034385,\n",
       "         0.        ,  0.        ,  0.        ,  0.        , -0.22333824,\n",
       "        -0.15470424, -0.15470424,  0.        , -0.43612223,  0.        ,\n",
       "        -0.27567701,  0.        ,  0.        ,  0.        , -0.15556299,\n",
       "        -0.15384115,  0.        , -0.27833536, -0.22018542,  0.        ,\n",
       "        -0.21441538,  0.        , -0.15811388, -0.15811388,  0.        ,\n",
       "         0.        ,  0.        ,  0.        ,  0.        , -0.22396447,\n",
       "         0.        ,  0.        ]])"
      ]
     },
     "execution_count": 27,
     "metadata": {},
     "output_type": "execute_result"
    }
   ],
   "source": [
    "\n",
    "print(\"\\nSample of training data:\")\n",
    "processed_data['X_train'][:2]"
   ]
  }
 ],
 "metadata": {
  "kernelspec": {
   "display_name": "conda_env",
   "language": "python",
   "name": "python3"
  },
  "language_info": {
   "codemirror_mode": {
    "name": "ipython",
    "version": 3
   },
   "file_extension": ".py",
   "mimetype": "text/x-python",
   "name": "python",
   "nbconvert_exporter": "python",
   "pygments_lexer": "ipython3",
   "version": "3.12.9"
  }
 },
 "nbformat": 4,
 "nbformat_minor": 2
}
