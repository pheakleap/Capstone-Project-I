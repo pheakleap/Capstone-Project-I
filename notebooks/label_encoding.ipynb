{
 "cells": [
  {
   "cell_type": "code",
   "execution_count": 1,
   "metadata": {},
   "outputs": [],
   "source": [
    "import pandas as pd\n",
    "import numpy as np\n",
    "from sklearn.model_selection import train_test_split\n",
    "from sklearn.preprocessing import LabelEncoder"
   ]
  },
  {
   "cell_type": "code",
   "execution_count": 4,
   "metadata": {},
   "outputs": [],
   "source": [
    "file_path = 'C:/Users/LENOVO/OneDrive - Cambodia Academy of Digital Technology/Documents/Year 03/Year3 Term2/Cap Stone/Capstone-Project-I/data/processed/Cleaned_Top15diseases.csv'\n",
    "diseases_df = pd.read_csv(file_path)"
   ]
  },
  {
   "cell_type": "code",
   "execution_count": 24,
   "metadata": {},
   "outputs": [],
   "source": [
    "# Encode the Disease column into numerical labels\n",
    "label_encoder_disease = LabelEncoder()\n",
    "diseases_df[\"Disease_Encoded\"] = label_encoder_disease.fit_transform(diseases_df[\"Disease\"])\n",
    "\n",
    "# Exclude the 'Symptoms' and 'Symptoms_Count'column if it exists\n",
    "if \"Symptoms\" in diseases_df.columns:\n",
    "    diseases_df = diseases_df.drop(columns=[\"Symptoms\"] + [\"Symptoms_Count\"])\n",
    "\n",
    "# Convert symptom columns into lists (handle NaN values)\n",
    "symptom_columns = [col for col in diseases_df.columns if \"Symptom_\" in col and col != \"Symptoms_Count\" and col != \"Symptoms\"]\n",
    "diseases_df[symptom_columns] = diseases_df[symptom_columns].fillna(\"\")\n",
    "\n",
    "# Flatten all symptom values and apply Label Encoding\n",
    "all_symptoms = diseases_df[symptom_columns].values.flatten()\n",
    "unique_symptoms = list(set(all_symptoms) - {\"\"})  # Remove empty values\n",
    "\n",
    "# Create a Label Encoder for symptoms\n",
    "label_encoder_symptoms = LabelEncoder()\n",
    "label_encoder_symptoms.fit(unique_symptoms)\n",
    "\n",
    "# Encode each symptom in the dataset\n",
    "for col in symptom_columns:\n",
    "    diseases_df[col] = diseases_df[col].apply(lambda x: label_encoder_symptoms.transform([x])[0] if x != \"\" else -1)\n"
   ]
  },
  {
   "cell_type": "code",
   "execution_count": 25,
   "metadata": {},
   "outputs": [],
   "source": [
    "# Save the encoded DataFrame to a new CSV file\n",
    "output_file_path = 'c:/Users/LENOVO/OneDrive - Cambodia Academy of Digital Technology/Documents/Year 03/Year3 Term2/Cap Stone/Capstone-Project-I/data/processed/Cleaned_label_encoded.csv'\n",
    "diseases_df.to_csv(output_file_path, index=False)"
   ]
  },
  {
   "cell_type": "code",
   "execution_count": 12,
   "metadata": {},
   "outputs": [
    {
     "name": "stdout",
     "output_type": "stream",
     "text": [
      "Symptom_1        object\n",
      "Symptom_2        object\n",
      "Symptom_3        object\n",
      "Symptom_4        object\n",
      "Symptom_5        object\n",
      "Symptom_6        object\n",
      "Symptom_7        object\n",
      "Symptom_8        object\n",
      "Symptom_9        object\n",
      "Symptom_10       object\n",
      "Symptom_11       object\n",
      "Symptom_12       object\n",
      "Symptom_13       object\n",
      "Symptom_14       object\n",
      "Symptom_15       object\n",
      "Symptom_16       object\n",
      "Symptom_17       object\n",
      "Symptom_Count     int64\n",
      "dtype: object\n",
      "      Symptom_1     Symptom_2                      Symptom_3  \\\n",
      "0       acidity   indigestion                       headache   \n",
      "1   indigestion      headache   blurred_and_distorted_vision   \n",
      "2       acidity      headache   blurred_and_distorted_vision   \n",
      "3       acidity   indigestion   blurred_and_distorted_vision   \n",
      "4       acidity   indigestion                       headache   \n",
      "\n",
      "                       Symptom_4          Symptom_5    Symptom_6  \\\n",
      "0   blurred_and_distorted_vision   excessive_hunger   stiff_neck   \n",
      "1               excessive_hunger         stiff_neck   depression   \n",
      "2               excessive_hunger         stiff_neck   depression   \n",
      "3               excessive_hunger         stiff_neck   depression   \n",
      "4               excessive_hunger         stiff_neck   depression   \n",
      "\n",
      "       Symptom_7             Symptom_8             Symptom_9 Symptom_10  \\\n",
      "0     depression          irritability   visual_disturbances        NaN   \n",
      "1   irritability   visual_disturbances                   NaN        NaN   \n",
      "2   irritability   visual_disturbances                   NaN        NaN   \n",
      "3   irritability   visual_disturbances                   NaN        NaN   \n",
      "4   irritability   visual_disturbances                   NaN        NaN   \n",
      "\n",
      "  Symptom_11 Symptom_12 Symptom_13 Symptom_14 Symptom_15 Symptom_16  \\\n",
      "0        NaN        NaN        NaN        NaN        NaN        NaN   \n",
      "1        NaN        NaN        NaN        NaN        NaN        NaN   \n",
      "2        NaN        NaN        NaN        NaN        NaN        NaN   \n",
      "3        NaN        NaN        NaN        NaN        NaN        NaN   \n",
      "4        NaN        NaN        NaN        NaN        NaN        NaN   \n",
      "\n",
      "  Symptom_17  Symptom_Count  \n",
      "0        NaN              9  \n",
      "1        NaN              8  \n",
      "2        NaN              8  \n",
      "3        NaN              8  \n",
      "4        NaN              8  \n"
     ]
    }
   ],
   "source": [
    "print(diseases_df[symptom_columns].dtypes)\n",
    "print(diseases_df[symptom_columns].head())\n"
   ]
  }
 ],
 "metadata": {
  "kernelspec": {
   "display_name": "reg",
   "language": "python",
   "name": "python3"
  },
  "language_info": {
   "codemirror_mode": {
    "name": "ipython",
    "version": 3
   },
   "file_extension": ".py",
   "mimetype": "text/x-python",
   "name": "python",
   "nbconvert_exporter": "python",
   "pygments_lexer": "ipython3",
   "version": "3.12.4"
  }
 },
 "nbformat": 4,
 "nbformat_minor": 2
}
