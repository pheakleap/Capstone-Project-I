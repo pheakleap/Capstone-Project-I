{
 "cells": [
  {
   "cell_type": "code",
   "execution_count": 2,
   "id": "e0a49962",
   "metadata": {},
   "outputs": [],
   "source": [
    "import joblib\n",
    "import pandas as pd\n",
    "from sklearn.metrics import accuracy_score"
   ]
  },
  {
   "cell_type": "code",
   "execution_count": 3,
   "id": "023ae1a7",
   "metadata": {},
   "outputs": [],
   "source": [
    "model = joblib.load(\"D:/Term7/Capstone-Project-I/src/models/best_ensemble_model.joblib\")\n",
    "X_test = pd.read_csv(\"../data/raw/X_test.csv\")\n",
    "y_test = pd.read_csv(\"../data/raw/y_test.csv\")"
   ]
  },
  {
   "cell_type": "code",
   "execution_count": 4,
   "id": "089cf492",
   "metadata": {},
   "outputs": [],
   "source": [
    "ensemble_preds = model.predict(X_test)\n"
   ]
  },
  {
   "cell_type": "code",
   "execution_count": 5,
   "id": "9bc1bbbe",
   "metadata": {},
   "outputs": [
    {
     "name": "stdout",
     "output_type": "stream",
     "text": [
      "Ensemble Accuracy: 0.8862\n"
     ]
    }
   ],
   "source": [
    "ensemble_acc = accuracy_score(y_test, ensemble_preds)\n",
    "print(f\"Ensemble Accuracy: {ensemble_acc:.4f}\")"
   ]
  },
  {
   "cell_type": "code",
   "execution_count": 6,
   "id": "8cbd4263",
   "metadata": {},
   "outputs": [],
   "source": [
    "feature_encoders = joblib.load(\"D:/Term7/Capstone-Project-I/src/models/symptom_encoder.joblib\")\n",
    "target_encoder = joblib.load(\"D:/Term7/Capstone-Project-I/src/models/disease_encoder.joblib\")"
   ]
  },
  {
   "cell_type": "code",
   "execution_count": 7,
   "id": "604cbfcb",
   "metadata": {},
   "outputs": [
    {
     "name": "stdout",
     "output_type": "stream",
     "text": [
      "[' abdominal_pain' ' abnormal_menstruation' ' acidity'\n",
      " ' acute_liver_failure' ' altered_sensorium' ' anxiety' ' back_pain'\n",
      " ' belly_pain' ' blackheads' ' bladder_discomfort' ' blister'\n",
      " ' blood_in_sputum' ' bloody_stool' ' blurred_and_distorted_vision'\n",
      " ' breathlessness' ' brittle_nails' ' bruising' ' burning_micturition'\n",
      " ' chest_pain' ' chills' ' cold_hands_and_feets' ' coma' ' congestion'\n",
      " ' constipation' ' continuous_feel_of_urine' ' continuous_sneezing'\n",
      " ' cough' ' cramps' ' dark_urine' ' dehydration' ' depression'\n",
      " ' diarrhoea' ' dischromic _patches' ' distention_of_abdomen' ' dizziness'\n",
      " ' drying_and_tingling_lips' ' enlarged_thyroid' ' excessive_hunger'\n",
      " ' extra_marital_contacts' ' family_history' ' fast_heart_rate' ' fatigue'\n",
      " ' fluid_overload' ' foul_smell_of urine' ' headache' ' high_fever'\n",
      " ' hip_joint_pain' ' history_of_alcohol_consumption' ' increased_appetite'\n",
      " ' indigestion' ' inflammatory_nails' ' internal_itching'\n",
      " ' irregular_sugar_level' ' irritability' ' irritation_in_anus'\n",
      " ' joint_pain' ' knee_pain' ' lack_of_concentration' ' lethargy'\n",
      " ' loss_of_appetite' ' loss_of_balance' ' loss_of_smell' ' malaise'\n",
      " ' mild_fever' ' mood_swings' ' movement_stiffness' ' mucoid_sputum'\n",
      " ' muscle_pain' ' muscle_wasting' ' muscle_weakness' ' nausea'\n",
      " ' neck_pain' ' nodal_skin_eruptions' ' obesity' ' pain_behind_the_eyes'\n",
      " ' pain_during_bowel_movements' ' pain_in_anal_region' ' painful_walking'\n",
      " ' palpitations' ' passage_of_gases' ' patches_in_throat' ' phlegm'\n",
      " ' polyuria' ' prominent_veins_on_calf' ' puffy_face_and_eyes'\n",
      " ' pus_filled_pimples' ' receiving_blood_transfusion'\n",
      " ' receiving_unsterile_injections' ' red_sore_around_nose'\n",
      " ' red_spots_over_body' ' redness_of_eyes' ' restlessness' ' runny_nose'\n",
      " ' rusty_sputum' ' scurring' ' shivering' ' silver_like_dusting'\n",
      " ' sinus_pressure' ' skin_peeling' ' skin_rash' ' slurred_speech'\n",
      " ' small_dents_in_nails' ' spinning_movements' ' spotting_ urination'\n",
      " ' stiff_neck' ' stomach_bleeding' ' stomach_pain' ' sunken_eyes'\n",
      " ' sweating' ' swelled_lymph_nodes' ' swelling_joints'\n",
      " ' swelling_of_stomach' ' swollen_blood_vessels' ' swollen_extremeties'\n",
      " ' swollen_legs' ' throat_irritation' ' toxic_look_(typhos)'\n",
      " ' ulcers_on_tongue' ' unsteadiness' ' visual_disturbances' ' vomiting'\n",
      " ' watering_from_eyes' ' weakness_in_limbs' ' weakness_of_one_body_side'\n",
      " ' weight_gain' ' weight_loss' ' yellow_crust_ooze' ' yellow_urine'\n",
      " ' yellowing_of_eyes' ' yellowish_skin' 'itching' 'none']\n"
     ]
    }
   ],
   "source": [
    "print(feature_encoders.classes_)"
   ]
  },
  {
   "cell_type": "code",
   "execution_count": 8,
   "id": "3e9adcdc",
   "metadata": {},
   "outputs": [
    {
     "ename": "NameError",
     "evalue": "name 'encoded_colors' is not defined",
     "output_type": "error",
     "traceback": [
      "\u001b[1;31m---------------------------------------------------------------------------\u001b[0m",
      "\u001b[1;31mNameError\u001b[0m                                 Traceback (most recent call last)",
      "Cell \u001b[1;32mIn[8], line 1\u001b[0m\n\u001b[1;32m----> 1\u001b[0m decoded_colors \u001b[38;5;241m=\u001b[39m feature_encoders\u001b[38;5;241m.\u001b[39minverse_transform(\u001b[43mencoded_colors\u001b[49m)\n\u001b[0;32m      2\u001b[0m \u001b[38;5;28mprint\u001b[39m(\u001b[38;5;124m\"\u001b[39m\u001b[38;5;124mDecoded colors:\u001b[39m\u001b[38;5;124m\"\u001b[39m, decoded_colors)\n",
      "\u001b[1;31mNameError\u001b[0m: name 'encoded_colors' is not defined"
     ]
    }
   ],
   "source": [
    "decoded_colors = feature_encoders.inverse_transform(encoded_colors)\n",
    "print(\"Decoded colors:\", decoded_colors)"
   ]
  },
  {
   "cell_type": "code",
   "execution_count": null,
   "id": "55febad4",
   "metadata": {},
   "outputs": [],
   "source": [
    "# for name, model in model.named_estimators_.items():\n",
    "#     preds = model.predict(X_test)\n",
    "#     acc = accuracy_score(y_test, preds)\n",
    "#     print(f\"{name} Accuracy: {acc:.4f}\")"
   ]
  },
  {
   "cell_type": "code",
   "execution_count": null,
   "id": "bfdd2daa",
   "metadata": {},
   "outputs": [
    {
     "name": "stdout",
     "output_type": "stream",
     "text": [
      "lr Accuracy: 0.6748\n",
      "rf Accuracy: 0.9024\n",
      "catboost Accuracy: 0.8862\n",
      "lgb Accuracy: 0.9431\n",
      "nb Accuracy: 0.5935\n",
      "svm Accuracy: 0.7236\n"
     ]
    },
    {
     "data": {
      "image/png": "[encoded data removed]",
      "text/plain": [
       "<Figure size 800x600 with 1 Axes>"
      ]
     },
     "metadata": {},
     "output_type": "display_data"
    }
   ],
   "source": [
    "import matplotlib.pyplot as plt\n",
    "\n",
    "# Dictionary to store accuracies\n",
    "model_accuracies = {}\n",
    "\n",
    "# Loop through each individual model\n",
    "for name, model in model.named_estimators_.items():\n",
    "    preds = model.predict(X_test)\n",
    "    acc = accuracy_score(y_test, preds)\n",
    "    model_accuracies[name] = acc\n",
    "    print(f\"{name} Accuracy: {acc:.4f}\")\n",
    "\n",
    "# Plotting\n",
    "plt.figure(figsize=(8,6))\n",
    "plt.bar(model_accuracies.keys(), model_accuracies.values(), color='skyblue')\n",
    "plt.title('Individual Model Accuracies inside VotingClassifier')\n",
    "plt.ylabel('Accuracy')\n",
    "plt.ylim(0,1)\n",
    "plt.grid(axis='y', linestyle='--', alpha=0.7)\n",
    "plt.show()\n"
   ]
  }
 ],
 "metadata": {
  "kernelspec": {
   "display_name": "env",
   "language": "python",
   "name": "python3"
  },
  "language_info": {
   "codemirror_mode": {
    "name": "ipython",
    "version": 3
   },
   "file_extension": ".py",
   "mimetype": "text/x-python",
   "name": "python",
   "nbconvert_exporter": "python",
   "pygments_lexer": "ipython3",
   "version": "3.9.21"
  }
 },
 "nbformat": 4,
 "nbformat_minor": 5
}
