{
 "cells": [
  {
   "cell_type": "code",
   "execution_count": 4,
   "metadata": {},
   "outputs": [],
   "source": [
    "import pandas as pd\n",
    "import numpy as np\n",
    "from sklearn.preprocessing import LabelEncoder\n",
    "from sklearn.model_selection import train_test_split"
   ]
  },
  {
   "cell_type": "code",
   "execution_count": null,
   "metadata": {},
   "outputs": [],
   "source": [
    "# 1. Load the data\n",
    "dataset = pd.read_csv('../../data/raw/dataset.csv')\n",
    "severity = pd.read_csv('../../data/raw/Symptom-severity.csv')"
   ]
  },
  {
   "cell_type": "code",
   "execution_count": null,
   "metadata": {},
   "outputs": [],
   "source": [
    "#create symptom encoder\n",
    "all_symptoms = []\n",
    "for col in dataset.columns:\n",
    "    if 'Symptom_' in col:\n",
    "        all_symptoms.extend(dataset[col].dropna().unique())\n",
    "unique_symptoms = list(set(all_symptoms))"
   ]
  },
  {
   "cell_type": "code",
   "execution_count": null,
   "metadata": {},
   "outputs": [],
   "source": [
    "def create_symptom_features(row):\n",
    "    # init dict with 0s for all symptoms\n",
    "    symptoms_dict = {symptom: 0 for symptom in unique_symptoms}\n",
    "    \n",
    "    # update dict for 1s for all present symptoms\n",
    "    for col in dataset.columns:\n",
    "        if 'Symptom_' in col and pd.notna(row[col]):\n",
    "            symptoms_dict[row[col]] = 1\n",
    "            \n",
    "    return pd.Series(symptoms_dict)"
   ]
  },
  {
   "cell_type": "code",
   "execution_count": null,
   "metadata": {},
   "outputs": [
    {
     "name": "stdout",
     "output_type": "stream",
     "text": [
      "Feature matrix shape: (4920, 131)\n"
     ]
    }
   ],
   "source": [
    "# transform the data\n",
    "X = dataset.apply(create_symptom_features, axis=1)\n",
    "print(\"Feature matrix shape:\", X.shape)"
   ]
  },
  {
   "cell_type": "code",
   "execution_count": null,
   "metadata": {},
   "outputs": [],
   "source": [
    "# encode the target (disease)\n",
    "le = LabelEncoder()\n",
    "y = le.fit_transform(dataset['Disease'])"
   ]
  },
  {
   "cell_type": "code",
   "execution_count": null,
   "metadata": {},
   "outputs": [],
   "source": [
    "# split data\n",
    "X_train, X_test, y_train, y_test = train_test_split(\n",
    "    X, y, test_size=0.2, random_state=42, stratify=y\n",
    ")"
   ]
  },
  {
   "cell_type": "code",
   "execution_count": null,
   "metadata": {},
   "outputs": [],
   "source": [
    "# save processed data\n",
    "processed_data = {\n",
    "    'X_train': X_train,\n",
    "    'X_test': X_test,\n",
    "    'y_train': y_train,\n",
    "    'y_test': y_test,\n",
    "    'feature_names': list(X.columns),\n",
    "    'target_names': list(le.classes_)\n",
    "}"
   ]
  },
  {
   "cell_type": "code",
   "execution_count": null,
   "metadata": {},
   "outputs": [
    {
     "data": {
      "text/plain": [
       "['../data/processed/label_encoder.joblib']"
      ]
     },
     "execution_count": 12,
     "metadata": {},
     "output_type": "execute_result"
    }
   ],
   "source": [
    "# save the data\n",
    "import joblib\n",
    "joblib.dump(processed_data, '../../data/processed/processed_data.joblib')\n",
    "joblib.dump(le, '../../data/processed/label_encoder.joblib')"
   ]
  },
  {
   "cell_type": "code",
   "execution_count": 13,
   "metadata": {},
   "outputs": [
    {
     "name": "stdout",
     "output_type": "stream",
     "text": [
      "Data preprocessing completed!\n",
      "Number of features: 131\n",
      "Number of classes: 41\n"
     ]
    }
   ],
   "source": [
    "print(\"Data preprocessing completed!\")\n",
    "print(f\"Number of features: {X.shape[1]}\")\n",
    "print(f\"Number of classes: {len(le.classes_)}\")"
   ]
  }
 ],
 "metadata": {
  "kernelspec": {
   "display_name": "venv",
   "language": "python",
   "name": "python3"
  },
  "language_info": {
   "codemirror_mode": {
    "name": "ipython",
    "version": 3
   },
   "file_extension": ".py",
   "mimetype": "text/x-python",
   "name": "python",
   "nbconvert_exporter": "python",
   "pygments_lexer": "ipython3",
   "version": "3.11.6"
  }
 },
 "nbformat": 4,
 "nbformat_minor": 2
}
