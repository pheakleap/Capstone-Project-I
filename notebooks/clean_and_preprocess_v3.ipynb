{
 "cells": [
  {
   "cell_type": "code",
   "execution_count": 29,
   "id": "f7a320e2",
   "metadata": {},
   "outputs": [],
   "source": [
    "import pandas as pd\n",
    "from sklearn.preprocessing import LabelEncoder, MultiLabelBinarizer\n",
    "from imblearn.over_sampling import SMOTENC\n",
    "import pickle"
   ]
  },
  {
   "cell_type": "code",
   "execution_count": 30,
   "id": "dd885e63",
   "metadata": {},
   "outputs": [],
   "source": [
    "df = pd.read_csv(\"../data/raw/DiseaseAndSymptoms.csv\")"
   ]
  },
  {
   "cell_type": "code",
   "execution_count": null,
   "id": "9160daa9",
   "metadata": {},
   "outputs": [],
   "source": [
    "# Combine symptoms into a list per row (ignoring nulls)\n",
    "df['Symptoms'] = df.apply(lambda row: [row[f'Symptom_{i}'] for i in range(1, 18) if pd.notna(row[f'Symptom_{i}'])], axis=1)\n",
    "\n",
    "# Encode symptoms into binary features\n",
    "mlb = MultiLabelBinarizer()\n",
    "X = mlb.fit_transform(df['Symptoms'])\n",
    "\n",
    "# Encode disease labels\n",
    "le = LabelEncoder()\n",
    "y = le.fit_transform(df['Disease'])\n",
    "\n",
    "# Split data into train/test sets\n",
    "X_train, X_test, y_train, y_test = train_test_split(X, y, test_size=0.2, random_state=42)\n",
    "\n",
    "# Initialize and train the model\n",
    "model = RandomForestClassifier(n_estimators=200, class_weight='balanced', random_state=42)\n",
    "model.fit(X_train, y_train)\n",
    "\n",
    "# Evaluate\n",
    "y_pred = model.predict(X_test)\n",
    "print(f\"Accuracy: {accuracy_score(y_test, y_pred):.2f}\")"
   ]
  },
  {
   "cell_type": "code",
   "execution_count": 31,
   "id": "8a885bea",
   "metadata": {},
   "outputs": [],
   "source": [
    "# df.fillna('none', inplace=True)\n",
    "# df.drop_duplicates(inplace=True)"
   ]
  },
  {
   "cell_type": "code",
   "execution_count": 32,
   "id": "cda8278a",
   "metadata": {},
   "outputs": [],
   "source": [
    "# disease_encoder = LabelEncoder()\n",
    "# df['Disease_encoded'] = disease_encoder.fit_transform(df['Disease'])"
   ]
  },
  {
   "cell_type": "code",
   "execution_count": 33,
   "id": "1362ef3e",
   "metadata": {},
   "outputs": [],
   "source": [
    "# symptom_cols = [f'Symptom_{i}' for i in range(1, 18)]"
   ]
  },
  {
   "cell_type": "code",
   "execution_count": 34,
   "id": "34c84460",
   "metadata": {},
   "outputs": [],
   "source": [
    "# df['Symptoms_combined'] = df[symptom_cols].values.tolist()\n",
    "# df['Symptoms_combined'] = df['Symptoms_combined'].apply(lambda x: [symptom for symptom in x if pd.notnull(symptom)])"
   ]
  },
  {
   "cell_type": "code",
   "execution_count": 35,
   "id": "72dacb21",
   "metadata": {},
   "outputs": [],
   "source": [
    "# df.head()"
   ]
  },
  {
   "cell_type": "code",
   "execution_count": 36,
   "id": "27bbb047",
   "metadata": {},
   "outputs": [],
   "source": [
    "# mlb = MultiLabelBinarizer()\n",
    "# symptoms_encoded = mlb.fit_transform(df['Symptoms_combined'])"
   ]
  },
  {
   "cell_type": "code",
   "execution_count": 37,
   "id": "90c29696",
   "metadata": {},
   "outputs": [],
   "source": [
    "# symptoms_df = pd.DataFrame(symptoms_encoded, columns=mlb.classes_)"
   ]
  },
  {
   "cell_type": "code",
   "execution_count": 38,
   "id": "2ea083da",
   "metadata": {},
   "outputs": [],
   "source": [
    "# symptoms_df.head()"
   ]
  },
  {
   "cell_type": "code",
   "execution_count": 39,
   "id": "3a4c5761",
   "metadata": {},
   "outputs": [],
   "source": [
    "# print(df['Disease_encoded'])"
   ]
  },
  {
   "cell_type": "code",
   "execution_count": 40,
   "id": "f6337502",
   "metadata": {},
   "outputs": [],
   "source": [
    "# X = symptoms_df\n",
    "# y = df['Disease_encoded']"
   ]
  },
  {
   "cell_type": "code",
   "execution_count": 41,
   "id": "a38824c6",
   "metadata": {},
   "outputs": [],
   "source": [
    "# X.to_csv('../data/processed/X_clean.csv', index=False)\n",
    "# y.to_csv('../data/processed/y_clean.csv', index=False)"
   ]
  },
  {
   "cell_type": "code",
   "execution_count": 42,
   "id": "8348a0c9",
   "metadata": {},
   "outputs": [],
   "source": [
    "# with open('../src/models/disease_encoder.pkl', 'wb') as f:\n",
    "#     pickle.dump(disease_encoder, f)\n",
    "\n",
    "# with open('../src/models/symptom_mlb.pkl', 'wb') as f:\n",
    "#     pickle.dump(mlb, f)"
   ]
  }
 ],
 "metadata": {
  "kernelspec": {
   "display_name": "env",
   "language": "python",
   "name": "python3"
  },
  "language_info": {
   "codemirror_mode": {
    "name": "ipython",
    "version": 3
   },
   "file_extension": ".py",
   "mimetype": "text/x-python",
   "name": "python",
   "nbconvert_exporter": "python",
   "pygments_lexer": "ipython3",
   "version": "3.9.21"
  }
 },
 "nbformat": 4,
 "nbformat_minor": 5
}
