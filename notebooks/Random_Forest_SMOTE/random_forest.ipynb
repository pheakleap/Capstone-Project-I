{
 "cells": [
  {
   "cell_type": "code",
   "execution_count": 8,
   "id": "8d6f5f40",
   "metadata": {},
   "outputs": [],
   "source": [
    "import pandas as pd\n",
    "import numpy as np\n",
    "from sklearn.model_selection import train_test_split, StratifiedKFold, GridSearchCV\n",
    "from sklearn.ensemble import RandomForestClassifier\n",
    "from sklearn.metrics import classification_report, confusion_matrix, accuracy_score\n",
    "from imblearn.over_sampling import SMOTE\n",
    "import matplotlib.pyplot as plt\n"
   ]
  },
  {
   "cell_type": "code",
   "execution_count": 9,
   "id": "3010e762",
   "metadata": {},
   "outputs": [
    {
     "name": "stdout",
     "output_type": "stream",
     "text": [
      "Class Distribution:\n",
      " Disease_Encoded\n",
      "3     120\n",
      "10    120\n",
      "0     120\n",
      "2     120\n",
      "13    120\n",
      "14    120\n",
      "4     120\n",
      "5     120\n",
      "6     120\n",
      "12    120\n",
      "1     120\n",
      "11    120\n",
      "9     120\n",
      "7     120\n",
      "8     120\n",
      "Name: count, dtype: int64\n"
     ]
    }
   ],
   "source": [
    "# Load the encoded dataset\n",
    "encoded_file_path = r\"D:\\CADT University\\CADT-Y3\\CodeAllSub\\Capstone\\Capstone-Project-I\\data\\processed\\lyleab_file\\encoded_cleaned_top15diseases.csv\"\n",
    "df = pd.read_csv(encoded_file_path)\n",
    "\n",
    "# Split dataset into features (X) and target (y)\n",
    "X = df.drop(columns=['Disease_Encoded'])\n",
    "y = df['Disease_Encoded']\n",
    "\n",
    "# Step 1: Check the class distribution\n",
    "print(\"Class Distribution:\\n\", y.value_counts())\n"
   ]
  },
  {
   "cell_type": "code",
   "execution_count": 10,
   "id": "cb68c672",
   "metadata": {},
   "outputs": [
    {
     "name": "stdout",
     "output_type": "stream",
     "text": [
      "Resampled Class Distribution:\n",
      " Disease_Encoded\n",
      "6     84\n",
      "14    84\n",
      "0     84\n",
      "4     84\n",
      "13    84\n",
      "7     84\n",
      "2     84\n",
      "11    84\n",
      "12    84\n",
      "1     84\n",
      "5     84\n",
      "9     84\n",
      "10    84\n",
      "3     84\n",
      "8     84\n",
      "Name: count, dtype: int64\n"
     ]
    }
   ],
   "source": [
    "smote = SMOTE(sampling_strategy='auto', random_state=42)  # You can also set a specific ratio to oversample class 6\n",
    "X_train_resampled, y_train_resampled = smote.fit_resample(X_train, y_train)\n",
    "\n",
    "# Check new class distribution after SMOTE\n",
    "print(\"Resampled Class Distribution:\\n\", pd.Series(y_train_resampled).value_counts())"
   ]
  },
  {
   "cell_type": "code",
   "execution_count": 11,
   "id": "b5f1a743",
   "metadata": {},
   "outputs": [],
   "source": [
    "X_train, X_test, y_train, y_test = train_test_split(X_resampled, y_resampled, test_size=0.3, random_state=42, stratify=y_resampled)"
   ]
  },
  {
   "cell_type": "code",
   "execution_count": 12,
   "id": "8c700eee",
   "metadata": {},
   "outputs": [
    {
     "name": "stdout",
     "output_type": "stream",
     "text": [
      "Fitting 5 folds for each of 108 candidates, totalling 540 fits\n",
      "Best hyperparameters found: {'max_depth': None, 'min_samples_leaf': 1, 'min_samples_split': 2, 'n_estimators': 100}\n"
     ]
    }
   ],
   "source": [
    "# Define Random Forest model with class weight balanced\n",
    "rf_model = RandomForestClassifier(class_weight='balanced', random_state=42)\n",
    "\n",
    "# Define hyperparameter grid for tuning\n",
    "param_grid = {\n",
    "    'n_estimators': [100, 200, 500],  # Number of trees\n",
    "    'max_depth': [None, 10, 20, 30],  # Maximum depth of the tree\n",
    "    'min_samples_split': [2, 5, 10],  # Minimum samples required to split an internal node\n",
    "    'min_samples_leaf': [1, 2, 4],    # Minimum samples required at each leaf node\n",
    "}\n",
    "\n",
    "# Set up GridSearchCV for hyperparameter tuning with cross-validation\n",
    "grid_search = GridSearchCV(estimator=rf_model, param_grid=param_grid, cv=5, n_jobs=-1, verbose=1)\n",
    "grid_search.fit(X_train_resampled, y_train_resampled)\n",
    "\n",
    "# Get best model and hyperparameters\n",
    "best_rf_model = grid_search.best_estimator_\n",
    "best_params = grid_search.best_params_\n",
    "print(f'Best hyperparameters found: {best_params}')\n"
   ]
  },
  {
   "cell_type": "code",
   "execution_count": 13,
   "id": "a548c133",
   "metadata": {},
   "outputs": [
    {
     "name": "stdout",
     "output_type": "stream",
     "text": [
      "Accuracy: 0.8574074074074074\n",
      "\n",
      "Classification Report:\n",
      "               precision    recall  f1-score   support\n",
      "\n",
      "           0       0.89      0.86      0.87        36\n",
      "           1       1.00      1.00      1.00        36\n",
      "           2       0.95      1.00      0.97        36\n",
      "           3       0.95      1.00      0.97        36\n",
      "           4       0.35      1.00      0.52        36\n",
      "           5       1.00      1.00      1.00        36\n",
      "           6       0.00      0.00      0.00        36\n",
      "           7       1.00      1.00      1.00        36\n",
      "           8       1.00      0.94      0.97        36\n",
      "           9       1.00      1.00      1.00        36\n",
      "          10       1.00      1.00      1.00        36\n",
      "          11       1.00      1.00      1.00        36\n",
      "          12       0.92      1.00      0.96        36\n",
      "          13       1.00      1.00      1.00        36\n",
      "          14       1.00      0.06      0.11        36\n",
      "\n",
      "    accuracy                           0.86       540\n",
      "   macro avg       0.87      0.86      0.83       540\n",
      "weighted avg       0.87      0.86      0.83       540\n",
      "\n",
      "\n",
      "Confusion Matrix:\n",
      " [[31  0  2  0  0  0  0  0  0  0  0  0  3  0  0]\n",
      " [ 0 36  0  0  0  0  0  0  0  0  0  0  0  0  0]\n",
      " [ 0  0 36  0  0  0  0  0  0  0  0  0  0  0  0]\n",
      " [ 0  0  0 36  0  0  0  0  0  0  0  0  0  0  0]\n",
      " [ 0  0  0  0 36  0  0  0  0  0  0  0  0  0  0]\n",
      " [ 0  0  0  0  0 36  0  0  0  0  0  0  0  0  0]\n",
      " [ 0  0  0  0 36  0  0  0  0  0  0  0  0  0  0]\n",
      " [ 0  0  0  0  0  0  0 36  0  0  0  0  0  0  0]\n",
      " [ 0  0  0  2  0  0  0  0 34  0  0  0  0  0  0]\n",
      " [ 0  0  0  0  0  0  0  0  0 36  0  0  0  0  0]\n",
      " [ 0  0  0  0  0  0  0  0  0  0 36  0  0  0  0]\n",
      " [ 0  0  0  0  0  0  0  0  0  0  0 36  0  0  0]\n",
      " [ 0  0  0  0  0  0  0  0  0  0  0  0 36  0  0]\n",
      " [ 0  0  0  0  0  0  0  0  0  0  0  0  0 36  0]\n",
      " [ 4  0  0  0 30  0  0  0  0  0  0  0  0  0  2]]\n"
     ]
    },
    {
     "name": "stderr",
     "output_type": "stream",
     "text": [
      "d:\\Downlaod\\APPLICATION\\Anaconda\\App_File\\envs\\condaEnv\\Lib\\site-packages\\sklearn\\metrics\\_classification.py:1565: UndefinedMetricWarning: Precision is ill-defined and being set to 0.0 in labels with no predicted samples. Use `zero_division` parameter to control this behavior.\n",
      "  _warn_prf(average, modifier, f\"{metric.capitalize()} is\", len(result))\n",
      "d:\\Downlaod\\APPLICATION\\Anaconda\\App_File\\envs\\condaEnv\\Lib\\site-packages\\sklearn\\metrics\\_classification.py:1565: UndefinedMetricWarning: Precision is ill-defined and being set to 0.0 in labels with no predicted samples. Use `zero_division` parameter to control this behavior.\n",
      "  _warn_prf(average, modifier, f\"{metric.capitalize()} is\", len(result))\n",
      "d:\\Downlaod\\APPLICATION\\Anaconda\\App_File\\envs\\condaEnv\\Lib\\site-packages\\sklearn\\metrics\\_classification.py:1565: UndefinedMetricWarning: Precision is ill-defined and being set to 0.0 in labels with no predicted samples. Use `zero_division` parameter to control this behavior.\n",
      "  _warn_prf(average, modifier, f\"{metric.capitalize()} is\", len(result))\n"
     ]
    },
    {
     "data": {
      "image/png": "[encoded data removed]",
      "text/plain": [
       "<Figure size 1000x600 with 1 Axes>"
      ]
     },
     "metadata": {},
     "output_type": "display_data"
    }
   ],
   "source": [
    "# Make predictions on the test set\n",
    "y_pred = best_rf_model.predict(X_test)\n",
    "\n",
    "# Print performance metrics\n",
    "print(f\"Accuracy: {accuracy_score(y_test, y_pred)}\")\n",
    "print(\"\\nClassification Report:\\n\", classification_report(y_test, y_pred))\n",
    "print(\"\\nConfusion Matrix:\\n\", confusion_matrix(y_test, y_pred))\n",
    "\n",
    "# Optionally, you can also visualize feature importance\n",
    "feature_importances = best_rf_model.feature_importances_\n",
    "features = X.columns\n",
    "plt.figure(figsize=(10, 6))\n",
    "plt.barh(features, feature_importances)\n",
    "plt.xlabel('Feature Importance')\n",
    "plt.title('Random Forest Feature Importance')\n",
    "plt.show()\n"
   ]
  }
 ],
 "metadata": {
  "kernelspec": {
   "display_name": "condaEnv",
   "language": "python",
   "name": "python3"
  },
  "language_info": {
   "codemirror_mode": {
    "name": "ipython",
    "version": 3
   },
   "file_extension": ".py",
   "mimetype": "text/x-python",
   "name": "python",
   "nbconvert_exporter": "python",
   "pygments_lexer": "ipython3",
   "version": "3.12.3"
  }
 },
 "nbformat": 4,
 "nbformat_minor": 5
}
