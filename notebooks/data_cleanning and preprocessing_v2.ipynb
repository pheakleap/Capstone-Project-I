{
 "cells": [
  {
   "cell_type": "code",
   "execution_count": null,
   "id": "372a6b35",
   "metadata": {},
   "outputs": [],
   "source": [
    "import pandas as pd\n",
    "from sklearn.preprocessing import LabelEncoder\n",
    "from imblearn.over_sampling import SMOTE\n",
    "from sklearn.model_selection import train_test_split\n",
    "import joblib\n",
    "from imblearn.over_sampling import SMOTENC"
   ]
  },
  {
   "cell_type": "code",
   "execution_count": null,
   "id": "9a733c00",
   "metadata": {},
   "outputs": [],
   "source": [
    "df = pd.read_csv(\"../data/raw/DiseaseAndSymptoms.csv\")\n",
    "df.fillna('none', inplace=True)\n",
    "df.drop_duplicates(inplace=True)"
   ]
  },
  {
   "cell_type": "code",
   "execution_count": null,
   "id": "0a0f103d",
   "metadata": {},
   "outputs": [],
   "source": [
    "symptom_cols = [col for col in df.columns if col.startswith(\"Symptom_\")]\n",
    "all_symptoms = pd.unique(df[symptom_cols].values.ravel('K'))\n",
    "symptom_encoder = LabelEncoder().fit(all_symptoms)\n",
    "\n",
    "for col in symptom_cols:\n",
    "    df[col] = symptom_encoder.transform(df[col])"
   ]
  },
  {
   "cell_type": "code",
   "execution_count": null,
   "id": "c9d23764",
   "metadata": {},
   "outputs": [],
   "source": [
    "disease_encoder = LabelEncoder()\n",
    "df['Disease'] = disease_encoder.fit_transform(df['Disease'])"
   ]
  },
  {
   "cell_type": "code",
   "execution_count": null,
   "id": "58bdbd6f",
   "metadata": {},
   "outputs": [],
   "source": [
    "joblib.dump(symptom_encoder, \"../src/models/symptom_encoder.joblib\")\n",
    "joblib.dump(disease_encoder, \"../src//models/disease_encoder.joblib\")"
   ]
  },
  {
   "cell_type": "code",
   "execution_count": null,
   "id": "2cc26503",
   "metadata": {},
   "outputs": [],
   "source": [
    "X = df.drop(\"Disease\", axis=1)\n",
    "y = df[\"Disease\"]\n",
    "X_train, X_test, y_train, y_test = train_test_split(X, y, stratify=y, test_size=0.2, random_state=42)"
   ]
  },
  {
   "cell_type": "code",
   "execution_count": null,
   "id": "3609b239",
   "metadata": {},
   "outputs": [],
   "source": [
    "# symptom_indices = list(range(X_train.shape[1]))  # All features are \"categorical\""
   ]
  },
  {
   "cell_type": "code",
   "execution_count": null,
   "id": "21b67917",
   "metadata": {},
   "outputs": [],
   "source": [
    "smote = SMOTE(random_state=42, k_neighbors=3)\n",
    "X_train_res, y_train_res = smote.fit_resample(X_train, y_train)"
   ]
  },
  {
   "cell_type": "code",
   "execution_count": null,
   "id": "bbb44f06",
   "metadata": {},
   "outputs": [],
   "source": [
    "pd.concat([pd.DataFrame(X_train_res, columns=X.columns), pd.Series(y_train_res, name='Disease')], axis=1)\\\n",
    "  .to_csv(\"../data/processed/train_data.csv\", index=False)\n",
    "X_test.to_csv(\"../data/processed/X_test.csv\", index=False)\n",
    "pd.Series(y_test, name='Disease').to_csv(\"../data/processed/y_test.csv\", index=False)"
   ]
  }
 ],
 "metadata": {
  "kernelspec": {
   "display_name": "env",
   "language": "python",
   "name": "python3"
  },
  "language_info": {
   "codemirror_mode": {
    "name": "ipython",
    "version": 3
   },
   "file_extension": ".py",
   "mimetype": "text/x-python",
   "name": "python",
   "nbconvert_exporter": "python",
   "pygments_lexer": "ipython3",
   "version": "3.9.21"
  }
 },
 "nbformat": 4,
 "nbformat_minor": 5
}
