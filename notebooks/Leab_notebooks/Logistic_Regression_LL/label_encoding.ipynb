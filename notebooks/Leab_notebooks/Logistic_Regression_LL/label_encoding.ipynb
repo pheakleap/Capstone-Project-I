{
 "cells": [
  {
   "cell_type": "markdown",
   "metadata": {},
   "source": [
    "Label Encodings for changes to numeric values"
   ]
  },
  {
   "cell_type": "code",
   "execution_count": 65,
   "metadata": {},
   "outputs": [],
   "source": [
    "# Import necessary libraries\n",
    "import pandas as pd\n",
    "import joblib\n",
    "from sklearn.preprocessing import LabelEncoder, MultiLabelBinarizer\n",
    "import ast"
   ]
  },
  {
   "cell_type": "code",
   "execution_count": 66,
   "metadata": {},
   "outputs": [
    {
     "data": {
      "text/html": [
       "<div>\n",
       "<style scoped>\n",
       "    .dataframe tbody tr th:only-of-type {\n",
       "        vertical-align: middle;\n",
       "    }\n",
       "\n",
       "    .dataframe tbody tr th {\n",
       "        vertical-align: top;\n",
       "    }\n",
       "\n",
       "    .dataframe thead th {\n",
       "        text-align: right;\n",
       "    }\n",
       "</style>\n",
       "<table border=\"1\" class=\"dataframe\">\n",
       "  <thead>\n",
       "    <tr style=\"text-align: right;\">\n",
       "      <th></th>\n",
       "      <th>Disease</th>\n",
       "      <th>Symptom_1</th>\n",
       "      <th>Symptom_2</th>\n",
       "      <th>Symptom_3</th>\n",
       "      <th>Symptom_4</th>\n",
       "      <th>Symptom_5</th>\n",
       "      <th>Symptom_6</th>\n",
       "      <th>Symptom_7</th>\n",
       "      <th>Symptom_8</th>\n",
       "      <th>Symptom_9</th>\n",
       "      <th>Symptom_10</th>\n",
       "      <th>Symptom_11</th>\n",
       "      <th>Symptom_12</th>\n",
       "      <th>Symptom_13</th>\n",
       "      <th>Symptom_14</th>\n",
       "      <th>Symptom_15</th>\n",
       "      <th>Symptom_16</th>\n",
       "      <th>Symptom_17</th>\n",
       "      <th>Symptom_Count</th>\n",
       "      <th>Symptoms</th>\n",
       "    </tr>\n",
       "  </thead>\n",
       "  <tbody>\n",
       "    <tr>\n",
       "      <th>0</th>\n",
       "      <td>Diabetes</td>\n",
       "      <td>fatigue</td>\n",
       "      <td>weight_loss</td>\n",
       "      <td>restlessness</td>\n",
       "      <td>lethargy</td>\n",
       "      <td>irregular_sugar_level</td>\n",
       "      <td>blurred_and_distorted_vision</td>\n",
       "      <td>obesity</td>\n",
       "      <td>excessive_hunger</td>\n",
       "      <td>increased_appetite</td>\n",
       "      <td>polyuria</td>\n",
       "      <td>NaN</td>\n",
       "      <td>NaN</td>\n",
       "      <td>NaN</td>\n",
       "      <td>NaN</td>\n",
       "      <td>NaN</td>\n",
       "      <td>NaN</td>\n",
       "      <td>NaN</td>\n",
       "      <td>10</td>\n",
       "      <td>[' fatigue', ' weight_loss', ' restlessness', ...</td>\n",
       "    </tr>\n",
       "    <tr>\n",
       "      <th>1</th>\n",
       "      <td>Diabetes</td>\n",
       "      <td>fatigue</td>\n",
       "      <td>weight_loss</td>\n",
       "      <td>restlessness</td>\n",
       "      <td>lethargy</td>\n",
       "      <td>irregular_sugar_level</td>\n",
       "      <td>blurred_and_distorted_vision</td>\n",
       "      <td>obesity</td>\n",
       "      <td>excessive_hunger</td>\n",
       "      <td>increased_appetite</td>\n",
       "      <td>polyuria</td>\n",
       "      <td>NaN</td>\n",
       "      <td>NaN</td>\n",
       "      <td>NaN</td>\n",
       "      <td>NaN</td>\n",
       "      <td>NaN</td>\n",
       "      <td>NaN</td>\n",
       "      <td>NaN</td>\n",
       "      <td>10</td>\n",
       "      <td>[' fatigue', ' weight_loss', ' restlessness', ...</td>\n",
       "    </tr>\n",
       "  </tbody>\n",
       "</table>\n",
       "</div>"
      ],
      "text/plain": [
       "     Disease Symptom_1     Symptom_2      Symptom_3  Symptom_4  \\\n",
       "0  Diabetes    fatigue   weight_loss   restlessness   lethargy   \n",
       "1  Diabetes    fatigue   weight_loss   restlessness   lethargy   \n",
       "\n",
       "                Symptom_5                      Symptom_6 Symptom_7  \\\n",
       "0   irregular_sugar_level   blurred_and_distorted_vision   obesity   \n",
       "1   irregular_sugar_level   blurred_and_distorted_vision   obesity   \n",
       "\n",
       "           Symptom_8            Symptom_9 Symptom_10 Symptom_11 Symptom_12  \\\n",
       "0   excessive_hunger   increased_appetite   polyuria        NaN        NaN   \n",
       "1   excessive_hunger   increased_appetite   polyuria        NaN        NaN   \n",
       "\n",
       "  Symptom_13 Symptom_14 Symptom_15 Symptom_16 Symptom_17  Symptom_Count  \\\n",
       "0        NaN        NaN        NaN        NaN        NaN             10   \n",
       "1        NaN        NaN        NaN        NaN        NaN             10   \n",
       "\n",
       "                                            Symptoms  \n",
       "0  [' fatigue', ' weight_loss', ' restlessness', ...  \n",
       "1  [' fatigue', ' weight_loss', ' restlessness', ...  "
      ]
     },
     "execution_count": 66,
     "metadata": {},
     "output_type": "execute_result"
    }
   ],
   "source": [
    "# Load the data from the CSV file\n",
    "file_path = r'D:\\\\CADT University\\\\CADT-Y3\\\\CodeAllSub\\\\Capstone\\\\Capstone-Project-I\\\\data\\\\processed\\\\lyleab_file\\\\Cleaned_Top15Diseases.csv'\n",
    "df = pd.read_csv(file_path)\n",
    "df.head(2)"
   ]
  },
  {
   "cell_type": "code",
   "execution_count": 67,
   "metadata": {},
   "outputs": [
    {
     "name": "stdout",
     "output_type": "stream",
     "text": [
      "Disease counts:\n",
      "Disease\n",
      "Diabetes           120\n",
      "Migraine           120\n",
      "Chicken pox        120\n",
      "Dengue             120\n",
      "Typhoid            120\n",
      "hepatitis A        120\n",
      "Hepatitis B        120\n",
      "Hepatitis D        120\n",
      "Hepatitis E        120\n",
      "Tuberculosis       120\n",
      "Common Cold        120\n",
      "Pneumonia          120\n",
      "Hypothyroidism     120\n",
      "Hyperthyroidism    120\n",
      "Hypoglycemia       120\n",
      "Name: count, dtype: int64\n"
     ]
    }
   ],
   "source": [
    "# Count the occurrences of each disease in the dataset\n",
    "disease_counts = df['Disease'].value_counts()\n",
    "print(f'Disease counts:\\n{disease_counts}')"
   ]
  },
  {
   "cell_type": "code",
   "execution_count": 68,
   "metadata": {},
   "outputs": [
    {
     "data": {
      "text/html": [
       "<div>\n",
       "<style scoped>\n",
       "    .dataframe tbody tr th:only-of-type {\n",
       "        vertical-align: middle;\n",
       "    }\n",
       "\n",
       "    .dataframe tbody tr th {\n",
       "        vertical-align: top;\n",
       "    }\n",
       "\n",
       "    .dataframe thead th {\n",
       "        text-align: right;\n",
       "    }\n",
       "</style>\n",
       "<table border=\"1\" class=\"dataframe\">\n",
       "  <thead>\n",
       "    <tr style=\"text-align: right;\">\n",
       "      <th></th>\n",
       "      <th>Disease</th>\n",
       "      <th>Symptom_Count</th>\n",
       "      <th>Symptoms</th>\n",
       "    </tr>\n",
       "  </thead>\n",
       "  <tbody>\n",
       "    <tr>\n",
       "      <th>0</th>\n",
       "      <td>Diabetes</td>\n",
       "      <td>10</td>\n",
       "      <td>[' fatigue', ' weight_loss', ' restlessness', ...</td>\n",
       "    </tr>\n",
       "    <tr>\n",
       "      <th>1</th>\n",
       "      <td>Diabetes</td>\n",
       "      <td>10</td>\n",
       "      <td>[' fatigue', ' weight_loss', ' restlessness', ...</td>\n",
       "    </tr>\n",
       "  </tbody>\n",
       "</table>\n",
       "</div>"
      ],
      "text/plain": [
       "     Disease  Symptom_Count                                           Symptoms\n",
       "0  Diabetes              10  [' fatigue', ' weight_loss', ' restlessness', ...\n",
       "1  Diabetes              10  [' fatigue', ' weight_loss', ' restlessness', ..."
      ]
     },
     "execution_count": 68,
     "metadata": {},
     "output_type": "execute_result"
    }
   ],
   "source": [
    "# Drop all columns in the dataset except \"Disease\", \"Symptom_Count\", and \"Symptoms\" columns\n",
    "df_filtered = df[[\"Disease\", \"Symptom_Count\", \"Symptoms\"]]\n",
    "df_filtered.head(2)"
   ]
  },
  {
   "cell_type": "code",
   "execution_count": 69,
   "metadata": {},
   "outputs": [
    {
     "name": "stderr",
     "output_type": "stream",
     "text": [
      "C:\\Users\\leap0\\AppData\\Local\\Temp\\ipykernel_21108\\1307739816.py:3: SettingWithCopyWarning: \n",
      "A value is trying to be set on a copy of a slice from a DataFrame.\n",
      "Try using .loc[row_indexer,col_indexer] = value instead\n",
      "\n",
      "See the caveats in the documentation: https://pandas.pydata.org/pandas-docs/stable/user_guide/indexing.html#returning-a-view-versus-a-copy\n",
      "  df_filtered[\"Disease_Encoded\"] = label_encoder_disease.fit_transform(df_filtered['Disease'])\n"
     ]
    },
    {
     "data": {
      "text/html": [
       "<div>\n",
       "<style scoped>\n",
       "    .dataframe tbody tr th:only-of-type {\n",
       "        vertical-align: middle;\n",
       "    }\n",
       "\n",
       "    .dataframe tbody tr th {\n",
       "        vertical-align: top;\n",
       "    }\n",
       "\n",
       "    .dataframe thead th {\n",
       "        text-align: right;\n",
       "    }\n",
       "</style>\n",
       "<table border=\"1\" class=\"dataframe\">\n",
       "  <thead>\n",
       "    <tr style=\"text-align: right;\">\n",
       "      <th></th>\n",
       "      <th>Disease</th>\n",
       "      <th>Symptom_Count</th>\n",
       "      <th>Symptoms</th>\n",
       "      <th>Disease_Encoded</th>\n",
       "    </tr>\n",
       "  </thead>\n",
       "  <tbody>\n",
       "    <tr>\n",
       "      <th>0</th>\n",
       "      <td>Diabetes</td>\n",
       "      <td>10</td>\n",
       "      <td>[' fatigue', ' weight_loss', ' restlessness', ...</td>\n",
       "      <td>3</td>\n",
       "    </tr>\n",
       "    <tr>\n",
       "      <th>1</th>\n",
       "      <td>Diabetes</td>\n",
       "      <td>10</td>\n",
       "      <td>[' fatigue', ' weight_loss', ' restlessness', ...</td>\n",
       "      <td>3</td>\n",
       "    </tr>\n",
       "  </tbody>\n",
       "</table>\n",
       "</div>"
      ],
      "text/plain": [
       "     Disease  Symptom_Count  \\\n",
       "0  Diabetes              10   \n",
       "1  Diabetes              10   \n",
       "\n",
       "                                            Symptoms  Disease_Encoded  \n",
       "0  [' fatigue', ' weight_loss', ' restlessness', ...                3  \n",
       "1  [' fatigue', ' weight_loss', ' restlessness', ...                3  "
      ]
     },
     "execution_count": 69,
     "metadata": {},
     "output_type": "execute_result"
    }
   ],
   "source": [
    "# Encode the \"Disease\" column\n",
    "label_encoder_disease = LabelEncoder()\n",
    "df_filtered[\"Disease_Encoded\"] = label_encoder_disease.fit_transform(df_filtered['Disease'])\n",
    "df_filtered.head(2)"
   ]
  },
  {
   "cell_type": "code",
   "execution_count": 70,
   "metadata": {},
   "outputs": [
    {
     "data": {
      "text/plain": [
       "{'Chicken pox': 0,\n",
       " 'Common Cold': 1,\n",
       " 'Dengue': 2,\n",
       " 'Diabetes ': 3,\n",
       " 'Hepatitis B': 4,\n",
       " 'Hepatitis D': 5,\n",
       " 'Hepatitis E': 6,\n",
       " 'Hyperthyroidism': 7,\n",
       " 'Hypoglycemia': 8,\n",
       " 'Hypothyroidism': 9,\n",
       " 'Migraine': 10,\n",
       " 'Pneumonia': 11,\n",
       " 'Tuberculosis': 12,\n",
       " 'Typhoid': 13,\n",
       " 'hepatitis A': 14}"
      ]
     },
     "execution_count": 70,
     "metadata": {},
     "output_type": "execute_result"
    }
   ],
   "source": [
    "# Create the mapping of encoded values to original values for diseases\n",
    "disease_mapping = dict(zip(label_encoder_disease.classes_, label_encoder_disease.transform(label_encoder_disease.classes_)))\n",
    "disease_mapping"
   ]
  },
  {
   "cell_type": "code",
   "execution_count": 71,
   "metadata": {},
   "outputs": [
    {
     "name": "stdout",
     "output_type": "stream",
     "text": [
      "Number of unique symptoms: 75\n"
     ]
    }
   ],
   "source": [
    "# Count the unique symptom names in the \"Symptoms\" column\n",
    "unique_symptoms = set()\n",
    "for symptoms_list in df_filtered[\"Symptoms\"]:\n",
    "    symptoms = ast.literal_eval(symptoms_list)\n",
    "    unique_symptoms.update(symptoms)\n",
    "print(\"Number of unique symptoms:\", len(unique_symptoms))"
   ]
  },
  {
   "cell_type": "code",
   "execution_count": 72,
   "metadata": {},
   "outputs": [
    {
     "data": {
      "text/html": [
       "<div>\n",
       "<style scoped>\n",
       "    .dataframe tbody tr th:only-of-type {\n",
       "        vertical-align: middle;\n",
       "    }\n",
       "\n",
       "    .dataframe tbody tr th {\n",
       "        vertical-align: top;\n",
       "    }\n",
       "\n",
       "    .dataframe thead th {\n",
       "        text-align: right;\n",
       "    }\n",
       "</style>\n",
       "<table border=\"1\" class=\"dataframe\">\n",
       "  <thead>\n",
       "    <tr style=\"text-align: right;\">\n",
       "      <th></th>\n",
       "      <th>Disease</th>\n",
       "      <th>Symptom_Count</th>\n",
       "      <th>Disease_Encoded</th>\n",
       "      <th></th>\n",
       "      <th>'</th>\n",
       "      <th>(</th>\n",
       "      <th>)</th>\n",
       "      <th>,</th>\n",
       "      <th>[</th>\n",
       "      <th>]</th>\n",
       "      <th>...</th>\n",
       "      <th>p</th>\n",
       "      <th>r</th>\n",
       "      <th>s</th>\n",
       "      <th>t</th>\n",
       "      <th>u</th>\n",
       "      <th>v</th>\n",
       "      <th>w</th>\n",
       "      <th>x</th>\n",
       "      <th>y</th>\n",
       "      <th>z</th>\n",
       "    </tr>\n",
       "  </thead>\n",
       "  <tbody>\n",
       "    <tr>\n",
       "      <th>0</th>\n",
       "      <td>Diabetes</td>\n",
       "      <td>10</td>\n",
       "      <td>3</td>\n",
       "      <td>1</td>\n",
       "      <td>1</td>\n",
       "      <td>0</td>\n",
       "      <td>0</td>\n",
       "      <td>1</td>\n",
       "      <td>1</td>\n",
       "      <td>1</td>\n",
       "      <td>...</td>\n",
       "      <td>1</td>\n",
       "      <td>1</td>\n",
       "      <td>1</td>\n",
       "      <td>1</td>\n",
       "      <td>1</td>\n",
       "      <td>1</td>\n",
       "      <td>1</td>\n",
       "      <td>1</td>\n",
       "      <td>1</td>\n",
       "      <td>0</td>\n",
       "    </tr>\n",
       "    <tr>\n",
       "      <th>1</th>\n",
       "      <td>Diabetes</td>\n",
       "      <td>10</td>\n",
       "      <td>3</td>\n",
       "      <td>1</td>\n",
       "      <td>1</td>\n",
       "      <td>0</td>\n",
       "      <td>0</td>\n",
       "      <td>1</td>\n",
       "      <td>1</td>\n",
       "      <td>1</td>\n",
       "      <td>...</td>\n",
       "      <td>1</td>\n",
       "      <td>1</td>\n",
       "      <td>1</td>\n",
       "      <td>1</td>\n",
       "      <td>1</td>\n",
       "      <td>1</td>\n",
       "      <td>1</td>\n",
       "      <td>1</td>\n",
       "      <td>1</td>\n",
       "      <td>0</td>\n",
       "    </tr>\n",
       "  </tbody>\n",
       "</table>\n",
       "<p>2 rows × 36 columns</p>\n",
       "</div>"
      ],
      "text/plain": [
       "     Disease  Symptom_Count  Disease_Encoded     '  (  )  ,  [  ]  ...  p  r  \\\n",
       "0  Diabetes              10                3  1  1  0  0  1  1  1  ...  1  1   \n",
       "1  Diabetes              10                3  1  1  0  0  1  1  1  ...  1  1   \n",
       "\n",
       "   s  t  u  v  w  x  y  z  \n",
       "0  1  1  1  1  1  1  1  0  \n",
       "1  1  1  1  1  1  1  1  0  \n",
       "\n",
       "[2 rows x 36 columns]"
      ]
     },
     "execution_count": 72,
     "metadata": {},
     "output_type": "execute_result"
    }
   ],
   "source": [
    "# Apply MultiLabelBinarizer to encode the symptoms\n",
    "mlb = MultiLabelBinarizer()\n",
    "df_symptoms_encoded = pd.DataFrame(mlb.fit_transform(df_filtered[\"Symptoms\"]), columns=mlb.classes_)\n",
    "\n",
    "# Concatenate the encoded symptoms with the filtered dataset, dropping the original Symptoms column\n",
    "df_encoded = pd.concat([df_filtered.drop(\"Symptoms\", axis=1), df_symptoms_encoded], axis=1)\n",
    "df_encoded.head(2)"
   ]
  },
  {
   "cell_type": "code",
   "execution_count": 73,
   "metadata": {},
   "outputs": [
    {
     "data": {
      "text/html": [
       "<div>\n",
       "<style scoped>\n",
       "    .dataframe tbody tr th:only-of-type {\n",
       "        vertical-align: middle;\n",
       "    }\n",
       "\n",
       "    .dataframe tbody tr th {\n",
       "        vertical-align: top;\n",
       "    }\n",
       "\n",
       "    .dataframe thead th {\n",
       "        text-align: right;\n",
       "    }\n",
       "</style>\n",
       "<table border=\"1\" class=\"dataframe\">\n",
       "  <thead>\n",
       "    <tr style=\"text-align: right;\">\n",
       "      <th></th>\n",
       "      <th>Disease_Encoded</th>\n",
       "      <th></th>\n",
       "      <th>'</th>\n",
       "      <th>(</th>\n",
       "      <th>)</th>\n",
       "      <th>,</th>\n",
       "      <th>[</th>\n",
       "      <th>]</th>\n",
       "      <th>_</th>\n",
       "      <th>a</th>\n",
       "      <th>...</th>\n",
       "      <th>p</th>\n",
       "      <th>r</th>\n",
       "      <th>s</th>\n",
       "      <th>t</th>\n",
       "      <th>u</th>\n",
       "      <th>v</th>\n",
       "      <th>w</th>\n",
       "      <th>x</th>\n",
       "      <th>y</th>\n",
       "      <th>z</th>\n",
       "    </tr>\n",
       "  </thead>\n",
       "  <tbody>\n",
       "    <tr>\n",
       "      <th>0</th>\n",
       "      <td>3</td>\n",
       "      <td>1</td>\n",
       "      <td>1</td>\n",
       "      <td>0</td>\n",
       "      <td>0</td>\n",
       "      <td>1</td>\n",
       "      <td>1</td>\n",
       "      <td>1</td>\n",
       "      <td>1</td>\n",
       "      <td>1</td>\n",
       "      <td>...</td>\n",
       "      <td>1</td>\n",
       "      <td>1</td>\n",
       "      <td>1</td>\n",
       "      <td>1</td>\n",
       "      <td>1</td>\n",
       "      <td>1</td>\n",
       "      <td>1</td>\n",
       "      <td>1</td>\n",
       "      <td>1</td>\n",
       "      <td>0</td>\n",
       "    </tr>\n",
       "    <tr>\n",
       "      <th>1</th>\n",
       "      <td>3</td>\n",
       "      <td>1</td>\n",
       "      <td>1</td>\n",
       "      <td>0</td>\n",
       "      <td>0</td>\n",
       "      <td>1</td>\n",
       "      <td>1</td>\n",
       "      <td>1</td>\n",
       "      <td>1</td>\n",
       "      <td>1</td>\n",
       "      <td>...</td>\n",
       "      <td>1</td>\n",
       "      <td>1</td>\n",
       "      <td>1</td>\n",
       "      <td>1</td>\n",
       "      <td>1</td>\n",
       "      <td>1</td>\n",
       "      <td>1</td>\n",
       "      <td>1</td>\n",
       "      <td>1</td>\n",
       "      <td>0</td>\n",
       "    </tr>\n",
       "  </tbody>\n",
       "</table>\n",
       "<p>2 rows × 34 columns</p>\n",
       "</div>"
      ],
      "text/plain": [
       "   Disease_Encoded     '  (  )  ,  [  ]  _  a  ...  p  r  s  t  u  v  w  x  y  \\\n",
       "0                3  1  1  0  0  1  1  1  1  1  ...  1  1  1  1  1  1  1  1  1   \n",
       "1                3  1  1  0  0  1  1  1  1  1  ...  1  1  1  1  1  1  1  1  1   \n",
       "\n",
       "   z  \n",
       "0  0  \n",
       "1  0  \n",
       "\n",
       "[2 rows x 34 columns]"
      ]
     },
     "execution_count": 73,
     "metadata": {},
     "output_type": "execute_result"
    }
   ],
   "source": [
    "df_encoded = df_encoded.drop(columns=[\"Disease\", \"Symptom_Count\"])\n",
    "df_encoded.head(2)"
   ]
  },
  {
   "cell_type": "code",
   "execution_count": 76,
   "metadata": {},
   "outputs": [
    {
     "name": "stdout",
     "output_type": "stream",
     "text": [
      "Disease_Encoded\n",
      "3     120\n",
      "10    120\n",
      "0     120\n",
      "2     120\n",
      "13    120\n",
      "14    120\n",
      "4     120\n",
      "5     120\n",
      "6     120\n",
      "12    120\n",
      "1     120\n",
      "11    120\n",
      "9     120\n",
      "7     120\n",
      "8     120\n",
      "Name: count, dtype: int64\n"
     ]
    }
   ],
   "source": [
    "print(df_encoded['Disease_Encoded'].value_counts())"
   ]
  },
  {
   "cell_type": "code",
   "execution_count": 74,
   "metadata": {},
   "outputs": [
    {
     "name": "stdout",
     "output_type": "stream",
     "text": [
      "Encoded data saved to D:\\CADT University\\CADT-Y3\\CodeAllSub\\Capstone\\Capstone-Project-I\\data\\processed\\lyleab_file\\encoded_cleaned_top15diseases.csv\n",
      "Label encoders saved: disease_encoder.pkl, symptom_encoder.pkl\n"
     ]
    },
    {
     "name": "stderr",
     "output_type": "stream",
     "text": [
      "<>:2: SyntaxWarning: invalid escape sequence '\\C'\n",
      "<>:2: SyntaxWarning: invalid escape sequence '\\C'\n",
      "C:\\Users\\leap0\\AppData\\Local\\Temp\\ipykernel_21108\\374275964.py:2: SyntaxWarning: invalid escape sequence '\\C'\n",
      "  encoded_file_path = 'D:\\CADT University\\CADT-Y3\\CodeAllSub\\Capstone\\Capstone-Project-I\\data\\processed\\lyleab_file\\encoded_cleaned_top15diseases.csv'\n"
     ]
    }
   ],
   "source": [
    "# Save the encoded dataset to a CSV file\n",
    "encoded_file_path = 'D:\\CADT University\\CADT-Y3\\CodeAllSub\\Capstone\\Capstone-Project-I\\data\\processed\\lyleab_file\\encoded_cleaned_top15diseases.csv'\n",
    "df_encoded.to_csv(encoded_file_path, index=False)\n",
    "\n",
    "# Optionally save the LabelEncoders for Disease and Symptoms (for future use)\n",
    "joblib.dump(label_encoder_disease, 'disease_encoder.pkl')\n",
    "joblib.dump(mlb, 'symptom_encoder.pkl')\n",
    "\n",
    "# Confirmation\n",
    "print(f'Encoded data saved to {encoded_file_path}')\n",
    "print('Label encoders saved: disease_encoder.pkl, symptom_encoder.pkl')\n"
   ]
  }
 ],
 "metadata": {
  "kernelspec": {
   "display_name": "condaEnv",
   "language": "python",
   "name": "python3"
  },
  "language_info": {
   "codemirror_mode": {
    "name": "ipython",
    "version": 3
   },
   "file_extension": ".py",
   "mimetype": "text/x-python",
   "name": "python",
   "nbconvert_exporter": "python",
   "pygments_lexer": "ipython3",
   "version": "3.12.3"
  }
 },
 "nbformat": 4,
 "nbformat_minor": 2
}
