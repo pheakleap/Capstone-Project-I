{
 "cells": [
  {
   "cell_type": "markdown",
   "metadata": {},
   "source": [
    "LogisticRegression"
   ]
  },
  {
   "cell_type": "code",
   "execution_count": 17,
   "metadata": {},
   "outputs": [],
   "source": [
    "# Import necessary libraries\n",
    "import pandas as pd\n",
    "from sklearn.preprocessing import StandardScaler, LabelEncoder\n",
    "from sklearn.model_selection import train_test_split, cross_val_score\n",
    "from sklearn.linear_model import LogisticRegression\n",
    "from sklearn.metrics import accuracy_score, confusion_matrix, classification_report\n",
    "import joblib\n",
    "import ast\n",
    "import pandas as pd\n",
    "import seaborn as sns\n",
    "import matplotlib.pyplot as plt"
   ]
  },
  {
   "cell_type": "code",
   "execution_count": 18,
   "metadata": {},
   "outputs": [
    {
     "data": {
      "application/vnd.microsoft.datawrangler.viewer.v0+json": {
       "columns": [
        {
         "name": "index",
         "rawType": "int64",
         "type": "integer"
        },
        {
         "name": "Unnamed: 0",
         "rawType": "int64",
         "type": "integer"
        },
        {
         "name": "Disease",
         "rawType": "object",
         "type": "string"
        },
        {
         "name": "Symptom_Count",
         "rawType": "int64",
         "type": "integer"
        },
        {
         "name": "Symptoms",
         "rawType": "object",
         "type": "string"
        },
        {
         "name": "Disease_Encoded",
         "rawType": "int64",
         "type": "integer"
        },
        {
         "name": "Symptom_Encoded",
         "rawType": "object",
         "type": "string"
        }
       ],
       "conversionMethod": "pd.DataFrame",
       "ref": "1f1ba438-6eaf-4369-ac82-be60101df720",
       "rows": [
        [
         "0",
         "0",
         "Diabetes ",
         "10",
         "[' fatigue', ' weight_loss', ' restlessness', ' lethargy', ' irregular_sugar_level', ' blurred_and_distorted_vision', ' obesity', ' excessive_hunger', ' increased_appetite', ' polyuria']",
         "3",
         "[27, 70, 54, 35, 32, 8, 44, 25, 30, 48]"
        ],
        [
         "1",
         "1",
         "Diabetes ",
         "10",
         "[' fatigue', ' weight_loss', ' restlessness', ' lethargy', ' irregular_sugar_level', ' blurred_and_distorted_vision', ' obesity', ' excessive_hunger', ' increased_appetite', ' polyuria']",
         "3",
         "[27, 70, 54, 35, 32, 8, 44, 25, 30, 48]"
        ]
       ],
       "shape": {
        "columns": 6,
        "rows": 2
       }
      },
      "text/html": [
       "<div>\n",
       "<style scoped>\n",
       "    .dataframe tbody tr th:only-of-type {\n",
       "        vertical-align: middle;\n",
       "    }\n",
       "\n",
       "    .dataframe tbody tr th {\n",
       "        vertical-align: top;\n",
       "    }\n",
       "\n",
       "    .dataframe thead th {\n",
       "        text-align: right;\n",
       "    }\n",
       "</style>\n",
       "<table border=\"1\" class=\"dataframe\">\n",
       "  <thead>\n",
       "    <tr style=\"text-align: right;\">\n",
       "      <th></th>\n",
       "      <th>Unnamed: 0</th>\n",
       "      <th>Disease</th>\n",
       "      <th>Symptom_Count</th>\n",
       "      <th>Symptoms</th>\n",
       "      <th>Disease_Encoded</th>\n",
       "      <th>Symptom_Encoded</th>\n",
       "    </tr>\n",
       "  </thead>\n",
       "  <tbody>\n",
       "    <tr>\n",
       "      <th>0</th>\n",
       "      <td>0</td>\n",
       "      <td>Diabetes</td>\n",
       "      <td>10</td>\n",
       "      <td>[' fatigue', ' weight_loss', ' restlessness', ...</td>\n",
       "      <td>3</td>\n",
       "      <td>[27, 70, 54, 35, 32, 8, 44, 25, 30, 48]</td>\n",
       "    </tr>\n",
       "    <tr>\n",
       "      <th>1</th>\n",
       "      <td>1</td>\n",
       "      <td>Diabetes</td>\n",
       "      <td>10</td>\n",
       "      <td>[' fatigue', ' weight_loss', ' restlessness', ...</td>\n",
       "      <td>3</td>\n",
       "      <td>[27, 70, 54, 35, 32, 8, 44, 25, 30, 48]</td>\n",
       "    </tr>\n",
       "  </tbody>\n",
       "</table>\n",
       "</div>"
      ],
      "text/plain": [
       "   Unnamed: 0    Disease  Symptom_Count  \\\n",
       "0           0  Diabetes              10   \n",
       "1           1  Diabetes              10   \n",
       "\n",
       "                                            Symptoms  Disease_Encoded  \\\n",
       "0  [' fatigue', ' weight_loss', ' restlessness', ...                3   \n",
       "1  [' fatigue', ' weight_loss', ' restlessness', ...                3   \n",
       "\n",
       "                           Symptom_Encoded  \n",
       "0  [27, 70, 54, 35, 32, 8, 44, 25, 30, 48]  \n",
       "1  [27, 70, 54, 35, 32, 8, 44, 25, 30, 48]  "
      ]
     },
     "execution_count": 18,
     "metadata": {},
     "output_type": "execute_result"
    }
   ],
   "source": [
    "#Load the dataset\n",
    "encoded_file_path = r\"D:\\CADT University\\CADT-Y3\\CodeAllSub\\Capstone\\Capstone-Project-I\\data\\processed\\lyleab_file\\Encoded_Cleaned_Top15Diseases.csv\"\n",
    "df = pd.read_csv(encoded_file_path)\n",
    "df.head(2)\n",
    "\n",
    "#Load the LabelEncoder\n",
    "# label_encoder_file_path = r\"D:\\CADT University\\CADT-Y3\\CodeAllSub\\Capstone\\Capstone-Project-I\\notebooks\\Leab_notebooks\\Models\\label_encoder.pkl\"\n",
    "# label_encoder = joblib.load(label_encoder_file_path)"
   ]
  },
  {
   "cell_type": "code",
   "execution_count": 19,
   "metadata": {},
   "outputs": [
    {
     "data": {
      "application/vnd.microsoft.datawrangler.viewer.v0+json": {
       "columns": [
        {
         "name": "index",
         "rawType": "int64",
         "type": "integer"
        },
        {
         "name": "Unnamed: 0",
         "rawType": "int64",
         "type": "integer"
        },
        {
         "name": "Disease",
         "rawType": "object",
         "type": "string"
        },
        {
         "name": "Symptom_Count",
         "rawType": "int64",
         "type": "integer"
        },
        {
         "name": "Symptoms",
         "rawType": "object",
         "type": "string"
        },
        {
         "name": "Disease_Encoded",
         "rawType": "int64",
         "type": "integer"
        },
        {
         "name": "Symptom_Encoded",
         "rawType": "object",
         "type": "unknown"
        }
       ],
       "conversionMethod": "pd.DataFrame",
       "ref": "ebf9336e-ee15-41ec-aad5-a5d649d00d51",
       "rows": [
        [
         "0",
         "0",
         "Diabetes ",
         "10",
         "[' fatigue', ' weight_loss', ' restlessness', ' lethargy', ' irregular_sugar_level', ' blurred_and_distorted_vision', ' obesity', ' excessive_hunger', ' increased_appetite', ' polyuria']",
         "3",
         "[27, 70, 54, 35, 32, 8, 44, 25, 30, 48]"
        ],
        [
         "1",
         "1",
         "Diabetes ",
         "10",
         "[' fatigue', ' weight_loss', ' restlessness', ' lethargy', ' irregular_sugar_level', ' blurred_and_distorted_vision', ' obesity', ' excessive_hunger', ' increased_appetite', ' polyuria']",
         "3",
         "[27, 70, 54, 35, 32, 8, 44, 25, 30, 48]"
        ],
        [
         "2",
         "2",
         "Diabetes ",
         "9",
         "[' weight_loss', ' restlessness', ' lethargy', ' irregular_sugar_level', ' blurred_and_distorted_vision', ' obesity', ' excessive_hunger', ' increased_appetite', ' polyuria']",
         "3",
         "[70, 54, 35, 32, 8, 44, 25, 30, 48]"
        ],
        [
         "3",
         "3",
         "Diabetes ",
         "9",
         "[' fatigue', ' restlessness', ' lethargy', ' irregular_sugar_level', ' blurred_and_distorted_vision', ' obesity', ' excessive_hunger', ' increased_appetite', ' polyuria']",
         "3",
         "[27, 54, 35, 32, 8, 44, 25, 30, 48]"
        ],
        [
         "4",
         "4",
         "Diabetes ",
         "9",
         "[' fatigue', ' weight_loss', ' lethargy', ' irregular_sugar_level', ' blurred_and_distorted_vision', ' obesity', ' excessive_hunger', ' increased_appetite', ' polyuria']",
         "3",
         "[27, 70, 35, 32, 8, 44, 25, 30, 48]"
        ]
       ],
       "shape": {
        "columns": 6,
        "rows": 5
       }
      },
      "text/html": [
       "<div>\n",
       "<style scoped>\n",
       "    .dataframe tbody tr th:only-of-type {\n",
       "        vertical-align: middle;\n",
       "    }\n",
       "\n",
       "    .dataframe tbody tr th {\n",
       "        vertical-align: top;\n",
       "    }\n",
       "\n",
       "    .dataframe thead th {\n",
       "        text-align: right;\n",
       "    }\n",
       "</style>\n",
       "<table border=\"1\" class=\"dataframe\">\n",
       "  <thead>\n",
       "    <tr style=\"text-align: right;\">\n",
       "      <th></th>\n",
       "      <th>Unnamed: 0</th>\n",
       "      <th>Disease</th>\n",
       "      <th>Symptom_Count</th>\n",
       "      <th>Symptoms</th>\n",
       "      <th>Disease_Encoded</th>\n",
       "      <th>Symptom_Encoded</th>\n",
       "    </tr>\n",
       "  </thead>\n",
       "  <tbody>\n",
       "    <tr>\n",
       "      <th>0</th>\n",
       "      <td>0</td>\n",
       "      <td>Diabetes</td>\n",
       "      <td>10</td>\n",
       "      <td>[' fatigue', ' weight_loss', ' restlessness', ...</td>\n",
       "      <td>3</td>\n",
       "      <td>[27, 70, 54, 35, 32, 8, 44, 25, 30, 48]</td>\n",
       "    </tr>\n",
       "    <tr>\n",
       "      <th>1</th>\n",
       "      <td>1</td>\n",
       "      <td>Diabetes</td>\n",
       "      <td>10</td>\n",
       "      <td>[' fatigue', ' weight_loss', ' restlessness', ...</td>\n",
       "      <td>3</td>\n",
       "      <td>[27, 70, 54, 35, 32, 8, 44, 25, 30, 48]</td>\n",
       "    </tr>\n",
       "    <tr>\n",
       "      <th>2</th>\n",
       "      <td>2</td>\n",
       "      <td>Diabetes</td>\n",
       "      <td>9</td>\n",
       "      <td>[' weight_loss', ' restlessness', ' lethargy',...</td>\n",
       "      <td>3</td>\n",
       "      <td>[70, 54, 35, 32, 8, 44, 25, 30, 48]</td>\n",
       "    </tr>\n",
       "    <tr>\n",
       "      <th>3</th>\n",
       "      <td>3</td>\n",
       "      <td>Diabetes</td>\n",
       "      <td>9</td>\n",
       "      <td>[' fatigue', ' restlessness', ' lethargy', ' i...</td>\n",
       "      <td>3</td>\n",
       "      <td>[27, 54, 35, 32, 8, 44, 25, 30, 48]</td>\n",
       "    </tr>\n",
       "    <tr>\n",
       "      <th>4</th>\n",
       "      <td>4</td>\n",
       "      <td>Diabetes</td>\n",
       "      <td>9</td>\n",
       "      <td>[' fatigue', ' weight_loss', ' lethargy', ' ir...</td>\n",
       "      <td>3</td>\n",
       "      <td>[27, 70, 35, 32, 8, 44, 25, 30, 48]</td>\n",
       "    </tr>\n",
       "  </tbody>\n",
       "</table>\n",
       "</div>"
      ],
      "text/plain": [
       "   Unnamed: 0    Disease  Symptom_Count  \\\n",
       "0           0  Diabetes              10   \n",
       "1           1  Diabetes              10   \n",
       "2           2  Diabetes               9   \n",
       "3           3  Diabetes               9   \n",
       "4           4  Diabetes               9   \n",
       "\n",
       "                                            Symptoms  Disease_Encoded  \\\n",
       "0  [' fatigue', ' weight_loss', ' restlessness', ...                3   \n",
       "1  [' fatigue', ' weight_loss', ' restlessness', ...                3   \n",
       "2  [' weight_loss', ' restlessness', ' lethargy',...                3   \n",
       "3  [' fatigue', ' restlessness', ' lethargy', ' i...                3   \n",
       "4  [' fatigue', ' weight_loss', ' lethargy', ' ir...                3   \n",
       "\n",
       "                           Symptom_Encoded  \n",
       "0  [27, 70, 54, 35, 32, 8, 44, 25, 30, 48]  \n",
       "1  [27, 70, 54, 35, 32, 8, 44, 25, 30, 48]  \n",
       "2      [70, 54, 35, 32, 8, 44, 25, 30, 48]  \n",
       "3      [27, 54, 35, 32, 8, 44, 25, 30, 48]  \n",
       "4      [27, 70, 35, 32, 8, 44, 25, 30, 48]  "
      ]
     },
     "execution_count": 19,
     "metadata": {},
     "output_type": "execute_result"
    }
   ],
   "source": [
    "import ast\n",
    "\n",
    "# Convert the Symptom_Encoded column from string to list\n",
    "df['Symptom_Encoded'] = df['Symptom_Encoded'].apply(ast.literal_eval)\n",
    "df.head()"
   ]
  },
  {
   "cell_type": "code",
   "execution_count": 20,
   "metadata": {},
   "outputs": [
    {
     "name": "stdout",
     "output_type": "stream",
     "text": [
      "StandardScaler saved to D:\\\\CADT University\\\\CADT-Y3\\\\CodeAllSub\\\\Capstone\\\\Capstone-Project-I\\\\notebooks\\\\Leab_notebooks\\\\Models\\\\scaler.pkl\n"
     ]
    }
   ],
   "source": [
    "# Feature scaling\n",
    "scaler = StandardScaler()\n",
    "x_scaled = scaler.fit_transform(X)\n",
    "\n",
    "# Save the StandardScaler\n",
    "scaler_file_path = r\"D:\\\\CADT University\\\\CADT-Y3\\\\CodeAllSub\\\\Capstone\\\\Capstone-Project-I\\\\notebooks\\\\Leab_notebooks\\\\Models\\\\scaler.pkl\"\n",
    "joblib.dump(scaler, scaler_file_path)\n",
    "print(f\"StandardScaler saved to {scaler_file_path}\")"
   ]
  },
  {
   "cell_type": "code",
   "execution_count": 21,
   "metadata": {},
   "outputs": [],
   "source": [
    "# Split the data into training and testing sets\n",
    "X = df['Symptom_Encoded'].apply(pd.Series).fillna(0).astype(int)\n",
    "y = df['Disease_Encoded']\n",
    "x_train, x_test, y_train, y_test = train_test_split(x_scaled, y, test_size=0.3, random_state=42, stratify=y)"
   ]
  },
  {
   "cell_type": "code",
   "execution_count": 22,
   "metadata": {},
   "outputs": [
    {
     "name": "stderr",
     "output_type": "stream",
     "text": [
      "d:\\Downlaod\\APPLICATION\\Anaconda\\App_File\\envs\\condaEnv\\Lib\\site-packages\\sklearn\\linear_model\\_logistic.py:1247: FutureWarning: 'multi_class' was deprecated in version 1.5 and will be removed in 1.7. From then on, it will always use 'multinomial'. Leave it to its default value to avoid this warning.\n",
      "  warnings.warn(\n",
      "d:\\Downlaod\\APPLICATION\\Anaconda\\App_File\\envs\\condaEnv\\Lib\\site-packages\\sklearn\\linear_model\\_logistic.py:1247: FutureWarning: 'multi_class' was deprecated in version 1.5 and will be removed in 1.7. From then on, it will always use 'multinomial'. Leave it to its default value to avoid this warning.\n",
      "  warnings.warn(\n",
      "d:\\Downlaod\\APPLICATION\\Anaconda\\App_File\\envs\\condaEnv\\Lib\\site-packages\\sklearn\\linear_model\\_logistic.py:1247: FutureWarning: 'multi_class' was deprecated in version 1.5 and will be removed in 1.7. From then on, it will always use 'multinomial'. Leave it to its default value to avoid this warning.\n",
      "  warnings.warn(\n",
      "d:\\Downlaod\\APPLICATION\\Anaconda\\App_File\\envs\\condaEnv\\Lib\\site-packages\\sklearn\\linear_model\\_logistic.py:1247: FutureWarning: 'multi_class' was deprecated in version 1.5 and will be removed in 1.7. From then on, it will always use 'multinomial'. Leave it to its default value to avoid this warning.\n",
      "  warnings.warn(\n",
      "d:\\Downlaod\\APPLICATION\\Anaconda\\App_File\\envs\\condaEnv\\Lib\\site-packages\\sklearn\\linear_model\\_logistic.py:1247: FutureWarning: 'multi_class' was deprecated in version 1.5 and will be removed in 1.7. From then on, it will always use 'multinomial'. Leave it to its default value to avoid this warning.\n",
      "  warnings.warn(\n"
     ]
    },
    {
     "name": "stdout",
     "output_type": "stream",
     "text": [
      "Cross-validation scores: [0.96428571 0.99206349 0.97619048 0.95634921 0.96825397]\n",
      "Mean cross-validation score: 0.9714285714285715\n",
      "Trained model saved to D:\\\\CADT University\\\\CADT-Y3\\\\CodeAllSub\\\\Capstone\\\\Capstone-Project-I\\\\notebooks\\\\Leab_notebooks\\\\Models\\\\logistic_regression_model.pkl\n"
     ]
    },
    {
     "name": "stderr",
     "output_type": "stream",
     "text": [
      "d:\\Downlaod\\APPLICATION\\Anaconda\\App_File\\envs\\condaEnv\\Lib\\site-packages\\sklearn\\linear_model\\_logistic.py:1247: FutureWarning: 'multi_class' was deprecated in version 1.5 and will be removed in 1.7. From then on, it will always use 'multinomial'. Leave it to its default value to avoid this warning.\n",
      "  warnings.warn(\n"
     ]
    }
   ],
   "source": [
    "# Train the Logistic Regression model with regularization and cross-validation\n",
    "model = LogisticRegression(\n",
    "    multi_class=\"multinomial\",\n",
    "    solver=\"lbfgs\",\n",
    "    class_weight=\"balanced\",\n",
    "    max_iter=1000,\n",
    "    random_state=42,\n",
    "    C=0.1  # Regularization parameter\n",
    ")\n",
    "\n",
    "# Perform cross-validation\n",
    "cv_scores = cross_val_score(model, x_train, y_train, cv=5)\n",
    "print(f\"Cross-validation scores: {cv_scores}\")\n",
    "print(f\"Mean cross-validation score: {cv_scores.mean()}\")\n",
    "\n",
    "# Fit the model on the training data\n",
    "model.fit(x_train, y_train)\n",
    "\n",
    "# Save the trained model\n",
    "model_file_path = r\"D:\\\\CADT University\\\\CADT-Y3\\\\CodeAllSub\\\\Capstone\\\\Capstone-Project-I\\\\notebooks\\\\Leab_notebooks\\\\Models\\\\logistic_regression_model.pkl\"\n",
    "joblib.dump(model, model_file_path)\n",
    "print(f\"Trained model saved to {model_file_path}\")"
   ]
  },
  {
   "cell_type": "code",
   "execution_count": 23,
   "metadata": {},
   "outputs": [
    {
     "name": "stdout",
     "output_type": "stream",
     "text": [
      "LabelEncoder saved to D:\\\\CADT University\\\\CADT-Y3\\\\CodeAllSub\\\\Capstone\\\\Capstone-Project-I\\\\notebooks\\\\Leab_notebooks\\\\Models\\\\label_encoder.pkl\n"
     ]
    }
   ],
   "source": [
    "# Define the LabelEncoder for diseases\n",
    "label_encoder_disease = LabelEncoder()\n",
    "label_encoder_disease.fit(df['Disease'])\n",
    "\n",
    "# Save the LabelEncoder\n",
    "label_encoder_file_path = r\"D:\\\\CADT University\\\\CADT-Y3\\\\CodeAllSub\\\\Capstone\\\\Capstone-Project-I\\\\notebooks\\\\Leab_notebooks\\\\Models\\\\label_encoder.pkl\"\n",
    "joblib.dump(label_encoder_disease, label_encoder_file_path)\n",
    "print(f\"LabelEncoder saved to {label_encoder_file_path}\")"
   ]
  },
  {
   "cell_type": "code",
   "execution_count": 24,
   "metadata": {},
   "outputs": [
    {
     "name": "stdout",
     "output_type": "stream",
     "text": [
      "Classification Report:\n",
      "                  precision    recall  f1-score   support\n",
      "\n",
      "    Chicken pox       1.00      1.00      1.00        36\n",
      "    Common Cold       1.00      1.00      1.00        36\n",
      "         Dengue       1.00      1.00      1.00        36\n",
      "      Diabetes        1.00      0.81      0.89        36\n",
      "    Hepatitis B       1.00      1.00      1.00        36\n",
      "    Hepatitis D       0.77      0.92      0.84        36\n",
      "    Hepatitis E       1.00      1.00      1.00        36\n",
      "Hyperthyroidism       0.92      0.92      0.92        36\n",
      "   Hypoglycemia       0.90      1.00      0.95        36\n",
      " Hypothyroidism       1.00      0.83      0.91        36\n",
      "       Migraine       1.00      1.00      1.00        36\n",
      "      Pneumonia       0.95      1.00      0.97        36\n",
      "   Tuberculosis       1.00      1.00      1.00        36\n",
      "        Typhoid       1.00      1.00      1.00        36\n",
      "    hepatitis A       1.00      1.00      1.00        36\n",
      "\n",
      "       accuracy                           0.96       540\n",
      "      macro avg       0.97      0.96      0.96       540\n",
      "   weighted avg       0.97      0.96      0.96       540\n",
      "\n",
      "Accuracy Score: 0.9648148148148148\n",
      "Confusion Matrix:\n",
      " [[36  0  0  0  0  0  0  0  0  0  0  0  0  0  0]\n",
      " [ 0 36  0  0  0  0  0  0  0  0  0  0  0  0  0]\n",
      " [ 0  0 36  0  0  0  0  0  0  0  0  0  0  0  0]\n",
      " [ 0  0  0 29  0  7  0  0  0  0  0  0  0  0  0]\n",
      " [ 0  0  0  0 36  0  0  0  0  0  0  0  0  0  0]\n",
      " [ 0  0  0  0  0 33  0  3  0  0  0  0  0  0  0]\n",
      " [ 0  0  0  0  0  0 36  0  0  0  0  0  0  0  0]\n",
      " [ 0  0  0  0  0  3  0 33  0  0  0  0  0  0  0]\n",
      " [ 0  0  0  0  0  0  0  0 36  0  0  0  0  0  0]\n",
      " [ 0  0  0  0  0  0  0  0  4 30  0  2  0  0  0]\n",
      " [ 0  0  0  0  0  0  0  0  0  0 36  0  0  0  0]\n",
      " [ 0  0  0  0  0  0  0  0  0  0  0 36  0  0  0]\n",
      " [ 0  0  0  0  0  0  0  0  0  0  0  0 36  0  0]\n",
      " [ 0  0  0  0  0  0  0  0  0  0  0  0  0 36  0]\n",
      " [ 0  0  0  0  0  0  0  0  0  0  0  0  0  0 36]]\n"
     ]
    }
   ],
   "source": [
    "# Evaluate the model\n",
    "y_pred = model.predict(x_test)\n",
    "\n",
    "# Define the label encoder for diseases\n",
    "label_encoder_disease = LabelEncoder()\n",
    "label_encoder_disease.fit(df['Disease'])\n",
    "\n",
    "# Get the disease names from the label encoder\n",
    "disease_names = label_encoder_disease.inverse_transform(range(len(label_encoder_disease.classes_)))\n",
    "\n",
    "# Generate the classification report with disease names\n",
    "classification = classification_report(y_test, y_pred, target_names=disease_names)\n",
    "print(\"Classification Report:\\n\", classification)\n",
    "\n",
    "# Calculate and print the accuracy score\n",
    "accuracy = accuracy_score(y_test, y_pred)\n",
    "print(\"Accuracy Score:\", accuracy)\n",
    "\n",
    "# Generate and print the confusion matrix\n",
    "confusion = confusion_matrix(y_test, y_pred)\n",
    "print(\"Confusion Matrix:\\n\", confusion)"
   ]
  },
  {
   "cell_type": "code",
   "execution_count": 25,
   "metadata": {},
   "outputs": [
    {
     "name": "stdout",
     "output_type": "stream",
     "text": [
      "Train model saved to D:\\CADT University\\CADT-Y3\\CodeAllSub\\Capstone\\Capstone-Project-I\\notebooks\\Leab_notebooks\\Models\\logistic_regression_model.pkl\n"
     ]
    }
   ],
   "source": [
    "#Save the trained model\n",
    "model_file_path = r\"D:\\CADT University\\CADT-Y3\\CodeAllSub\\Capstone\\Capstone-Project-I\\notebooks\\Leab_notebooks\\Models\\logistic_regression_model.pkl\"\n",
    "joblib.dump(model, model_file_path)\n",
    "print(f\"Train model saved to {model_file_path}\")"
   ]
  }
 ],
 "metadata": {
  "kernelspec": {
   "display_name": "condaEnv",
   "language": "python",
   "name": "python3"
  },
  "language_info": {
   "codemirror_mode": {
    "name": "ipython",
    "version": 3
   },
   "file_extension": ".py",
   "mimetype": "text/x-python",
   "name": "python",
   "nbconvert_exporter": "python",
   "pygments_lexer": "ipython3",
   "version": "3.12.9"
  }
 },
 "nbformat": 4,
 "nbformat_minor": 2
}
