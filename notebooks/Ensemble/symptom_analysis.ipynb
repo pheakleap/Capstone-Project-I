{
 "cells": [
  {
   "cell_type": "code",
   "execution_count": 1,
   "metadata": {},
   "outputs": [],
   "source": [
    "import pandas as pd\n",
    "import numpy as np\n",
    "from scipy.stats import chi2_contingency\n",
    "import networkx as nx\n",
    "import matplotlib.pyplot as plt\n",
    "import seaborn as sns\n",
    "import joblib"
   ]
  },
  {
   "cell_type": "markdown",
   "metadata": {},
   "source": []
  },
  {
   "cell_type": "code",
   "execution_count": 2,
   "metadata": {},
   "outputs": [],
   "source": [
    "# Load data\n",
    "X_train = pd.read_csv('../../data/processed/enhanced_X_train.csv')"
   ]
  },
  {
   "cell_type": "code",
   "execution_count": 3,
   "metadata": {},
   "outputs": [],
   "source": [
    "def analyze_symptom_correlations(X):\n",
    "    \"\"\"Analyze correlations between symptoms\"\"\"\n",
    "    corr_matrix = X.corr()\n",
    "\n",
    "    # 🔹 Reduce the heatmap size for clarity\n",
    "    plt.figure(figsize=(12, 12))\n",
    "    sns.heatmap(corr_matrix, cmap='coolwarm', xticklabels=False, yticklabels=False)\n",
    "    plt.title('Symptom Correlations (Heatmap)')\n",
    "    plt.tight_layout()\n",
    "    plt.savefig('../../src/visualizations/symptom_correlations.png')\n",
    "    plt.close()\n",
    "\n",
    "    return corr_matrix"
   ]
  },
  {
   "cell_type": "code",
   "execution_count": 4,
   "metadata": {},
   "outputs": [],
   "source": [
    "def create_symptom_network(corr_matrix, threshold=0.3):\n",
    "    \"\"\"Create network graph of related symptoms\"\"\"\n",
    "    G = nx.Graph()\n",
    "\n",
    "    for i in range(len(corr_matrix)):\n",
    "        for j in range(i+1, len(corr_matrix)):\n",
    "            if abs(corr_matrix.iloc[i, j]) > threshold:\n",
    "                G.add_edge(corr_matrix.index[i], \n",
    "                           corr_matrix.index[j], \n",
    "                           weight=abs(corr_matrix.iloc[i, j]))\n",
    "\n",
    "    return G"
   ]
  },
  {
   "cell_type": "code",
   "execution_count": 5,
   "metadata": {},
   "outputs": [],
   "source": [
    "def analyze_symptom_patterns():\n",
    "    \"\"\"Analyze common symptom patterns\"\"\"\n",
    "    # Your analysis code here\n",
    "    pass"
   ]
  },
  {
   "cell_type": "code",
   "execution_count": 6,
   "metadata": {},
   "outputs": [],
   "source": [
    "# Run analyses\n",
    "corr_matrix = analyze_symptom_correlations(X_train)\n",
    "symptom_network = create_symptom_network(corr_matrix)"
   ]
  },
  {
   "cell_type": "code",
   "execution_count": 7,
   "metadata": {},
   "outputs": [
    {
     "data": {
      "text/plain": [
       "['../../data/processed/symptom_analysis.joblib']"
      ]
     },
     "execution_count": 7,
     "metadata": {},
     "output_type": "execute_result"
    }
   ],
   "source": [
    "# Save results\n",
    "results = {\n",
    "    'correlation_matrix': corr_matrix,\n",
    "    'symptom_network': symptom_network\n",
    "}\n",
    "joblib.dump(results, '../../data/processed/symptom_analysis.joblib')\n"
   ]
  }
 ],
 "metadata": {
  "kernelspec": {
   "display_name": "ml_env",
   "language": "python",
   "name": "python3"
  },
  "language_info": {
   "codemirror_mode": {
    "name": "ipython",
    "version": 3
   },
   "file_extension": ".py",
   "mimetype": "text/x-python",
   "name": "python",
   "nbconvert_exporter": "python",
   "pygments_lexer": "ipython3",
   "version": "3.13.1"
  }
 },
 "nbformat": 4,
 "nbformat_minor": 2
}
