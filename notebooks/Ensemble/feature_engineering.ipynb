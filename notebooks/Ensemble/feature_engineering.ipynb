{
 "cells": [
  {
   "cell_type": "code",
   "execution_count": 1,
   "metadata": {},
   "outputs": [],
   "source": [
    "import pandas as pd\n",
    "import joblib"
   ]
  },
  {
   "cell_type": "code",
   "execution_count": 2,
   "metadata": {},
   "outputs": [],
   "source": [
    "# Load preprocessed data\n",
    "X_train = pd.read_csv('../../data/processed/preprocessed_X_train.csv')\n",
    "X_test = pd.read_csv('../../data/processed/preprocessed_X_test.csv')\n",
    "y_train = pd.read_csv('../../data/processed/preprocessed_y_train.csv').values.ravel()\n",
    "y_test = pd.read_csv('../../data/processed/preprocessed_y_test.csv').values.ravel()\n",
    "severity = pd.read_csv('../../data/raw/Symptom-severity.csv')"
   ]
  },
  {
   "cell_type": "code",
   "execution_count": 3,
   "metadata": {},
   "outputs": [],
   "source": [
    "# create severity mapping\n",
    "severity_dict = dict(zip(severity['Symptom'], severity['weight']))"
   ]
  },
  {
   "cell_type": "code",
   "execution_count": 4,
   "metadata": {},
   "outputs": [],
   "source": [
    "# Ensure columns in X match severity_dict keys\n",
    "severity_weights = X_train.columns.map(lambda col: severity_dict.get(col, 0))"
   ]
  },
  {
   "cell_type": "code",
   "execution_count": 5,
   "metadata": {},
   "outputs": [],
   "source": [
    "#severity-based features\n",
    "for X in [X_train, X_test]:  # Apply the same transformation to both sets\n",
    "    X['total_severity'] = X.mul(severity_weights, axis=1).sum(axis=1)\n",
    "    X['symptom_count'] = (X > 0).sum(axis=1)\n",
    "    X['avg_severity'] = X['total_severity'] / X['symptom_count'].replace(0, 1)"
   ]
  },
  {
   "cell_type": "code",
   "execution_count": 6,
   "metadata": {},
   "outputs": [],
   "source": [
    "# Save features\n",
    "X_train.to_csv('../../data/processed/enhanced_X_train.csv', index=False)\n",
    "X_test.to_csv('../../data/processed/enhanced_X_test.csv', index=False)\n",
    "pd.Series(y_train).to_csv('../../data/processed/enhanced_y_train.csv', index=False)\n",
    "pd.Series(y_test).to_csv('../../data/processed/enhanced_y_test.csv', index=False)"
   ]
  }
 ],
 "metadata": {
  "kernelspec": {
   "display_name": "ml_env",
   "language": "python",
   "name": "python3"
  },
  "language_info": {
   "codemirror_mode": {
    "name": "ipython",
    "version": 3
   },
   "file_extension": ".py",
   "mimetype": "text/x-python",
   "name": "python",
   "nbconvert_exporter": "python",
   "pygments_lexer": "ipython3",
   "version": "3.13.1"
  }
 },
 "nbformat": 4,
 "nbformat_minor": 2
}
