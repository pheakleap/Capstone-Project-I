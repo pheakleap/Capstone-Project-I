{
 "cells": [
  {
   "cell_type": "code",
   "execution_count": 8,
   "metadata": {},
   "outputs": [],
   "source": [
    "import pandas as pd\n",
    "import numpy as np\n",
    "from sklearn.preprocessing import LabelEncoder, StandardScaler\n",
    "from sklearn.model_selection import train_test_split\n",
    "import joblib\n",
    "\n"
   ]
  },
  {
   "cell_type": "code",
   "execution_count": 9,
   "metadata": {},
   "outputs": [],
   "source": [
    "# 1. Load the data\n",
    "dataset = pd.read_csv('../../data/raw/dataset.csv')\n",
    "severity = pd.read_csv('../../data/raw/Symptom-severity.csv')"
   ]
  },
  {
   "cell_type": "code",
   "execution_count": 10,
   "metadata": {},
   "outputs": [],
   "source": [
    "severity_dict = dict(zip(severity['Symptom'], severity['weight']))"
   ]
  },
  {
   "cell_type": "code",
   "execution_count": 11,
   "metadata": {},
   "outputs": [],
   "source": [
    "#create symptom encoder\n",
    "all_symptoms = []\n",
    "for col in dataset.columns:\n",
    "    if 'Symptom_' in col:\n",
    "        all_symptoms.extend(dataset[col].dropna().unique())\n",
    "unique_symptoms = list(set(all_symptoms) | set(severity['Symptom'].unique()))"
   ]
  },
  {
   "cell_type": "code",
   "execution_count": null,
   "metadata": {},
   "outputs": [],
   "source": [
    "def create_symptom_features(row):\n",
    "    symptoms_dict = {symptom: 0 for symptom in unique_symptoms}  # Step 1: Initialize all symptoms to 0\n",
    "    \n",
    "    for col in dataset.columns:\n",
    "        if 'Symptom_' in col and pd.notna(row[col]):  # Step 2: Check if symptom exists\n",
    "            symptom = row[col].strip()  \n",
    "            if symptom in severity_dict:\n",
    "                symptoms_dict[symptom] = severity_dict[symptom]  # Assign severity score\n",
    "    return pd.Series(symptoms_dict)"
   ]
  },
  {
   "cell_type": "code",
   "execution_count": 13,
   "metadata": {},
   "outputs": [
    {
     "name": "stdout",
     "output_type": "stream",
     "text": [
      "Fixed Preprocessing - Nonzero values: 36330\n"
     ]
    }
   ],
   "source": [
    "X_preprocessed = dataset.apply(create_symptom_features, axis=1)\n",
    "print(\"Fixed Preprocessing - Nonzero values:\", (X_preprocessed != 0).sum().sum())\n"
   ]
  },
  {
   "cell_type": "code",
   "execution_count": 15,
   "metadata": {},
   "outputs": [
    {
     "data": {
      "text/plain": [
       "['../../data/processed/disease_mapping.joblib']"
      ]
     },
     "execution_count": 15,
     "metadata": {},
     "output_type": "execute_result"
    }
   ],
   "source": [
    "# encode the target (disease)\n",
    "le = LabelEncoder()\n",
    "y = le.fit_transform(dataset['Disease'])\n",
    "\n",
    "disease_mapping = dict(zip(le.classes_, range(len(le.classes_))))\n",
    "joblib.dump(disease_mapping, '../../data/processed/disease_mapping.joblib')"
   ]
  },
  {
   "cell_type": "code",
   "execution_count": 17,
   "metadata": {},
   "outputs": [],
   "source": [
    "#Train-Test Split\n",
    "X_train, X_test, y_train, y_test = train_test_split(\n",
    "    X_preprocessed, y, test_size=0.2, random_state=42, stratify=y\n",
    ")\n"
   ]
  },
  {
   "cell_type": "code",
   "execution_count": 18,
   "metadata": {},
   "outputs": [
    {
     "data": {
      "text/plain": [
       "['../../data/processed/scaler.joblib']"
      ]
     },
     "execution_count": 18,
     "metadata": {},
     "output_type": "execute_result"
    }
   ],
   "source": [
    "# Scale Features\n",
    "scaler = StandardScaler()\n",
    "X_train_scaled = scaler.fit_transform(X_train)\n",
    "X_test_scaled = scaler.transform(X_test)\n",
    "joblib.dump(scaler, '../../data/processed/scaler.joblib')\n"
   ]
  },
  {
   "cell_type": "code",
   "execution_count": 52,
   "metadata": {},
   "outputs": [
    {
     "data": {
      "text/plain": [
       "['../../data/processed/label_encoder.joblib']"
      ]
     },
     "execution_count": 52,
     "metadata": {},
     "output_type": "execute_result"
    }
   ],
   "source": [
    "joblib.dump(le, '../../data/processed/label_encoder.joblib')"
   ]
  },
  {
   "cell_type": "code",
   "execution_count": 53,
   "metadata": {},
   "outputs": [],
   "source": [
    "pd.DataFrame(X_train_scaled, columns=X.columns).to_csv('../../data/processed/preprocessed_X_train.csv', index=False)\n",
    "pd.DataFrame(X_test_scaled, columns=X.columns).to_csv('../../data/processed/preprocessed_X_test.csv', index=False)\n",
    "pd.Series(y_train).to_csv('../../data/processed/preprocessed_y_train.csv', index=False)\n",
    "pd.Series(y_test).to_csv('../../data/processed/preprocessed_y_test.csv', index=False)"
   ]
  },
  {
   "cell_type": "code",
   "execution_count": 54,
   "metadata": {},
   "outputs": [
    {
     "name": "stdout",
     "output_type": "stream",
     "text": [
      "Data preprocessing completed!\n",
      "Number of features: 262\n",
      "Number of classes: 41\n"
     ]
    }
   ],
   "source": [
    "print(\"Data preprocessing completed!\")\n",
    "print(f\"Number of features: {X.shape[1]}\")\n",
    "print(f\"Number of classes: {len(le.classes_)}\")"
   ]
  }
 ],
 "metadata": {
  "kernelspec": {
   "display_name": "conda_env",
   "language": "python",
   "name": "python3"
  },
  "language_info": {
   "codemirror_mode": {
    "name": "ipython",
    "version": 3
   },
   "file_extension": ".py",
   "mimetype": "text/x-python",
   "name": "python",
   "nbconvert_exporter": "python",
   "pygments_lexer": "ipython3",
   "version": "3.12.9"
  }
 },
 "nbformat": 4,
 "nbformat_minor": 2
}
